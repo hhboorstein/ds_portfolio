{
  "nbformat": 4,
  "nbformat_minor": 0,
  "metadata": {
    "colab": {
      "provenance": [],
      "authorship_tag": "ABX9TyODQUUh4fVkQKMUnmtiZsTP",
      "include_colab_link": true
    },
    "kernelspec": {
      "name": "python3",
      "display_name": "Python 3"
    },
    "language_info": {
      "name": "python"
    },
    "accelerator": "GPU",
    "gpuClass": "standard",
    "widgets": {
      "application/vnd.jupyter.widget-state+json": {
        "838337556e094249bfbf091be6d37ae1": {
          "model_module": "@jupyter-widgets/controls",
          "model_name": "HBoxModel",
          "model_module_version": "1.5.0",
          "state": {
            "_dom_classes": [],
            "_model_module": "@jupyter-widgets/controls",
            "_model_module_version": "1.5.0",
            "_model_name": "HBoxModel",
            "_view_count": null,
            "_view_module": "@jupyter-widgets/controls",
            "_view_module_version": "1.5.0",
            "_view_name": "HBoxView",
            "box_style": "",
            "children": [
              "IPY_MODEL_50783ffb9a4b4536a30fac09c92bf02c",
              "IPY_MODEL_1f61333ffd3649c087df6dffe4300050",
              "IPY_MODEL_550e99daa7f345b0bacf26aa27b98b31"
            ],
            "layout": "IPY_MODEL_468c698648ef449e95653d3b6d7768ab"
          }
        },
        "50783ffb9a4b4536a30fac09c92bf02c": {
          "model_module": "@jupyter-widgets/controls",
          "model_name": "HTMLModel",
          "model_module_version": "1.5.0",
          "state": {
            "_dom_classes": [],
            "_model_module": "@jupyter-widgets/controls",
            "_model_module_version": "1.5.0",
            "_model_name": "HTMLModel",
            "_view_count": null,
            "_view_module": "@jupyter-widgets/controls",
            "_view_module_version": "1.5.0",
            "_view_name": "HTMLView",
            "description": "",
            "description_tooltip": null,
            "layout": "IPY_MODEL_39326b0332ec4675adf07b6c0275bfcd",
            "placeholder": "​",
            "style": "IPY_MODEL_ee917ad4571c4106b782cf747b016b3f",
            "value": "100%"
          }
        },
        "1f61333ffd3649c087df6dffe4300050": {
          "model_module": "@jupyter-widgets/controls",
          "model_name": "FloatProgressModel",
          "model_module_version": "1.5.0",
          "state": {
            "_dom_classes": [],
            "_model_module": "@jupyter-widgets/controls",
            "_model_module_version": "1.5.0",
            "_model_name": "FloatProgressModel",
            "_view_count": null,
            "_view_module": "@jupyter-widgets/controls",
            "_view_module_version": "1.5.0",
            "_view_name": "ProgressView",
            "bar_style": "success",
            "description": "",
            "description_tooltip": null,
            "layout": "IPY_MODEL_08231b287fbb434a9daf26128dca3c90",
            "max": 9912422,
            "min": 0,
            "orientation": "horizontal",
            "style": "IPY_MODEL_be9c7d38a9bd4aaaa338845306713aa5",
            "value": 9912422
          }
        },
        "550e99daa7f345b0bacf26aa27b98b31": {
          "model_module": "@jupyter-widgets/controls",
          "model_name": "HTMLModel",
          "model_module_version": "1.5.0",
          "state": {
            "_dom_classes": [],
            "_model_module": "@jupyter-widgets/controls",
            "_model_module_version": "1.5.0",
            "_model_name": "HTMLModel",
            "_view_count": null,
            "_view_module": "@jupyter-widgets/controls",
            "_view_module_version": "1.5.0",
            "_view_name": "HTMLView",
            "description": "",
            "description_tooltip": null,
            "layout": "IPY_MODEL_1919d243d98e4cbf817e442d437c075c",
            "placeholder": "​",
            "style": "IPY_MODEL_d1f71406a9494c82a50d68a2a1bc9a30",
            "value": " 9912422/9912422 [00:00&lt;00:00, 10528778.11it/s]"
          }
        },
        "468c698648ef449e95653d3b6d7768ab": {
          "model_module": "@jupyter-widgets/base",
          "model_name": "LayoutModel",
          "model_module_version": "1.2.0",
          "state": {
            "_model_module": "@jupyter-widgets/base",
            "_model_module_version": "1.2.0",
            "_model_name": "LayoutModel",
            "_view_count": null,
            "_view_module": "@jupyter-widgets/base",
            "_view_module_version": "1.2.0",
            "_view_name": "LayoutView",
            "align_content": null,
            "align_items": null,
            "align_self": null,
            "border": null,
            "bottom": null,
            "display": null,
            "flex": null,
            "flex_flow": null,
            "grid_area": null,
            "grid_auto_columns": null,
            "grid_auto_flow": null,
            "grid_auto_rows": null,
            "grid_column": null,
            "grid_gap": null,
            "grid_row": null,
            "grid_template_areas": null,
            "grid_template_columns": null,
            "grid_template_rows": null,
            "height": null,
            "justify_content": null,
            "justify_items": null,
            "left": null,
            "margin": null,
            "max_height": null,
            "max_width": null,
            "min_height": null,
            "min_width": null,
            "object_fit": null,
            "object_position": null,
            "order": null,
            "overflow": null,
            "overflow_x": null,
            "overflow_y": null,
            "padding": null,
            "right": null,
            "top": null,
            "visibility": null,
            "width": null
          }
        },
        "39326b0332ec4675adf07b6c0275bfcd": {
          "model_module": "@jupyter-widgets/base",
          "model_name": "LayoutModel",
          "model_module_version": "1.2.0",
          "state": {
            "_model_module": "@jupyter-widgets/base",
            "_model_module_version": "1.2.0",
            "_model_name": "LayoutModel",
            "_view_count": null,
            "_view_module": "@jupyter-widgets/base",
            "_view_module_version": "1.2.0",
            "_view_name": "LayoutView",
            "align_content": null,
            "align_items": null,
            "align_self": null,
            "border": null,
            "bottom": null,
            "display": null,
            "flex": null,
            "flex_flow": null,
            "grid_area": null,
            "grid_auto_columns": null,
            "grid_auto_flow": null,
            "grid_auto_rows": null,
            "grid_column": null,
            "grid_gap": null,
            "grid_row": null,
            "grid_template_areas": null,
            "grid_template_columns": null,
            "grid_template_rows": null,
            "height": null,
            "justify_content": null,
            "justify_items": null,
            "left": null,
            "margin": null,
            "max_height": null,
            "max_width": null,
            "min_height": null,
            "min_width": null,
            "object_fit": null,
            "object_position": null,
            "order": null,
            "overflow": null,
            "overflow_x": null,
            "overflow_y": null,
            "padding": null,
            "right": null,
            "top": null,
            "visibility": null,
            "width": null
          }
        },
        "ee917ad4571c4106b782cf747b016b3f": {
          "model_module": "@jupyter-widgets/controls",
          "model_name": "DescriptionStyleModel",
          "model_module_version": "1.5.0",
          "state": {
            "_model_module": "@jupyter-widgets/controls",
            "_model_module_version": "1.5.0",
            "_model_name": "DescriptionStyleModel",
            "_view_count": null,
            "_view_module": "@jupyter-widgets/base",
            "_view_module_version": "1.2.0",
            "_view_name": "StyleView",
            "description_width": ""
          }
        },
        "08231b287fbb434a9daf26128dca3c90": {
          "model_module": "@jupyter-widgets/base",
          "model_name": "LayoutModel",
          "model_module_version": "1.2.0",
          "state": {
            "_model_module": "@jupyter-widgets/base",
            "_model_module_version": "1.2.0",
            "_model_name": "LayoutModel",
            "_view_count": null,
            "_view_module": "@jupyter-widgets/base",
            "_view_module_version": "1.2.0",
            "_view_name": "LayoutView",
            "align_content": null,
            "align_items": null,
            "align_self": null,
            "border": null,
            "bottom": null,
            "display": null,
            "flex": null,
            "flex_flow": null,
            "grid_area": null,
            "grid_auto_columns": null,
            "grid_auto_flow": null,
            "grid_auto_rows": null,
            "grid_column": null,
            "grid_gap": null,
            "grid_row": null,
            "grid_template_areas": null,
            "grid_template_columns": null,
            "grid_template_rows": null,
            "height": null,
            "justify_content": null,
            "justify_items": null,
            "left": null,
            "margin": null,
            "max_height": null,
            "max_width": null,
            "min_height": null,
            "min_width": null,
            "object_fit": null,
            "object_position": null,
            "order": null,
            "overflow": null,
            "overflow_x": null,
            "overflow_y": null,
            "padding": null,
            "right": null,
            "top": null,
            "visibility": null,
            "width": null
          }
        },
        "be9c7d38a9bd4aaaa338845306713aa5": {
          "model_module": "@jupyter-widgets/controls",
          "model_name": "ProgressStyleModel",
          "model_module_version": "1.5.0",
          "state": {
            "_model_module": "@jupyter-widgets/controls",
            "_model_module_version": "1.5.0",
            "_model_name": "ProgressStyleModel",
            "_view_count": null,
            "_view_module": "@jupyter-widgets/base",
            "_view_module_version": "1.2.0",
            "_view_name": "StyleView",
            "bar_color": null,
            "description_width": ""
          }
        },
        "1919d243d98e4cbf817e442d437c075c": {
          "model_module": "@jupyter-widgets/base",
          "model_name": "LayoutModel",
          "model_module_version": "1.2.0",
          "state": {
            "_model_module": "@jupyter-widgets/base",
            "_model_module_version": "1.2.0",
            "_model_name": "LayoutModel",
            "_view_count": null,
            "_view_module": "@jupyter-widgets/base",
            "_view_module_version": "1.2.0",
            "_view_name": "LayoutView",
            "align_content": null,
            "align_items": null,
            "align_self": null,
            "border": null,
            "bottom": null,
            "display": null,
            "flex": null,
            "flex_flow": null,
            "grid_area": null,
            "grid_auto_columns": null,
            "grid_auto_flow": null,
            "grid_auto_rows": null,
            "grid_column": null,
            "grid_gap": null,
            "grid_row": null,
            "grid_template_areas": null,
            "grid_template_columns": null,
            "grid_template_rows": null,
            "height": null,
            "justify_content": null,
            "justify_items": null,
            "left": null,
            "margin": null,
            "max_height": null,
            "max_width": null,
            "min_height": null,
            "min_width": null,
            "object_fit": null,
            "object_position": null,
            "order": null,
            "overflow": null,
            "overflow_x": null,
            "overflow_y": null,
            "padding": null,
            "right": null,
            "top": null,
            "visibility": null,
            "width": null
          }
        },
        "d1f71406a9494c82a50d68a2a1bc9a30": {
          "model_module": "@jupyter-widgets/controls",
          "model_name": "DescriptionStyleModel",
          "model_module_version": "1.5.0",
          "state": {
            "_model_module": "@jupyter-widgets/controls",
            "_model_module_version": "1.5.0",
            "_model_name": "DescriptionStyleModel",
            "_view_count": null,
            "_view_module": "@jupyter-widgets/base",
            "_view_module_version": "1.2.0",
            "_view_name": "StyleView",
            "description_width": ""
          }
        },
        "3267930c7f0e437b8a8167890cfa8fa3": {
          "model_module": "@jupyter-widgets/controls",
          "model_name": "HBoxModel",
          "model_module_version": "1.5.0",
          "state": {
            "_dom_classes": [],
            "_model_module": "@jupyter-widgets/controls",
            "_model_module_version": "1.5.0",
            "_model_name": "HBoxModel",
            "_view_count": null,
            "_view_module": "@jupyter-widgets/controls",
            "_view_module_version": "1.5.0",
            "_view_name": "HBoxView",
            "box_style": "",
            "children": [
              "IPY_MODEL_41f8ff2b1fda450fa13e6fd5bfc1743e",
              "IPY_MODEL_54d10605b12148c7b08a19558346bbe0",
              "IPY_MODEL_654aa11eef634cf0994a2132563000d3"
            ],
            "layout": "IPY_MODEL_000663cb3c564891a9ec1dbf1ece7248"
          }
        },
        "41f8ff2b1fda450fa13e6fd5bfc1743e": {
          "model_module": "@jupyter-widgets/controls",
          "model_name": "HTMLModel",
          "model_module_version": "1.5.0",
          "state": {
            "_dom_classes": [],
            "_model_module": "@jupyter-widgets/controls",
            "_model_module_version": "1.5.0",
            "_model_name": "HTMLModel",
            "_view_count": null,
            "_view_module": "@jupyter-widgets/controls",
            "_view_module_version": "1.5.0",
            "_view_name": "HTMLView",
            "description": "",
            "description_tooltip": null,
            "layout": "IPY_MODEL_f22578da4e6a4d759a1f2093eff1e548",
            "placeholder": "​",
            "style": "IPY_MODEL_eec92e6c5cd54628af39f021bd269870",
            "value": "100%"
          }
        },
        "54d10605b12148c7b08a19558346bbe0": {
          "model_module": "@jupyter-widgets/controls",
          "model_name": "FloatProgressModel",
          "model_module_version": "1.5.0",
          "state": {
            "_dom_classes": [],
            "_model_module": "@jupyter-widgets/controls",
            "_model_module_version": "1.5.0",
            "_model_name": "FloatProgressModel",
            "_view_count": null,
            "_view_module": "@jupyter-widgets/controls",
            "_view_module_version": "1.5.0",
            "_view_name": "ProgressView",
            "bar_style": "success",
            "description": "",
            "description_tooltip": null,
            "layout": "IPY_MODEL_85e15a8824df4df693959ef6995bd7ed",
            "max": 28881,
            "min": 0,
            "orientation": "horizontal",
            "style": "IPY_MODEL_2b73b6669d114c1d8a5feaba96bfae38",
            "value": 28881
          }
        },
        "654aa11eef634cf0994a2132563000d3": {
          "model_module": "@jupyter-widgets/controls",
          "model_name": "HTMLModel",
          "model_module_version": "1.5.0",
          "state": {
            "_dom_classes": [],
            "_model_module": "@jupyter-widgets/controls",
            "_model_module_version": "1.5.0",
            "_model_name": "HTMLModel",
            "_view_count": null,
            "_view_module": "@jupyter-widgets/controls",
            "_view_module_version": "1.5.0",
            "_view_name": "HTMLView",
            "description": "",
            "description_tooltip": null,
            "layout": "IPY_MODEL_aaff446d2ec8411e91b4bd8b18ee83c8",
            "placeholder": "​",
            "style": "IPY_MODEL_0386efabcd7f4a64a2f843bed2627ddb",
            "value": " 28881/28881 [00:00&lt;00:00, 928698.32it/s]"
          }
        },
        "000663cb3c564891a9ec1dbf1ece7248": {
          "model_module": "@jupyter-widgets/base",
          "model_name": "LayoutModel",
          "model_module_version": "1.2.0",
          "state": {
            "_model_module": "@jupyter-widgets/base",
            "_model_module_version": "1.2.0",
            "_model_name": "LayoutModel",
            "_view_count": null,
            "_view_module": "@jupyter-widgets/base",
            "_view_module_version": "1.2.0",
            "_view_name": "LayoutView",
            "align_content": null,
            "align_items": null,
            "align_self": null,
            "border": null,
            "bottom": null,
            "display": null,
            "flex": null,
            "flex_flow": null,
            "grid_area": null,
            "grid_auto_columns": null,
            "grid_auto_flow": null,
            "grid_auto_rows": null,
            "grid_column": null,
            "grid_gap": null,
            "grid_row": null,
            "grid_template_areas": null,
            "grid_template_columns": null,
            "grid_template_rows": null,
            "height": null,
            "justify_content": null,
            "justify_items": null,
            "left": null,
            "margin": null,
            "max_height": null,
            "max_width": null,
            "min_height": null,
            "min_width": null,
            "object_fit": null,
            "object_position": null,
            "order": null,
            "overflow": null,
            "overflow_x": null,
            "overflow_y": null,
            "padding": null,
            "right": null,
            "top": null,
            "visibility": null,
            "width": null
          }
        },
        "f22578da4e6a4d759a1f2093eff1e548": {
          "model_module": "@jupyter-widgets/base",
          "model_name": "LayoutModel",
          "model_module_version": "1.2.0",
          "state": {
            "_model_module": "@jupyter-widgets/base",
            "_model_module_version": "1.2.0",
            "_model_name": "LayoutModel",
            "_view_count": null,
            "_view_module": "@jupyter-widgets/base",
            "_view_module_version": "1.2.0",
            "_view_name": "LayoutView",
            "align_content": null,
            "align_items": null,
            "align_self": null,
            "border": null,
            "bottom": null,
            "display": null,
            "flex": null,
            "flex_flow": null,
            "grid_area": null,
            "grid_auto_columns": null,
            "grid_auto_flow": null,
            "grid_auto_rows": null,
            "grid_column": null,
            "grid_gap": null,
            "grid_row": null,
            "grid_template_areas": null,
            "grid_template_columns": null,
            "grid_template_rows": null,
            "height": null,
            "justify_content": null,
            "justify_items": null,
            "left": null,
            "margin": null,
            "max_height": null,
            "max_width": null,
            "min_height": null,
            "min_width": null,
            "object_fit": null,
            "object_position": null,
            "order": null,
            "overflow": null,
            "overflow_x": null,
            "overflow_y": null,
            "padding": null,
            "right": null,
            "top": null,
            "visibility": null,
            "width": null
          }
        },
        "eec92e6c5cd54628af39f021bd269870": {
          "model_module": "@jupyter-widgets/controls",
          "model_name": "DescriptionStyleModel",
          "model_module_version": "1.5.0",
          "state": {
            "_model_module": "@jupyter-widgets/controls",
            "_model_module_version": "1.5.0",
            "_model_name": "DescriptionStyleModel",
            "_view_count": null,
            "_view_module": "@jupyter-widgets/base",
            "_view_module_version": "1.2.0",
            "_view_name": "StyleView",
            "description_width": ""
          }
        },
        "85e15a8824df4df693959ef6995bd7ed": {
          "model_module": "@jupyter-widgets/base",
          "model_name": "LayoutModel",
          "model_module_version": "1.2.0",
          "state": {
            "_model_module": "@jupyter-widgets/base",
            "_model_module_version": "1.2.0",
            "_model_name": "LayoutModel",
            "_view_count": null,
            "_view_module": "@jupyter-widgets/base",
            "_view_module_version": "1.2.0",
            "_view_name": "LayoutView",
            "align_content": null,
            "align_items": null,
            "align_self": null,
            "border": null,
            "bottom": null,
            "display": null,
            "flex": null,
            "flex_flow": null,
            "grid_area": null,
            "grid_auto_columns": null,
            "grid_auto_flow": null,
            "grid_auto_rows": null,
            "grid_column": null,
            "grid_gap": null,
            "grid_row": null,
            "grid_template_areas": null,
            "grid_template_columns": null,
            "grid_template_rows": null,
            "height": null,
            "justify_content": null,
            "justify_items": null,
            "left": null,
            "margin": null,
            "max_height": null,
            "max_width": null,
            "min_height": null,
            "min_width": null,
            "object_fit": null,
            "object_position": null,
            "order": null,
            "overflow": null,
            "overflow_x": null,
            "overflow_y": null,
            "padding": null,
            "right": null,
            "top": null,
            "visibility": null,
            "width": null
          }
        },
        "2b73b6669d114c1d8a5feaba96bfae38": {
          "model_module": "@jupyter-widgets/controls",
          "model_name": "ProgressStyleModel",
          "model_module_version": "1.5.0",
          "state": {
            "_model_module": "@jupyter-widgets/controls",
            "_model_module_version": "1.5.0",
            "_model_name": "ProgressStyleModel",
            "_view_count": null,
            "_view_module": "@jupyter-widgets/base",
            "_view_module_version": "1.2.0",
            "_view_name": "StyleView",
            "bar_color": null,
            "description_width": ""
          }
        },
        "aaff446d2ec8411e91b4bd8b18ee83c8": {
          "model_module": "@jupyter-widgets/base",
          "model_name": "LayoutModel",
          "model_module_version": "1.2.0",
          "state": {
            "_model_module": "@jupyter-widgets/base",
            "_model_module_version": "1.2.0",
            "_model_name": "LayoutModel",
            "_view_count": null,
            "_view_module": "@jupyter-widgets/base",
            "_view_module_version": "1.2.0",
            "_view_name": "LayoutView",
            "align_content": null,
            "align_items": null,
            "align_self": null,
            "border": null,
            "bottom": null,
            "display": null,
            "flex": null,
            "flex_flow": null,
            "grid_area": null,
            "grid_auto_columns": null,
            "grid_auto_flow": null,
            "grid_auto_rows": null,
            "grid_column": null,
            "grid_gap": null,
            "grid_row": null,
            "grid_template_areas": null,
            "grid_template_columns": null,
            "grid_template_rows": null,
            "height": null,
            "justify_content": null,
            "justify_items": null,
            "left": null,
            "margin": null,
            "max_height": null,
            "max_width": null,
            "min_height": null,
            "min_width": null,
            "object_fit": null,
            "object_position": null,
            "order": null,
            "overflow": null,
            "overflow_x": null,
            "overflow_y": null,
            "padding": null,
            "right": null,
            "top": null,
            "visibility": null,
            "width": null
          }
        },
        "0386efabcd7f4a64a2f843bed2627ddb": {
          "model_module": "@jupyter-widgets/controls",
          "model_name": "DescriptionStyleModel",
          "model_module_version": "1.5.0",
          "state": {
            "_model_module": "@jupyter-widgets/controls",
            "_model_module_version": "1.5.0",
            "_model_name": "DescriptionStyleModel",
            "_view_count": null,
            "_view_module": "@jupyter-widgets/base",
            "_view_module_version": "1.2.0",
            "_view_name": "StyleView",
            "description_width": ""
          }
        },
        "e4551fd0bd904f4ea36641f2bf2ef8a8": {
          "model_module": "@jupyter-widgets/controls",
          "model_name": "HBoxModel",
          "model_module_version": "1.5.0",
          "state": {
            "_dom_classes": [],
            "_model_module": "@jupyter-widgets/controls",
            "_model_module_version": "1.5.0",
            "_model_name": "HBoxModel",
            "_view_count": null,
            "_view_module": "@jupyter-widgets/controls",
            "_view_module_version": "1.5.0",
            "_view_name": "HBoxView",
            "box_style": "",
            "children": [
              "IPY_MODEL_5f1db93e0c97431a81642f753e0607c9",
              "IPY_MODEL_afab6ada3a78462a850c0794b0ea583e",
              "IPY_MODEL_6802e519b4a04846a15e7078373fabf5"
            ],
            "layout": "IPY_MODEL_8d4fd2d5567a4530814d3ce161c313df"
          }
        },
        "5f1db93e0c97431a81642f753e0607c9": {
          "model_module": "@jupyter-widgets/controls",
          "model_name": "HTMLModel",
          "model_module_version": "1.5.0",
          "state": {
            "_dom_classes": [],
            "_model_module": "@jupyter-widgets/controls",
            "_model_module_version": "1.5.0",
            "_model_name": "HTMLModel",
            "_view_count": null,
            "_view_module": "@jupyter-widgets/controls",
            "_view_module_version": "1.5.0",
            "_view_name": "HTMLView",
            "description": "",
            "description_tooltip": null,
            "layout": "IPY_MODEL_85fb85dfd88844b6b89dfd4808a3254d",
            "placeholder": "​",
            "style": "IPY_MODEL_57eef26d171a49818c3aacc48241dfa8",
            "value": "100%"
          }
        },
        "afab6ada3a78462a850c0794b0ea583e": {
          "model_module": "@jupyter-widgets/controls",
          "model_name": "FloatProgressModel",
          "model_module_version": "1.5.0",
          "state": {
            "_dom_classes": [],
            "_model_module": "@jupyter-widgets/controls",
            "_model_module_version": "1.5.0",
            "_model_name": "FloatProgressModel",
            "_view_count": null,
            "_view_module": "@jupyter-widgets/controls",
            "_view_module_version": "1.5.0",
            "_view_name": "ProgressView",
            "bar_style": "success",
            "description": "",
            "description_tooltip": null,
            "layout": "IPY_MODEL_25a9b6ca28e6438588a6dae1d568fdcb",
            "max": 1648877,
            "min": 0,
            "orientation": "horizontal",
            "style": "IPY_MODEL_683672c1f3054f75822252e690add9dd",
            "value": 1648877
          }
        },
        "6802e519b4a04846a15e7078373fabf5": {
          "model_module": "@jupyter-widgets/controls",
          "model_name": "HTMLModel",
          "model_module_version": "1.5.0",
          "state": {
            "_dom_classes": [],
            "_model_module": "@jupyter-widgets/controls",
            "_model_module_version": "1.5.0",
            "_model_name": "HTMLModel",
            "_view_count": null,
            "_view_module": "@jupyter-widgets/controls",
            "_view_module_version": "1.5.0",
            "_view_name": "HTMLView",
            "description": "",
            "description_tooltip": null,
            "layout": "IPY_MODEL_c507236e58674f10a9eb82c3c38816b1",
            "placeholder": "​",
            "style": "IPY_MODEL_50c2146abd0e4df48d241eac3d5c1e8a",
            "value": " 1648877/1648877 [00:00&lt;00:00, 8823554.54it/s]"
          }
        },
        "8d4fd2d5567a4530814d3ce161c313df": {
          "model_module": "@jupyter-widgets/base",
          "model_name": "LayoutModel",
          "model_module_version": "1.2.0",
          "state": {
            "_model_module": "@jupyter-widgets/base",
            "_model_module_version": "1.2.0",
            "_model_name": "LayoutModel",
            "_view_count": null,
            "_view_module": "@jupyter-widgets/base",
            "_view_module_version": "1.2.0",
            "_view_name": "LayoutView",
            "align_content": null,
            "align_items": null,
            "align_self": null,
            "border": null,
            "bottom": null,
            "display": null,
            "flex": null,
            "flex_flow": null,
            "grid_area": null,
            "grid_auto_columns": null,
            "grid_auto_flow": null,
            "grid_auto_rows": null,
            "grid_column": null,
            "grid_gap": null,
            "grid_row": null,
            "grid_template_areas": null,
            "grid_template_columns": null,
            "grid_template_rows": null,
            "height": null,
            "justify_content": null,
            "justify_items": null,
            "left": null,
            "margin": null,
            "max_height": null,
            "max_width": null,
            "min_height": null,
            "min_width": null,
            "object_fit": null,
            "object_position": null,
            "order": null,
            "overflow": null,
            "overflow_x": null,
            "overflow_y": null,
            "padding": null,
            "right": null,
            "top": null,
            "visibility": null,
            "width": null
          }
        },
        "85fb85dfd88844b6b89dfd4808a3254d": {
          "model_module": "@jupyter-widgets/base",
          "model_name": "LayoutModel",
          "model_module_version": "1.2.0",
          "state": {
            "_model_module": "@jupyter-widgets/base",
            "_model_module_version": "1.2.0",
            "_model_name": "LayoutModel",
            "_view_count": null,
            "_view_module": "@jupyter-widgets/base",
            "_view_module_version": "1.2.0",
            "_view_name": "LayoutView",
            "align_content": null,
            "align_items": null,
            "align_self": null,
            "border": null,
            "bottom": null,
            "display": null,
            "flex": null,
            "flex_flow": null,
            "grid_area": null,
            "grid_auto_columns": null,
            "grid_auto_flow": null,
            "grid_auto_rows": null,
            "grid_column": null,
            "grid_gap": null,
            "grid_row": null,
            "grid_template_areas": null,
            "grid_template_columns": null,
            "grid_template_rows": null,
            "height": null,
            "justify_content": null,
            "justify_items": null,
            "left": null,
            "margin": null,
            "max_height": null,
            "max_width": null,
            "min_height": null,
            "min_width": null,
            "object_fit": null,
            "object_position": null,
            "order": null,
            "overflow": null,
            "overflow_x": null,
            "overflow_y": null,
            "padding": null,
            "right": null,
            "top": null,
            "visibility": null,
            "width": null
          }
        },
        "57eef26d171a49818c3aacc48241dfa8": {
          "model_module": "@jupyter-widgets/controls",
          "model_name": "DescriptionStyleModel",
          "model_module_version": "1.5.0",
          "state": {
            "_model_module": "@jupyter-widgets/controls",
            "_model_module_version": "1.5.0",
            "_model_name": "DescriptionStyleModel",
            "_view_count": null,
            "_view_module": "@jupyter-widgets/base",
            "_view_module_version": "1.2.0",
            "_view_name": "StyleView",
            "description_width": ""
          }
        },
        "25a9b6ca28e6438588a6dae1d568fdcb": {
          "model_module": "@jupyter-widgets/base",
          "model_name": "LayoutModel",
          "model_module_version": "1.2.0",
          "state": {
            "_model_module": "@jupyter-widgets/base",
            "_model_module_version": "1.2.0",
            "_model_name": "LayoutModel",
            "_view_count": null,
            "_view_module": "@jupyter-widgets/base",
            "_view_module_version": "1.2.0",
            "_view_name": "LayoutView",
            "align_content": null,
            "align_items": null,
            "align_self": null,
            "border": null,
            "bottom": null,
            "display": null,
            "flex": null,
            "flex_flow": null,
            "grid_area": null,
            "grid_auto_columns": null,
            "grid_auto_flow": null,
            "grid_auto_rows": null,
            "grid_column": null,
            "grid_gap": null,
            "grid_row": null,
            "grid_template_areas": null,
            "grid_template_columns": null,
            "grid_template_rows": null,
            "height": null,
            "justify_content": null,
            "justify_items": null,
            "left": null,
            "margin": null,
            "max_height": null,
            "max_width": null,
            "min_height": null,
            "min_width": null,
            "object_fit": null,
            "object_position": null,
            "order": null,
            "overflow": null,
            "overflow_x": null,
            "overflow_y": null,
            "padding": null,
            "right": null,
            "top": null,
            "visibility": null,
            "width": null
          }
        },
        "683672c1f3054f75822252e690add9dd": {
          "model_module": "@jupyter-widgets/controls",
          "model_name": "ProgressStyleModel",
          "model_module_version": "1.5.0",
          "state": {
            "_model_module": "@jupyter-widgets/controls",
            "_model_module_version": "1.5.0",
            "_model_name": "ProgressStyleModel",
            "_view_count": null,
            "_view_module": "@jupyter-widgets/base",
            "_view_module_version": "1.2.0",
            "_view_name": "StyleView",
            "bar_color": null,
            "description_width": ""
          }
        },
        "c507236e58674f10a9eb82c3c38816b1": {
          "model_module": "@jupyter-widgets/base",
          "model_name": "LayoutModel",
          "model_module_version": "1.2.0",
          "state": {
            "_model_module": "@jupyter-widgets/base",
            "_model_module_version": "1.2.0",
            "_model_name": "LayoutModel",
            "_view_count": null,
            "_view_module": "@jupyter-widgets/base",
            "_view_module_version": "1.2.0",
            "_view_name": "LayoutView",
            "align_content": null,
            "align_items": null,
            "align_self": null,
            "border": null,
            "bottom": null,
            "display": null,
            "flex": null,
            "flex_flow": null,
            "grid_area": null,
            "grid_auto_columns": null,
            "grid_auto_flow": null,
            "grid_auto_rows": null,
            "grid_column": null,
            "grid_gap": null,
            "grid_row": null,
            "grid_template_areas": null,
            "grid_template_columns": null,
            "grid_template_rows": null,
            "height": null,
            "justify_content": null,
            "justify_items": null,
            "left": null,
            "margin": null,
            "max_height": null,
            "max_width": null,
            "min_height": null,
            "min_width": null,
            "object_fit": null,
            "object_position": null,
            "order": null,
            "overflow": null,
            "overflow_x": null,
            "overflow_y": null,
            "padding": null,
            "right": null,
            "top": null,
            "visibility": null,
            "width": null
          }
        },
        "50c2146abd0e4df48d241eac3d5c1e8a": {
          "model_module": "@jupyter-widgets/controls",
          "model_name": "DescriptionStyleModel",
          "model_module_version": "1.5.0",
          "state": {
            "_model_module": "@jupyter-widgets/controls",
            "_model_module_version": "1.5.0",
            "_model_name": "DescriptionStyleModel",
            "_view_count": null,
            "_view_module": "@jupyter-widgets/base",
            "_view_module_version": "1.2.0",
            "_view_name": "StyleView",
            "description_width": ""
          }
        },
        "68b92888b5d14625bcb5f2247a7fc0a7": {
          "model_module": "@jupyter-widgets/controls",
          "model_name": "HBoxModel",
          "model_module_version": "1.5.0",
          "state": {
            "_dom_classes": [],
            "_model_module": "@jupyter-widgets/controls",
            "_model_module_version": "1.5.0",
            "_model_name": "HBoxModel",
            "_view_count": null,
            "_view_module": "@jupyter-widgets/controls",
            "_view_module_version": "1.5.0",
            "_view_name": "HBoxView",
            "box_style": "",
            "children": [
              "IPY_MODEL_84ba1eb55045451bb52eac96886758b9",
              "IPY_MODEL_0d35f031f2c2476ba2a24e210d6b37e5",
              "IPY_MODEL_4e6e35b5ebbd4561984cf743c0b9e094"
            ],
            "layout": "IPY_MODEL_9d20ab91ae5448ae8469e0f1c44a2508"
          }
        },
        "84ba1eb55045451bb52eac96886758b9": {
          "model_module": "@jupyter-widgets/controls",
          "model_name": "HTMLModel",
          "model_module_version": "1.5.0",
          "state": {
            "_dom_classes": [],
            "_model_module": "@jupyter-widgets/controls",
            "_model_module_version": "1.5.0",
            "_model_name": "HTMLModel",
            "_view_count": null,
            "_view_module": "@jupyter-widgets/controls",
            "_view_module_version": "1.5.0",
            "_view_name": "HTMLView",
            "description": "",
            "description_tooltip": null,
            "layout": "IPY_MODEL_224fbbf57e3641129807decd663ed3c7",
            "placeholder": "​",
            "style": "IPY_MODEL_ac21ba8d8fea4aff8db5fedc4e867fd7",
            "value": "100%"
          }
        },
        "0d35f031f2c2476ba2a24e210d6b37e5": {
          "model_module": "@jupyter-widgets/controls",
          "model_name": "FloatProgressModel",
          "model_module_version": "1.5.0",
          "state": {
            "_dom_classes": [],
            "_model_module": "@jupyter-widgets/controls",
            "_model_module_version": "1.5.0",
            "_model_name": "FloatProgressModel",
            "_view_count": null,
            "_view_module": "@jupyter-widgets/controls",
            "_view_module_version": "1.5.0",
            "_view_name": "ProgressView",
            "bar_style": "success",
            "description": "",
            "description_tooltip": null,
            "layout": "IPY_MODEL_23ccba132d3143e0b40d5442790d69cf",
            "max": 4542,
            "min": 0,
            "orientation": "horizontal",
            "style": "IPY_MODEL_98dc55f8a5304dac86114919d69bd0b0",
            "value": 4542
          }
        },
        "4e6e35b5ebbd4561984cf743c0b9e094": {
          "model_module": "@jupyter-widgets/controls",
          "model_name": "HTMLModel",
          "model_module_version": "1.5.0",
          "state": {
            "_dom_classes": [],
            "_model_module": "@jupyter-widgets/controls",
            "_model_module_version": "1.5.0",
            "_model_name": "HTMLModel",
            "_view_count": null,
            "_view_module": "@jupyter-widgets/controls",
            "_view_module_version": "1.5.0",
            "_view_name": "HTMLView",
            "description": "",
            "description_tooltip": null,
            "layout": "IPY_MODEL_40e8aa0afa0a4afa85353004788558b7",
            "placeholder": "​",
            "style": "IPY_MODEL_238319879544494ebc3db40f1aef6dca",
            "value": " 4542/4542 [00:00&lt;00:00, 119998.04it/s]"
          }
        },
        "9d20ab91ae5448ae8469e0f1c44a2508": {
          "model_module": "@jupyter-widgets/base",
          "model_name": "LayoutModel",
          "model_module_version": "1.2.0",
          "state": {
            "_model_module": "@jupyter-widgets/base",
            "_model_module_version": "1.2.0",
            "_model_name": "LayoutModel",
            "_view_count": null,
            "_view_module": "@jupyter-widgets/base",
            "_view_module_version": "1.2.0",
            "_view_name": "LayoutView",
            "align_content": null,
            "align_items": null,
            "align_self": null,
            "border": null,
            "bottom": null,
            "display": null,
            "flex": null,
            "flex_flow": null,
            "grid_area": null,
            "grid_auto_columns": null,
            "grid_auto_flow": null,
            "grid_auto_rows": null,
            "grid_column": null,
            "grid_gap": null,
            "grid_row": null,
            "grid_template_areas": null,
            "grid_template_columns": null,
            "grid_template_rows": null,
            "height": null,
            "justify_content": null,
            "justify_items": null,
            "left": null,
            "margin": null,
            "max_height": null,
            "max_width": null,
            "min_height": null,
            "min_width": null,
            "object_fit": null,
            "object_position": null,
            "order": null,
            "overflow": null,
            "overflow_x": null,
            "overflow_y": null,
            "padding": null,
            "right": null,
            "top": null,
            "visibility": null,
            "width": null
          }
        },
        "224fbbf57e3641129807decd663ed3c7": {
          "model_module": "@jupyter-widgets/base",
          "model_name": "LayoutModel",
          "model_module_version": "1.2.0",
          "state": {
            "_model_module": "@jupyter-widgets/base",
            "_model_module_version": "1.2.0",
            "_model_name": "LayoutModel",
            "_view_count": null,
            "_view_module": "@jupyter-widgets/base",
            "_view_module_version": "1.2.0",
            "_view_name": "LayoutView",
            "align_content": null,
            "align_items": null,
            "align_self": null,
            "border": null,
            "bottom": null,
            "display": null,
            "flex": null,
            "flex_flow": null,
            "grid_area": null,
            "grid_auto_columns": null,
            "grid_auto_flow": null,
            "grid_auto_rows": null,
            "grid_column": null,
            "grid_gap": null,
            "grid_row": null,
            "grid_template_areas": null,
            "grid_template_columns": null,
            "grid_template_rows": null,
            "height": null,
            "justify_content": null,
            "justify_items": null,
            "left": null,
            "margin": null,
            "max_height": null,
            "max_width": null,
            "min_height": null,
            "min_width": null,
            "object_fit": null,
            "object_position": null,
            "order": null,
            "overflow": null,
            "overflow_x": null,
            "overflow_y": null,
            "padding": null,
            "right": null,
            "top": null,
            "visibility": null,
            "width": null
          }
        },
        "ac21ba8d8fea4aff8db5fedc4e867fd7": {
          "model_module": "@jupyter-widgets/controls",
          "model_name": "DescriptionStyleModel",
          "model_module_version": "1.5.0",
          "state": {
            "_model_module": "@jupyter-widgets/controls",
            "_model_module_version": "1.5.0",
            "_model_name": "DescriptionStyleModel",
            "_view_count": null,
            "_view_module": "@jupyter-widgets/base",
            "_view_module_version": "1.2.0",
            "_view_name": "StyleView",
            "description_width": ""
          }
        },
        "23ccba132d3143e0b40d5442790d69cf": {
          "model_module": "@jupyter-widgets/base",
          "model_name": "LayoutModel",
          "model_module_version": "1.2.0",
          "state": {
            "_model_module": "@jupyter-widgets/base",
            "_model_module_version": "1.2.0",
            "_model_name": "LayoutModel",
            "_view_count": null,
            "_view_module": "@jupyter-widgets/base",
            "_view_module_version": "1.2.0",
            "_view_name": "LayoutView",
            "align_content": null,
            "align_items": null,
            "align_self": null,
            "border": null,
            "bottom": null,
            "display": null,
            "flex": null,
            "flex_flow": null,
            "grid_area": null,
            "grid_auto_columns": null,
            "grid_auto_flow": null,
            "grid_auto_rows": null,
            "grid_column": null,
            "grid_gap": null,
            "grid_row": null,
            "grid_template_areas": null,
            "grid_template_columns": null,
            "grid_template_rows": null,
            "height": null,
            "justify_content": null,
            "justify_items": null,
            "left": null,
            "margin": null,
            "max_height": null,
            "max_width": null,
            "min_height": null,
            "min_width": null,
            "object_fit": null,
            "object_position": null,
            "order": null,
            "overflow": null,
            "overflow_x": null,
            "overflow_y": null,
            "padding": null,
            "right": null,
            "top": null,
            "visibility": null,
            "width": null
          }
        },
        "98dc55f8a5304dac86114919d69bd0b0": {
          "model_module": "@jupyter-widgets/controls",
          "model_name": "ProgressStyleModel",
          "model_module_version": "1.5.0",
          "state": {
            "_model_module": "@jupyter-widgets/controls",
            "_model_module_version": "1.5.0",
            "_model_name": "ProgressStyleModel",
            "_view_count": null,
            "_view_module": "@jupyter-widgets/base",
            "_view_module_version": "1.2.0",
            "_view_name": "StyleView",
            "bar_color": null,
            "description_width": ""
          }
        },
        "40e8aa0afa0a4afa85353004788558b7": {
          "model_module": "@jupyter-widgets/base",
          "model_name": "LayoutModel",
          "model_module_version": "1.2.0",
          "state": {
            "_model_module": "@jupyter-widgets/base",
            "_model_module_version": "1.2.0",
            "_model_name": "LayoutModel",
            "_view_count": null,
            "_view_module": "@jupyter-widgets/base",
            "_view_module_version": "1.2.0",
            "_view_name": "LayoutView",
            "align_content": null,
            "align_items": null,
            "align_self": null,
            "border": null,
            "bottom": null,
            "display": null,
            "flex": null,
            "flex_flow": null,
            "grid_area": null,
            "grid_auto_columns": null,
            "grid_auto_flow": null,
            "grid_auto_rows": null,
            "grid_column": null,
            "grid_gap": null,
            "grid_row": null,
            "grid_template_areas": null,
            "grid_template_columns": null,
            "grid_template_rows": null,
            "height": null,
            "justify_content": null,
            "justify_items": null,
            "left": null,
            "margin": null,
            "max_height": null,
            "max_width": null,
            "min_height": null,
            "min_width": null,
            "object_fit": null,
            "object_position": null,
            "order": null,
            "overflow": null,
            "overflow_x": null,
            "overflow_y": null,
            "padding": null,
            "right": null,
            "top": null,
            "visibility": null,
            "width": null
          }
        },
        "238319879544494ebc3db40f1aef6dca": {
          "model_module": "@jupyter-widgets/controls",
          "model_name": "DescriptionStyleModel",
          "model_module_version": "1.5.0",
          "state": {
            "_model_module": "@jupyter-widgets/controls",
            "_model_module_version": "1.5.0",
            "_model_name": "DescriptionStyleModel",
            "_view_count": null,
            "_view_module": "@jupyter-widgets/base",
            "_view_module_version": "1.2.0",
            "_view_name": "StyleView",
            "description_width": ""
          }
        }
      }
    }
  },
  "cells": [
    {
      "cell_type": "markdown",
      "metadata": {
        "id": "view-in-github",
        "colab_type": "text"
      },
      "source": [
        "<a href=\"https://colab.research.google.com/github/hhboorstein/ds_portfolio/blob/main/Digit_Recognition.ipynb\" target=\"_parent\"><img src=\"https://colab.research.google.com/assets/colab-badge.svg\" alt=\"Open In Colab\"/></a>"
      ]
    },
    {
      "cell_type": "markdown",
      "source": [
        "# Digit Recognition\n",
        "Harrison Henningsen (he/him)\n",
        "\n",
        "[Portfolio](https://internetweb.site/portfolio)\n",
        "\n",
        "[LinkedIn](https://www.linkedin.com/in/hi-im-harrison/)"
      ],
      "metadata": {
        "id": "TpzvUrS5DWLG"
      }
    },
    {
      "cell_type": "markdown",
      "source": [
        "# Setup"
      ],
      "metadata": {
        "id": "fd-8qxsNeNYF"
      }
    },
    {
      "cell_type": "markdown",
      "source": [
        "We will explore digit classification using PyTorch and the MNIST dataset."
      ],
      "metadata": {
        "id": "clJMcQHVNtHz"
      }
    },
    {
      "cell_type": "markdown",
      "source": [
        "## Libraries"
      ],
      "metadata": {
        "id": "h2qMJocdhOLs"
      }
    },
    {
      "cell_type": "code",
      "execution_count": 1,
      "metadata": {
        "id": "1di89I1FblpT"
      },
      "outputs": [],
      "source": [
        "import numpy as np\n",
        "import pandas as pd\n",
        "\n",
        "from statsmodels.stats.proportion import proportions_chisquare, proportions_ztest\n",
        "from sklearn.metrics import confusion_matrix, accuracy_score\n",
        "\n",
        "from matplotlib import pyplot as plt\n",
        "import seaborn as sns\n",
        "from PIL import Image\n",
        "\n",
        "import torch\n",
        "from torch import nn\n",
        "from torch.nn import functional as F\n",
        "from torch.utils.data import DataLoader\n",
        "from torch.optim import SGD\n",
        "\n",
        "import torchvision"
      ]
    },
    {
      "cell_type": "code",
      "source": [
        "# set plotting theme with blank grids\n",
        "sns.set_theme(rc={'grid.linestyle':''})"
      ],
      "metadata": {
        "id": "vrFzTCWl8eKC"
      },
      "execution_count": 2,
      "outputs": []
    },
    {
      "cell_type": "code",
      "source": [
        "# for documentation reference\n",
        "torch.__version__"
      ],
      "metadata": {
        "colab": {
          "base_uri": "https://localhost:8080/",
          "height": 35
        },
        "id": "TYrTmK3t3KpQ",
        "outputId": "617f72f9-afdf-475c-b71c-f9e1019aa77a"
      },
      "execution_count": 3,
      "outputs": [
        {
          "output_type": "execute_result",
          "data": {
            "text/plain": [
              "'1.13.1+cu116'"
            ],
            "application/vnd.google.colaboratory.intrinsic+json": {
              "type": "string"
            }
          },
          "metadata": {},
          "execution_count": 3
        }
      ]
    },
    {
      "cell_type": "markdown",
      "source": [
        "## Set environment params"
      ],
      "metadata": {
        "id": "txx8q7NqeRyY"
      }
    },
    {
      "cell_type": "markdown",
      "source": [
        "For repeatability of results, we fix a random seed."
      ],
      "metadata": {
        "id": "rAej6ny9OCHZ"
      }
    },
    {
      "cell_type": "code",
      "source": [
        "# set random seed\n",
        "torch.manual_seed(57)"
      ],
      "metadata": {
        "colab": {
          "base_uri": "https://localhost:8080/"
        },
        "id": "vFeXiFKpeTsp",
        "outputId": "da11e4c3-e678-47d3-e133-629fc546e0cf"
      },
      "execution_count": 4,
      "outputs": [
        {
          "output_type": "execute_result",
          "data": {
            "text/plain": [
              "<torch._C.Generator at 0x7f05f5988570>"
            ]
          },
          "metadata": {},
          "execution_count": 4
        }
      ]
    },
    {
      "cell_type": "code",
      "source": [
        "# set batch sizes\n",
        "batch_train=64\n",
        "batch_test=1000"
      ],
      "metadata": {
        "id": "mj-FCzD0gYzS"
      },
      "execution_count": 5,
      "outputs": []
    },
    {
      "cell_type": "markdown",
      "source": [
        "## CUDA Setup"
      ],
      "metadata": {
        "id": "LvACxJk5nG96"
      }
    },
    {
      "cell_type": "code",
      "source": [
        "# CUDA version\n",
        "torch.version.cuda"
      ],
      "metadata": {
        "colab": {
          "base_uri": "https://localhost:8080/",
          "height": 35
        },
        "id": "FukfYmbCA12q",
        "outputId": "583f142c-5485-42c7-8261-fa23a0f430ae"
      },
      "execution_count": 6,
      "outputs": [
        {
          "output_type": "execute_result",
          "data": {
            "text/plain": [
              "'11.6'"
            ],
            "application/vnd.google.colaboratory.intrinsic+json": {
              "type": "string"
            }
          },
          "metadata": {},
          "execution_count": 6
        }
      ]
    },
    {
      "cell_type": "code",
      "source": [
        "(dev:=torch.device('cuda' if torch.cuda.is_available() else 'cpu'))"
      ],
      "metadata": {
        "colab": {
          "base_uri": "https://localhost:8080/"
        },
        "id": "x-J0LQJIRzza",
        "outputId": "cc7f4c0a-8474-4e4d-a644-44f28a073665"
      },
      "execution_count": 7,
      "outputs": [
        {
          "output_type": "execute_result",
          "data": {
            "text/plain": [
              "device(type='cuda')"
            ]
          },
          "metadata": {},
          "execution_count": 7
        }
      ]
    },
    {
      "cell_type": "markdown",
      "source": [
        "We check that CUDA is available. We use the device flag `dev` later to marshal tensors and models to the GPU."
      ],
      "metadata": {
        "id": "1cSrU-gtOLRu"
      }
    },
    {
      "cell_type": "markdown",
      "source": [
        "## Data"
      ],
      "metadata": {
        "id": "ZEpPsUGjhSS0"
      }
    },
    {
      "cell_type": "code",
      "source": [
        "# define transformation sequence\n",
        "transformations=[\n",
        "    torchvision.transforms.ToTensor(),\n",
        "    torchvision.transforms.Normalize(\n",
        "        (0.1307,), # MNIST global mean\n",
        "        (0.3081) # MNIST global std dev\n",
        "    )\n",
        "]"
      ],
      "metadata": {
        "id": "i0wp2Kl7hTtn"
      },
      "execution_count": 8,
      "outputs": []
    },
    {
      "cell_type": "markdown",
      "source": [
        "[From MNIST training mean and standard deviation.](https://datascience.stackexchange.com/questions/46228/how-mean-and-deviation-come-out-with-mnist-dataset)"
      ],
      "metadata": {
        "id": "L7gsV-RawiG3"
      }
    },
    {
      "cell_type": "code",
      "source": [
        "# source MNIST data\n",
        "data_train=torchvision.datasets.MNIST(\n",
        "    root='./data',\n",
        "    train=True,\n",
        "    download=True,\n",
        "    transform=torchvision.transforms.Compose(transformations)\n",
        ")\n",
        "\n",
        "data_test=torchvision.datasets.MNIST(\n",
        "    root='./data',\n",
        "    train=False,\n",
        "    download=True,\n",
        "    transform=torchvision.transforms.Compose(transformations)\n",
        ")"
      ],
      "metadata": {
        "colab": {
          "base_uri": "https://localhost:8080/",
          "height": 443,
          "referenced_widgets": [
            "838337556e094249bfbf091be6d37ae1",
            "50783ffb9a4b4536a30fac09c92bf02c",
            "1f61333ffd3649c087df6dffe4300050",
            "550e99daa7f345b0bacf26aa27b98b31",
            "468c698648ef449e95653d3b6d7768ab",
            "39326b0332ec4675adf07b6c0275bfcd",
            "ee917ad4571c4106b782cf747b016b3f",
            "08231b287fbb434a9daf26128dca3c90",
            "be9c7d38a9bd4aaaa338845306713aa5",
            "1919d243d98e4cbf817e442d437c075c",
            "d1f71406a9494c82a50d68a2a1bc9a30",
            "3267930c7f0e437b8a8167890cfa8fa3",
            "41f8ff2b1fda450fa13e6fd5bfc1743e",
            "54d10605b12148c7b08a19558346bbe0",
            "654aa11eef634cf0994a2132563000d3",
            "000663cb3c564891a9ec1dbf1ece7248",
            "f22578da4e6a4d759a1f2093eff1e548",
            "eec92e6c5cd54628af39f021bd269870",
            "85e15a8824df4df693959ef6995bd7ed",
            "2b73b6669d114c1d8a5feaba96bfae38",
            "aaff446d2ec8411e91b4bd8b18ee83c8",
            "0386efabcd7f4a64a2f843bed2627ddb",
            "e4551fd0bd904f4ea36641f2bf2ef8a8",
            "5f1db93e0c97431a81642f753e0607c9",
            "afab6ada3a78462a850c0794b0ea583e",
            "6802e519b4a04846a15e7078373fabf5",
            "8d4fd2d5567a4530814d3ce161c313df",
            "85fb85dfd88844b6b89dfd4808a3254d",
            "57eef26d171a49818c3aacc48241dfa8",
            "25a9b6ca28e6438588a6dae1d568fdcb",
            "683672c1f3054f75822252e690add9dd",
            "c507236e58674f10a9eb82c3c38816b1",
            "50c2146abd0e4df48d241eac3d5c1e8a",
            "68b92888b5d14625bcb5f2247a7fc0a7",
            "84ba1eb55045451bb52eac96886758b9",
            "0d35f031f2c2476ba2a24e210d6b37e5",
            "4e6e35b5ebbd4561984cf743c0b9e094",
            "9d20ab91ae5448ae8469e0f1c44a2508",
            "224fbbf57e3641129807decd663ed3c7",
            "ac21ba8d8fea4aff8db5fedc4e867fd7",
            "23ccba132d3143e0b40d5442790d69cf",
            "98dc55f8a5304dac86114919d69bd0b0",
            "40e8aa0afa0a4afa85353004788558b7",
            "238319879544494ebc3db40f1aef6dca"
          ]
        },
        "id": "tGlnE4hgkt-P",
        "outputId": "8065a781-bc67-4fbb-a7f7-fd85fdbb5bb0"
      },
      "execution_count": 9,
      "outputs": [
        {
          "output_type": "stream",
          "name": "stdout",
          "text": [
            "Downloading http://yann.lecun.com/exdb/mnist/train-images-idx3-ubyte.gz\n",
            "Downloading http://yann.lecun.com/exdb/mnist/train-images-idx3-ubyte.gz to ./data/MNIST/raw/train-images-idx3-ubyte.gz\n"
          ]
        },
        {
          "output_type": "display_data",
          "data": {
            "text/plain": [
              "  0%|          | 0/9912422 [00:00<?, ?it/s]"
            ],
            "application/vnd.jupyter.widget-view+json": {
              "version_major": 2,
              "version_minor": 0,
              "model_id": "838337556e094249bfbf091be6d37ae1"
            }
          },
          "metadata": {}
        },
        {
          "output_type": "stream",
          "name": "stdout",
          "text": [
            "Extracting ./data/MNIST/raw/train-images-idx3-ubyte.gz to ./data/MNIST/raw\n",
            "\n",
            "Downloading http://yann.lecun.com/exdb/mnist/train-labels-idx1-ubyte.gz\n",
            "Downloading http://yann.lecun.com/exdb/mnist/train-labels-idx1-ubyte.gz to ./data/MNIST/raw/train-labels-idx1-ubyte.gz\n"
          ]
        },
        {
          "output_type": "display_data",
          "data": {
            "text/plain": [
              "  0%|          | 0/28881 [00:00<?, ?it/s]"
            ],
            "application/vnd.jupyter.widget-view+json": {
              "version_major": 2,
              "version_minor": 0,
              "model_id": "3267930c7f0e437b8a8167890cfa8fa3"
            }
          },
          "metadata": {}
        },
        {
          "output_type": "stream",
          "name": "stdout",
          "text": [
            "Extracting ./data/MNIST/raw/train-labels-idx1-ubyte.gz to ./data/MNIST/raw\n",
            "\n",
            "Downloading http://yann.lecun.com/exdb/mnist/t10k-images-idx3-ubyte.gz\n",
            "Downloading http://yann.lecun.com/exdb/mnist/t10k-images-idx3-ubyte.gz to ./data/MNIST/raw/t10k-images-idx3-ubyte.gz\n"
          ]
        },
        {
          "output_type": "display_data",
          "data": {
            "text/plain": [
              "  0%|          | 0/1648877 [00:00<?, ?it/s]"
            ],
            "application/vnd.jupyter.widget-view+json": {
              "version_major": 2,
              "version_minor": 0,
              "model_id": "e4551fd0bd904f4ea36641f2bf2ef8a8"
            }
          },
          "metadata": {}
        },
        {
          "output_type": "stream",
          "name": "stdout",
          "text": [
            "Extracting ./data/MNIST/raw/t10k-images-idx3-ubyte.gz to ./data/MNIST/raw\n",
            "\n",
            "Downloading http://yann.lecun.com/exdb/mnist/t10k-labels-idx1-ubyte.gz\n",
            "Downloading http://yann.lecun.com/exdb/mnist/t10k-labels-idx1-ubyte.gz to ./data/MNIST/raw/t10k-labels-idx1-ubyte.gz\n"
          ]
        },
        {
          "output_type": "display_data",
          "data": {
            "text/plain": [
              "  0%|          | 0/4542 [00:00<?, ?it/s]"
            ],
            "application/vnd.jupyter.widget-view+json": {
              "version_major": 2,
              "version_minor": 0,
              "model_id": "68b92888b5d14625bcb5f2247a7fc0a7"
            }
          },
          "metadata": {}
        },
        {
          "output_type": "stream",
          "name": "stdout",
          "text": [
            "Extracting ./data/MNIST/raw/t10k-labels-idx1-ubyte.gz to ./data/MNIST/raw\n",
            "\n"
          ]
        }
      ]
    },
    {
      "cell_type": "code",
      "source": [
        "# define training data\n",
        "train_loader=DataLoader(\n",
        "    dataset=data_train,\n",
        "    batch_size=batch_train,\n",
        "    shuffle=True\n",
        ")\n",
        "\n",
        "# define test data\n",
        "\n",
        "test_loader=DataLoader(\n",
        "    dataset=data_test,\n",
        "    batch_size=batch_test,\n",
        "    shuffle=True\n",
        ")"
      ],
      "metadata": {
        "id": "eOIgMPblj2gy"
      },
      "execution_count": 10,
      "outputs": []
    },
    {
      "cell_type": "markdown",
      "source": [
        "We download the MNIST data, convert to tensors and normalize, and define our data loaders. Recall that the training batch size is 64 and the testing batch size is 1000."
      ],
      "metadata": {
        "id": "YPGGAtJAOyw8"
      }
    },
    {
      "cell_type": "markdown",
      "source": [
        "# Data Exploration"
      ],
      "metadata": {
        "id": "TxHxwb8i20WM"
      }
    },
    {
      "cell_type": "code",
      "source": [
        "# get a batch\n",
        "imgs,labels=next(iter(train_loader))"
      ],
      "metadata": {
        "id": "4zey7xLn5I6e"
      },
      "execution_count": 11,
      "outputs": []
    },
    {
      "cell_type": "code",
      "source": [
        "plt.figure(figsize=(4,4))\n",
        "plt.title(f'Label: {labels[0]}',fontsize=16)\n",
        "plt.imshow(imgs[0].squeeze(),cmap='gray');"
      ],
      "metadata": {
        "colab": {
          "base_uri": "https://localhost:8080/",
          "height": 286
        },
        "id": "YcyZeGnD87fM",
        "outputId": "7cbcfddc-58ab-4e71-81b3-57fb515c231f"
      },
      "execution_count": 12,
      "outputs": [
        {
          "output_type": "display_data",
          "data": {
            "text/plain": [
              "<Figure size 288x288 with 1 Axes>"
            ],
            "image/png": "[encoded data removed]"
          },
          "metadata": {}
        }
      ]
    },
    {
      "cell_type": "markdown",
      "source": [
        "Each record is a $28\\times 28$ grayscale image with a corresponding label."
      ],
      "metadata": {
        "id": "h_azB_54Phbo"
      }
    },
    {
      "cell_type": "code",
      "source": [
        "# plot samples\n",
        "fig,ax=plt.subplots(4,4,figsize=(12,12))\n",
        "for i in range(16):\n",
        "  plt.subplot(4,4,i+1)\n",
        "  plt.title(f'Label: {labels[i]}',fontsize=15)\n",
        "  plt.imshow(imgs[i].squeeze(),cmap='gray')\n",
        "fig.tight_layout()\n",
        "plt.show()"
      ],
      "metadata": {
        "colab": {
          "base_uri": "https://localhost:8080/",
          "height": 869
        },
        "id": "v0_346Wt9LRA",
        "outputId": "37b9b691-dc35-42fb-b750-110ed09ae78f"
      },
      "execution_count": 13,
      "outputs": [
        {
          "output_type": "display_data",
          "data": {
            "text/plain": [
              "<Figure size 864x864 with 16 Axes>"
            ],
            "image/png": "[encoded data removed]"
          },
          "metadata": {}
        }
      ]
    },
    {
      "cell_type": "markdown",
      "source": [
        "Some entries are more legible than others. There is a good variety of orintations too."
      ],
      "metadata": {
        "id": "JIk3WuhjP1Nd"
      }
    },
    {
      "cell_type": "markdown",
      "source": [
        "## Imbalance"
      ],
      "metadata": {
        "id": "igPsCTsmE-wA"
      }
    },
    {
      "cell_type": "markdown",
      "source": [
        "To investigate potential imbalance, we collect all labels in the training set."
      ],
      "metadata": {
        "id": "1FWiIzjnQGX0"
      }
    },
    {
      "cell_type": "code",
      "source": [
        "labels_full=pd.Series([data_train[i][1] for i in range(60000)])"
      ],
      "metadata": {
        "id": "3R7FjCOY5E7N"
      },
      "execution_count": 14,
      "outputs": []
    },
    {
      "cell_type": "code",
      "source": [
        "labels_full.value_counts().sort_values()"
      ],
      "metadata": {
        "colab": {
          "base_uri": "https://localhost:8080/"
        },
        "id": "NcJ8zeMo6qAt",
        "outputId": "19f5c983-fe56-4b7f-83a0-f8ea4a5c0c33"
      },
      "execution_count": 15,
      "outputs": [
        {
          "output_type": "execute_result",
          "data": {
            "text/plain": [
              "5    5421\n",
              "4    5842\n",
              "8    5851\n",
              "6    5918\n",
              "0    5923\n",
              "9    5949\n",
              "2    5958\n",
              "3    6131\n",
              "7    6265\n",
              "1    6742\n",
              "dtype: int64"
            ]
          },
          "metadata": {},
          "execution_count": 15
        }
      ]
    },
    {
      "cell_type": "markdown",
      "source": [
        "There is certainly some imbalance. Label frequency ranges from 5421/60000 (label 5) to 6742/60000 (label 1). Note that a perfectly balanced dataset would have 6000 entries for each of the 10 classes. Visually:"
      ],
      "metadata": {
        "id": "iXLfCWtfQPNJ"
      }
    },
    {
      "cell_type": "code",
      "source": [
        "with sns.axes_style(rc={'grid.linestyle':'-'}):\n",
        "  plt.figure(figsize=(8,5))\n",
        "  plt.title('Label Frequency in MNIST Training Set',fontsize=15)\n",
        "  sns.countplot(x=labels_full)\n",
        "  plt.axhline(\n",
        "      y=6000,\n",
        "      color='k',\n",
        "      linestyle='--',\n",
        "      linewidth=2,\n",
        "      label='expected balanced freq.')\n",
        "  plt.xlabel('Label')\n",
        "  plt.legend();"
      ],
      "metadata": {
        "colab": {
          "base_uri": "https://localhost:8080/",
          "height": 357
        },
        "id": "Y93KD9kd5Q1m",
        "outputId": "add849aa-3796-446c-cf91-325a53146836"
      },
      "execution_count": 16,
      "outputs": [
        {
          "output_type": "display_data",
          "data": {
            "text/plain": [
              "<Figure size 576x360 with 1 Axes>"
            ],
            "image/png": "[encoded data removed]"
          },
          "metadata": {}
        }
      ]
    },
    {
      "cell_type": "markdown",
      "source": [
        "We see that classes 1 and 5 deviate appreciably from 6000. The question is: Assuming a level of significance of 5%, is there evedence that these classes are _truly_ imbalanced.\n",
        "\n",
        "We perform a chi-squared test of proportions. The true value against which our frequencies will be measured is 0.1 (or 10%). A p-value less than 0.05 indicates that there is true deviation in at least one class from this 10% figure."
      ],
      "metadata": {
        "id": "c8Vu350QQrDD"
      }
    },
    {
      "cell_type": "code",
      "source": [
        "# chi-squared test for dataset balance inquiry\n",
        "freqs=labels_full.value_counts().tolist()\n",
        "train_nobs=[60000 for i in range(10)]\n",
        "\n",
        "_,pval,(_,_)=proportions_chisquare(\n",
        "    count=freqs,\n",
        "    nobs=train_nobs,\n",
        "    value=0.1\n",
        ")\n",
        "\n",
        "print(f'''With a p-value of {pval}, we can conclude\n",
        "that there is imbalance in the MNIST dataset.''')"
      ],
      "metadata": {
        "colab": {
          "base_uri": "https://localhost:8080/"
        },
        "id": "lUK94OS6zURs",
        "outputId": "52625306-46ed-4048-d0dd-2428dc460770"
      },
      "execution_count": 17,
      "outputs": [
        {
          "output_type": "stream",
          "name": "stdout",
          "text": [
            "With a p-value of 7.124517413614377e-36, we can conclude\n",
            "that there is imbalance in the MNIST dataset.\n"
          ]
        }
      ]
    },
    {
      "cell_type": "markdown",
      "source": [
        "Indeed, there is statistically significant imbalance in our dataset. Using now a two-proportions z-test, we can determine which classes skew too far from 10% representation.\n",
        "\n",
        "Once more, we assume a level of significance of 5%. Our null hypothesis is that there is no statistical difference between the frequency of a particular class and the balanced 6000/60000. The alternate hypothesis is that the class frequency does indeed deviate."
      ],
      "metadata": {
        "id": "qjhdfMTrR7Wa"
      }
    },
    {
      "cell_type": "code",
      "source": [
        "# two-proportions z-test for each digit\n",
        "pval_dict={}\n",
        "for key in (label_dict:=labels_full.value_counts().to_dict()):\n",
        "  _,pval=proportions_ztest(\n",
        "      count=[label_dict[key],6000],\n",
        "      nobs=[60000,60000]\n",
        "  )\n",
        "  pval_dict[key]=pval\n",
        "\n",
        "# print results, annotate rejections\n",
        "for digit,pval in enumerate(pd.Series(pval_dict).sort_index()):\n",
        "  status=('reject' if pval<0.05 else 'fail to reject')\n",
        "  annot=('*' if pval<0.05 else ' ')\n",
        "  print(f'''{annot+str(digit)}: We {status} the null hypothesis\n",
        "  with a p-value of {pval}.\\n''')"
      ],
      "metadata": {
        "colab": {
          "base_uri": "https://localhost:8080/"
        },
        "id": "RXMwZdfJ11Gc",
        "outputId": "ed769934-d419-457d-a453-b7062feff3f9"
      },
      "execution_count": 18,
      "outputs": [
        {
          "output_type": "stream",
          "name": "stdout",
          "text": [
            " 0: We fail to reject the null hypothesis\n",
            "  with a p-value of 0.4574473727151762.\n",
            "\n",
            "*1: We reject the null hypothesis\n",
            "  with a p-value of 3.580597236007005e-12.\n",
            "\n",
            " 2: We fail to reject the null hypothesis\n",
            "  with a p-value of 0.6856424615469848.\n",
            "\n",
            " 3: We fail to reject the null hypothesis\n",
            "  with a p-value of 0.209665965204355.\n",
            "\n",
            " 4: We fail to reject the null hypothesis\n",
            "  with a p-value of 0.1261785990783033.\n",
            "\n",
            "*5: We reject the null hypothesis\n",
            "  with a p-value of 1.2289419334341624e-08.\n",
            "\n",
            " 6: We fail to reject the null hypothesis\n",
            "  with a p-value of 0.4286786623656247.\n",
            "\n",
            "*7: We reject the null hypothesis\n",
            "  with a p-value of 0.011557788056848121.\n",
            "\n",
            " 8: We fail to reject the null hypothesis\n",
            "  with a p-value of 0.1493746194861904.\n",
            "\n",
            " 9: We fail to reject the null hypothesis\n",
            "  with a p-value of 0.6229471156193913.\n",
            "\n"
          ]
        }
      ]
    },
    {
      "cell_type": "markdown",
      "source": [
        "Those classes that deviate (p-value < 0.05) are annotated with an astrisk. Along with 1, we find that 7 is also appreciably overrepresented. And while 4 and 8 are somewhat underrepresented, their p-values are slightly too high to be considered definitively imbalanced. Accordingly, 5 is the only appreciably underrepresented class."
      ],
      "metadata": {
        "id": "lviCUDf-S9K9"
      }
    },
    {
      "cell_type": "markdown",
      "source": [
        "# Fully-Connected Neural Network\n"
      ],
      "metadata": {
        "id": "z_hphV5u1mKU"
      }
    },
    {
      "cell_type": "code",
      "source": [
        "class DigitClfr(nn.Module):\n",
        "\n",
        "  def __init__(self):\n",
        "    super(DigitClfr,self).__init__()\n",
        "    self.Linear1=nn.Linear(28**2,1024)\n",
        "    self.Linear2=nn.Linear(1024,256)\n",
        "    self.Linear3=nn.Linear(256,64)\n",
        "    self.Linear4=nn.Linear(64,10)\n",
        "\n",
        "  def forward(self,x):\n",
        "    x=x.view(-1,28**2)\n",
        "    x=F.relu(self.Linear1(x))\n",
        "    x=F.relu(self.Linear2(x))\n",
        "    x=F.relu(self.Linear3(x))\n",
        "    x=self.Linear4(x)\n",
        "    return x.squeeze()"
      ],
      "metadata": {
        "id": "oNVcUZir1oxE"
      },
      "execution_count": 19,
      "outputs": []
    },
    {
      "cell_type": "markdown",
      "source": [
        "We begin by defining our network. It inherits properties of the superclass `torch.nn.Module`. The network is comprised of four fully-connected layers."
      ],
      "metadata": {
        "id": "LBEkUmJZUNWW"
      }
    },
    {
      "cell_type": "code",
      "source": [
        "# initialize network\n",
        "nwk=DigitClfr().to(dev)\n",
        "\n",
        "# loss function\n",
        "L=nn.CrossEntropyLoss()\n",
        "\n",
        "# optimizer\n",
        "opt=SGD(nwk.parameters(),lr=0.01)"
      ],
      "metadata": {
        "id": "f8Vsy1MfP_Ns"
      },
      "execution_count": 20,
      "outputs": []
    },
    {
      "cell_type": "markdown",
      "source": [
        "We measure cost with cross entropy loss, which we minimize using stochastic gradient descent."
      ],
      "metadata": {
        "id": "mAs8OdqTtBbv"
      }
    },
    {
      "cell_type": "markdown",
      "source": [
        "## Testing Forward Pass"
      ],
      "metadata": {
        "id": "yIhEeiDYHgwb"
      }
    },
    {
      "cell_type": "code",
      "source": [
        "# input image\n",
        "plt.imshow(imgs[0].squeeze(),cmap='gray');"
      ],
      "metadata": {
        "colab": {
          "base_uri": "https://localhost:8080/",
          "height": 268
        },
        "id": "I4CVpqiJQDTO",
        "outputId": "444fb8c9-a171-4a99-d721-d80b4adc42f6"
      },
      "execution_count": 21,
      "outputs": [
        {
          "output_type": "display_data",
          "data": {
            "text/plain": [
              "<Figure size 432x288 with 1 Axes>"
            ],
            "image/png": "[encoded data removed]"
          },
          "metadata": {}
        }
      ]
    },
    {
      "cell_type": "markdown",
      "source": [
        "We run the above image through the (untrained) network to confirm everything is properly set up."
      ],
      "metadata": {
        "id": "KejkwXOVthUJ"
      }
    },
    {
      "cell_type": "code",
      "source": [
        "# probability density function tensor \n",
        "# containing (currently random) predictions\n",
        "(test_out:=nwk(imgs[0].squeeze().to(dev)))"
      ],
      "metadata": {
        "colab": {
          "base_uri": "https://localhost:8080/"
        },
        "id": "RvNEQsvQQMM8",
        "outputId": "73595f8d-2cc2-4633-e63b-3d9360348101"
      },
      "execution_count": 22,
      "outputs": [
        {
          "output_type": "execute_result",
          "data": {
            "text/plain": [
              "tensor([-0.0349,  0.0862, -0.0684, -0.0928,  0.1223,  0.0380, -0.1017,  0.0375,\n",
              "        -0.0797, -0.0825], device='cuda:0', grad_fn=<SqueezeBackward0>)"
            ]
          },
          "metadata": {},
          "execution_count": 22
        }
      ]
    },
    {
      "cell_type": "code",
      "source": [
        "test_out.shape"
      ],
      "metadata": {
        "colab": {
          "base_uri": "https://localhost:8080/"
        },
        "id": "EASTKWFWHqsk",
        "outputId": "442c08b1-d068-4f33-d404-16031a0a45a0"
      },
      "execution_count": 23,
      "outputs": [
        {
          "output_type": "execute_result",
          "data": {
            "text/plain": [
              "torch.Size([10])"
            ]
          },
          "metadata": {},
          "execution_count": 23
        }
      ]
    },
    {
      "cell_type": "markdown",
      "source": [
        "Output tensor shape is correct. We get 10 probabilities: one for each digit label."
      ],
      "metadata": {
        "id": "P9QG0Q4FE0T_"
      }
    },
    {
      "cell_type": "code",
      "source": [
        "# cross entropy loss\n",
        "L(test_out,labels[0].to(dev)).item()"
      ],
      "metadata": {
        "colab": {
          "base_uri": "https://localhost:8080/"
        },
        "id": "voi2uf70SpBJ",
        "outputId": "94dd8d13-3937-4e09-b1e5-b70692bb3a8f"
      },
      "execution_count": 24,
      "outputs": [
        {
          "output_type": "execute_result",
          "data": {
            "text/plain": [
              "2.3807878494262695"
            ]
          },
          "metadata": {},
          "execution_count": 24
        }
      ]
    },
    {
      "cell_type": "markdown",
      "source": [
        "The cost function yields a loss of about 2.38 for this example."
      ],
      "metadata": {
        "id": "T1mY7f13tvlp"
      }
    },
    {
      "cell_type": "markdown",
      "source": [
        "## Training"
      ],
      "metadata": {
        "id": "5y5Y379kI03z"
      }
    },
    {
      "cell_type": "code",
      "source": [
        "# bookkeeping\n",
        "epochs,losses=[],[]\n",
        "test_avg_losses=[]\n",
        "load_len=len(train_loader)"
      ],
      "metadata": {
        "id": "gVy8924WOjmy"
      },
      "execution_count": 25,
      "outputs": []
    },
    {
      "cell_type": "code",
      "source": [
        "# make directory for saving training states\n",
        "!mkdir training_results\n",
        "\n",
        "def train_epoch(epoch_id):\n",
        "  'One epoch of NN training.'\n",
        "\n",
        "  print(f'Epoch {epoch_id} Training')\n",
        "  for batch_id,(x,y) in enumerate(train_loader):\n",
        "    # send tensors to preset device\n",
        "    x,y=x.to(dev),y.to(dev)\n",
        "\n",
        "    # loss calculation and back propagation\n",
        "    opt.zero_grad()\n",
        "    loss=L(nwk(x),y)\n",
        "    loss.backward()\n",
        "    opt.step()\n",
        "    \n",
        "    # record losses by (partial) epoch\n",
        "    epochs.append(epoch_id+batch_id/load_len)\n",
        "    losses.append(loss.item())\n",
        "\n",
        "    # print progress\n",
        "    if batch_id%175==0:\n",
        "      p=100*(batch_id/load_len)\n",
        "      print(f'{int(p)}% completed with loss {np.round(loss.item(),4)}')\n",
        "\n",
        "  # save internal state\n",
        "  torch.save(nwk.state_dict(),'./training_results/network.pth')\n",
        "  torch.save(opt.state_dict(),'./training_results/optimizer.pth')\n",
        "\n",
        "  return"
      ],
      "metadata": {
        "id": "JYoRKV3NI3s2"
      },
      "execution_count": 26,
      "outputs": []
    },
    {
      "cell_type": "code",
      "source": [
        "def test():\n",
        "  '''Compute average loss and prediction\n",
        "  accuracy of NN on test data.'''\n",
        "\n",
        "  total_loss,num_correct=0,0\n",
        "\n",
        "  with torch.no_grad():\n",
        "    for x,y in test_loader:\n",
        "      # send to device\n",
        "      x,y=x.to(dev),y.to(dev)\n",
        "\n",
        "      # predict\n",
        "      out=nwk(x)\n",
        "\n",
        "      # loss and accuracy calculations\n",
        "      total_loss+=L(out,y).item()\n",
        "      y_hat=out.max(dim=1,keepdim=True)[1]\n",
        "      num_correct+=y_hat.eq(y.view_as(y_hat)).sum()\n",
        "  \n",
        "  # print stats\n",
        "  test_avg_losses.append(w:=total_loss/len(test_loader))\n",
        "  print(f'avg loss: {w}')\n",
        "  print(f'% correct: {100*num_correct/len(test_loader.dataset)}')\n",
        "  return total_loss,num_correct"
      ],
      "metadata": {
        "id": "iEKqvCZpw2wE"
      },
      "execution_count": 27,
      "outputs": []
    },
    {
      "cell_type": "code",
      "source": [
        "# bookkeeping\n",
        "acc_factor=100/len(test_loader.dataset)\n",
        "per_epoch_acc=[]\n",
        "\n",
        "# pretrain benchmark\n",
        "test()\n",
        "print('='*50)\n",
        "\n",
        "# 10 epoch training\n",
        "for i in range(1,11):\n",
        "\n",
        "  train_epoch(i)\n",
        "\n",
        "  print('='*50)\n",
        "\n",
        "  # post-epoch benchmark\n",
        "  _,count=test()\n",
        "  per_epoch_acc.append(count.item()*acc_factor)\n",
        "\n",
        "  print('='*50)"
      ],
      "metadata": {
        "colab": {
          "base_uri": "https://localhost:8080/"
        },
        "id": "Z_kh_RODP991",
        "outputId": "887e6c9c-c092-46a3-d469-69537b7715a9"
      },
      "execution_count": 28,
      "outputs": [
        {
          "output_type": "stream",
          "name": "stdout",
          "text": [
            "avg loss: 2.3028570652008056\n",
            "% correct: 8.550000190734863\n",
            "==================================================\n",
            "Epoch 1 Training\n",
            "0% completed with loss 2.3183\n",
            "18% completed with loss 1.9573\n",
            "37% completed with loss 0.8805\n",
            "55% completed with loss 0.5752\n",
            "74% completed with loss 0.5825\n",
            "93% completed with loss 0.3211\n",
            "==================================================\n",
            "avg loss: 0.3739812016487122\n",
            "% correct: 89.3499984741211\n",
            "==================================================\n",
            "Epoch 2 Training\n",
            "0% completed with loss 0.3147\n",
            "18% completed with loss 0.2938\n",
            "37% completed with loss 0.3522\n",
            "55% completed with loss 0.2582\n",
            "74% completed with loss 0.2932\n",
            "93% completed with loss 0.5959\n",
            "==================================================\n",
            "avg loss: 0.26310197860002515\n",
            "% correct: 92.18000030517578\n",
            "==================================================\n",
            "Epoch 3 Training\n",
            "0% completed with loss 0.1908\n",
            "18% completed with loss 0.2039\n",
            "37% completed with loss 0.1841\n",
            "55% completed with loss 0.2875\n",
            "74% completed with loss 0.2234\n",
            "93% completed with loss 0.1237\n",
            "==================================================\n",
            "avg loss: 0.2098824694752693\n",
            "% correct: 93.8699951171875\n",
            "==================================================\n",
            "Epoch 4 Training\n",
            "0% completed with loss 0.2895\n",
            "18% completed with loss 0.1843\n",
            "37% completed with loss 0.3184\n",
            "55% completed with loss 0.2183\n",
            "74% completed with loss 0.1324\n",
            "93% completed with loss 0.1992\n",
            "==================================================\n",
            "avg loss: 0.17889293432235717\n",
            "% correct: 94.75999450683594\n",
            "==================================================\n",
            "Epoch 5 Training\n",
            "0% completed with loss 0.1529\n",
            "18% completed with loss 0.5171\n",
            "37% completed with loss 0.2202\n",
            "55% completed with loss 0.2579\n",
            "74% completed with loss 0.2058\n",
            "93% completed with loss 0.1867\n",
            "==================================================\n",
            "avg loss: 0.1590832233428955\n",
            "% correct: 95.2699966430664\n",
            "==================================================\n",
            "Epoch 6 Training\n",
            "0% completed with loss 0.1656\n",
            "18% completed with loss 0.0325\n",
            "37% completed with loss 0.2408\n",
            "55% completed with loss 0.2879\n",
            "74% completed with loss 0.1859\n",
            "93% completed with loss 0.1026\n",
            "==================================================\n",
            "avg loss: 0.13486028090119362\n",
            "% correct: 95.83999633789062\n",
            "==================================================\n",
            "Epoch 7 Training\n",
            "0% completed with loss 0.1709\n",
            "18% completed with loss 0.1778\n",
            "37% completed with loss 0.066\n",
            "55% completed with loss 0.0535\n",
            "74% completed with loss 0.1717\n",
            "93% completed with loss 0.0567\n",
            "==================================================\n",
            "avg loss: 0.12109961956739426\n",
            "% correct: 96.22000122070312\n",
            "==================================================\n",
            "Epoch 8 Training\n",
            "0% completed with loss 0.1164\n",
            "18% completed with loss 0.088\n",
            "37% completed with loss 0.0883\n",
            "55% completed with loss 0.3284\n",
            "74% completed with loss 0.1282\n",
            "93% completed with loss 0.0327\n",
            "==================================================\n",
            "avg loss: 0.11242086291313172\n",
            "% correct: 96.54999542236328\n",
            "==================================================\n",
            "Epoch 9 Training\n",
            "0% completed with loss 0.0614\n",
            "18% completed with loss 0.0824\n",
            "37% completed with loss 0.0681\n",
            "55% completed with loss 0.1789\n",
            "74% completed with loss 0.0727\n",
            "93% completed with loss 0.0431\n",
            "==================================================\n",
            "avg loss: 0.10611896887421608\n",
            "% correct: 96.79000091552734\n",
            "==================================================\n",
            "Epoch 10 Training\n",
            "0% completed with loss 0.0538\n",
            "18% completed with loss 0.0227\n",
            "37% completed with loss 0.04\n",
            "55% completed with loss 0.1485\n",
            "74% completed with loss 0.1836\n",
            "93% completed with loss 0.0403\n",
            "==================================================\n",
            "avg loss: 0.09532383009791374\n",
            "% correct: 97.04999542236328\n",
            "==================================================\n"
          ]
        }
      ]
    },
    {
      "cell_type": "markdown",
      "source": [
        "## Performance Assessment"
      ],
      "metadata": {
        "id": "08f_JVpF8MyT"
      }
    },
    {
      "cell_type": "code",
      "source": [
        "fig,ax1=plt.subplots(figsize=(20,8))\n",
        "ax2=ax1.twinx()\n",
        "\n",
        "plt.title('Cross Entropy Loss by Epoch',fontsize=20)\n",
        "\n",
        "# loss plots\n",
        "g1=ax1.plot(\n",
        "    epochs,\n",
        "    losses,\n",
        "    label='Train',\n",
        "    zorder=0\n",
        ")\n",
        "g2=ax1.scatter(\n",
        "    x=np.arange(1,12),\n",
        "    y=test_avg_losses,\n",
        "    c='r',\n",
        "    s=50,\n",
        "    label='Test'\n",
        ")\n",
        "\n",
        "# accuracy plot\n",
        "g3=ax2.plot(\n",
        "    np.arange(2,12),\n",
        "    per_epoch_acc,\n",
        "    lw=4,\n",
        "    marker='o',\n",
        "    c='g',\n",
        "    label='Accuracy'\n",
        ")\n",
        "\n",
        "# axes labels\n",
        "ax1.set_xlabel('Epoch')\n",
        "ax1.set_ylabel('Loss')\n",
        "ax2.set_ylabel('Accuracy')\n",
        "\n",
        "#graphs=g1+g2+g3\n",
        "#labels=[g.get_label() for g in graphs]\n",
        "\n",
        "graph1,label1=ax1.get_legend_handles_labels()\n",
        "graph2,label2=ax2.get_legend_handles_labels()\n",
        "\n",
        "ax2.legend(\n",
        "    graph1+graph2,\n",
        "    label1+label2,\n",
        "    loc='lower left')\n",
        "plt.show()"
      ],
      "metadata": {
        "colab": {
          "base_uri": "https://localhost:8080/",
          "height": 416
        },
        "id": "ZBINBePdQATv",
        "outputId": "ca13f89f-d9fb-40e2-8ac1-69ce70cf1e0d"
      },
      "execution_count": 29,
      "outputs": [
        {
          "output_type": "display_data",
          "data": {
            "text/plain": [
              "<Figure size 1440x576 with 2 Axes>"
            ],
            "image/png": "[encoded data removed]"
          },
          "metadata": {}
        }
      ]
    },
    {
      "cell_type": "markdown",
      "source": [
        "After 10 training epochs, our loss has decreased drastically. We see with that a corresponding increase in accuracy, up to 97% on test data!\n",
        "\n",
        "We can further analyize our model's performance using a confusion matrix."
      ],
      "metadata": {
        "id": "_SZS8CHXwkMG"
      }
    },
    {
      "cell_type": "code",
      "source": [
        "def cm(dl):\n",
        "  '''Generate a confusion matrix of\n",
        "  NN results for a given data loader.\n",
        "  Returns confusion matrix and accuracy.'''\n",
        "\n",
        "  y_pred=[]\n",
        "  y_true=[]\n",
        "\n",
        "  # collect predictions and actuals\n",
        "  for x,y in dl:\n",
        "    x=x.to(dev)\n",
        "    y_pred.extend(nwk(x).max(dim=1)[1].cpu().numpy())\n",
        "    y_true.extend(y)\n",
        "\n",
        "  # make cm\n",
        "  cmat=confusion_matrix(\n",
        "      y_true,\n",
        "      y_pred,\n",
        "      labels=np.arange(10)\n",
        "  )\n",
        "\n",
        "  acc=accuracy_score(y_true,y_pred)\n",
        "  \n",
        "  return cmat,acc"
      ],
      "metadata": {
        "id": "xgPZRY3a3JJa"
      },
      "execution_count": 30,
      "outputs": []
    },
    {
      "cell_type": "code",
      "source": [
        "# training data prediction analysis\n",
        "cmat,acc=cm(train_loader)"
      ],
      "metadata": {
        "id": "Gz4R1jRkMQQp"
      },
      "execution_count": 31,
      "outputs": []
    },
    {
      "cell_type": "code",
      "source": [
        "plt.figure(figsize=(12,8))\n",
        "plt.title(f'Training Confusion Matrix ({100*np.round(acc,2)}% accuracy)',fontsize=16)\n",
        "sns.heatmap(\n",
        "    data=cmat,\n",
        "    cmap='Greens',\n",
        "    cbar=False,\n",
        "    annot=True,\n",
        "    fmt='g'\n",
        ")\n",
        "plt.xlabel('Predicted Label')\n",
        "plt.ylabel('True Label')\n",
        "plt.show()"
      ],
      "metadata": {
        "colab": {
          "base_uri": "https://localhost:8080/",
          "height": 520
        },
        "id": "810i0V0Y4W-n",
        "outputId": "5b6d696d-84d5-4c02-90e0-21f398a3e909"
      },
      "execution_count": 32,
      "outputs": [
        {
          "output_type": "display_data",
          "data": {
            "text/plain": [
              "<Figure size 864x576 with 1 Axes>"
            ],
            "image/png": "[encoded data removed]"
          },
          "metadata": {}
        }
      ]
    },
    {
      "cell_type": "markdown",
      "source": [
        "We see, for example, that a 0 is never predicted to be 1. On the opposite extreme, there were eighty 9s that were predicted to be 4s and sixty-six 3s predicted to be 8s. Similarity in numeral shapes likely accounts for these errors."
      ],
      "metadata": {
        "id": "C8TLQp9I7B89"
      }
    },
    {
      "cell_type": "code",
      "source": [
        "# testing data predction analysis\n",
        "cmat,acc=cm(test_loader)"
      ],
      "metadata": {
        "id": "F5gdntoB4Zk1"
      },
      "execution_count": 33,
      "outputs": []
    },
    {
      "cell_type": "code",
      "source": [
        "plt.figure(figsize=(12,8))\n",
        "plt.title(f'Testing Confusion Matrix ({100*np.round(acc,2)}% accuracy)',fontsize=16)\n",
        "sns.heatmap(\n",
        "    data=cmat,\n",
        "    cmap='Greens',\n",
        "    cbar=False,\n",
        "    annot=True,\n",
        "    fmt='g'\n",
        ")\n",
        "plt.xlabel('Predicted Label')\n",
        "plt.ylabel('True Label')\n",
        "plt.show()"
      ],
      "metadata": {
        "colab": {
          "base_uri": "https://localhost:8080/",
          "height": 520
        },
        "id": "Em0kOPjoNO9z",
        "outputId": "a8a418cb-b108-475d-c4ea-b11bb39ba454"
      },
      "execution_count": 34,
      "outputs": [
        {
          "output_type": "display_data",
          "data": {
            "text/plain": [
              "<Figure size 864x576 with 1 Axes>"
            ],
            "image/png": "[encoded data removed]"
          },
          "metadata": {}
        }
      ]
    },
    {
      "cell_type": "markdown",
      "source": [
        "Similar findings to the above can be observed in the test data predictions.\n",
        "\n",
        "Overall, a sufficiently complex fully-connected neural network is highly accurate for numeral classification tasks. What further progress can be made by implementing a convolutional neural network?"
      ],
      "metadata": {
        "id": "788XTrXl8E67"
      }
    }
  ]
}