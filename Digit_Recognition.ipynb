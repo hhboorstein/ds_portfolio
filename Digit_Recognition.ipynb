{
  "nbformat": 4,
  "nbformat_minor": 0,
  "metadata": {
    "colab": {
      "provenance": [],
      "authorship_tag": "ABX9TyN7sP92bm04QpDEZg0+4hEc",
      "include_colab_link": true
    },
    "kernelspec": {
      "name": "python3",
      "display_name": "Python 3"
    },
    "language_info": {
      "name": "python"
    },
    "accelerator": "GPU",
    "gpuClass": "standard",
    "widgets": {
      "application/vnd.jupyter.widget-state+json": {
        "0930ee9f70134e5385aaf87e7289a2ac": {
          "model_module": "@jupyter-widgets/controls",
          "model_name": "HBoxModel",
          "model_module_version": "1.5.0",
          "state": {
            "_dom_classes": [],
            "_model_module": "@jupyter-widgets/controls",
            "_model_module_version": "1.5.0",
            "_model_name": "HBoxModel",
            "_view_count": null,
            "_view_module": "@jupyter-widgets/controls",
            "_view_module_version": "1.5.0",
            "_view_name": "HBoxView",
            "box_style": "",
            "children": [
              "IPY_MODEL_8b5201b649aa4263815a9a1003fe2198",
              "IPY_MODEL_467d10e1114c4e588fbb142cdc37248c",
              "IPY_MODEL_797bcf1a4e644413ab17956419620b4c"
            ],
            "layout": "IPY_MODEL_3db046a0612c4f9b9d1f80c4c58bf26c"
          }
        },
        "8b5201b649aa4263815a9a1003fe2198": {
          "model_module": "@jupyter-widgets/controls",
          "model_name": "HTMLModel",
          "model_module_version": "1.5.0",
          "state": {
            "_dom_classes": [],
            "_model_module": "@jupyter-widgets/controls",
            "_model_module_version": "1.5.0",
            "_model_name": "HTMLModel",
            "_view_count": null,
            "_view_module": "@jupyter-widgets/controls",
            "_view_module_version": "1.5.0",
            "_view_name": "HTMLView",
            "description": "",
            "description_tooltip": null,
            "layout": "IPY_MODEL_d1257d247fc64a2c9c184bfbc12283f2",
            "placeholder": "​",
            "style": "IPY_MODEL_62dde3b002bc485b8dd89981427f5597",
            "value": "100%"
          }
        },
        "467d10e1114c4e588fbb142cdc37248c": {
          "model_module": "@jupyter-widgets/controls",
          "model_name": "FloatProgressModel",
          "model_module_version": "1.5.0",
          "state": {
            "_dom_classes": [],
            "_model_module": "@jupyter-widgets/controls",
            "_model_module_version": "1.5.0",
            "_model_name": "FloatProgressModel",
            "_view_count": null,
            "_view_module": "@jupyter-widgets/controls",
            "_view_module_version": "1.5.0",
            "_view_name": "ProgressView",
            "bar_style": "success",
            "description": "",
            "description_tooltip": null,
            "layout": "IPY_MODEL_6de39d826685414c911596a5b2df662c",
            "max": 9912422,
            "min": 0,
            "orientation": "horizontal",
            "style": "IPY_MODEL_150a31c18ec04631b94ff4558390c223",
            "value": 9912422
          }
        },
        "797bcf1a4e644413ab17956419620b4c": {
          "model_module": "@jupyter-widgets/controls",
          "model_name": "HTMLModel",
          "model_module_version": "1.5.0",
          "state": {
            "_dom_classes": [],
            "_model_module": "@jupyter-widgets/controls",
            "_model_module_version": "1.5.0",
            "_model_name": "HTMLModel",
            "_view_count": null,
            "_view_module": "@jupyter-widgets/controls",
            "_view_module_version": "1.5.0",
            "_view_name": "HTMLView",
            "description": "",
            "description_tooltip": null,
            "layout": "IPY_MODEL_2505fe9c308a415b9382dc5d3e8d0a6d",
            "placeholder": "​",
            "style": "IPY_MODEL_3b55002b0fdc4c9e9ef057d3adbe8b3e",
            "value": " 9912422/9912422 [00:00&lt;00:00, 77965422.38it/s]"
          }
        },
        "3db046a0612c4f9b9d1f80c4c58bf26c": {
          "model_module": "@jupyter-widgets/base",
          "model_name": "LayoutModel",
          "model_module_version": "1.2.0",
          "state": {
            "_model_module": "@jupyter-widgets/base",
            "_model_module_version": "1.2.0",
            "_model_name": "LayoutModel",
            "_view_count": null,
            "_view_module": "@jupyter-widgets/base",
            "_view_module_version": "1.2.0",
            "_view_name": "LayoutView",
            "align_content": null,
            "align_items": null,
            "align_self": null,
            "border": null,
            "bottom": null,
            "display": null,
            "flex": null,
            "flex_flow": null,
            "grid_area": null,
            "grid_auto_columns": null,
            "grid_auto_flow": null,
            "grid_auto_rows": null,
            "grid_column": null,
            "grid_gap": null,
            "grid_row": null,
            "grid_template_areas": null,
            "grid_template_columns": null,
            "grid_template_rows": null,
            "height": null,
            "justify_content": null,
            "justify_items": null,
            "left": null,
            "margin": null,
            "max_height": null,
            "max_width": null,
            "min_height": null,
            "min_width": null,
            "object_fit": null,
            "object_position": null,
            "order": null,
            "overflow": null,
            "overflow_x": null,
            "overflow_y": null,
            "padding": null,
            "right": null,
            "top": null,
            "visibility": null,
            "width": null
          }
        },
        "d1257d247fc64a2c9c184bfbc12283f2": {
          "model_module": "@jupyter-widgets/base",
          "model_name": "LayoutModel",
          "model_module_version": "1.2.0",
          "state": {
            "_model_module": "@jupyter-widgets/base",
            "_model_module_version": "1.2.0",
            "_model_name": "LayoutModel",
            "_view_count": null,
            "_view_module": "@jupyter-widgets/base",
            "_view_module_version": "1.2.0",
            "_view_name": "LayoutView",
            "align_content": null,
            "align_items": null,
            "align_self": null,
            "border": null,
            "bottom": null,
            "display": null,
            "flex": null,
            "flex_flow": null,
            "grid_area": null,
            "grid_auto_columns": null,
            "grid_auto_flow": null,
            "grid_auto_rows": null,
            "grid_column": null,
            "grid_gap": null,
            "grid_row": null,
            "grid_template_areas": null,
            "grid_template_columns": null,
            "grid_template_rows": null,
            "height": null,
            "justify_content": null,
            "justify_items": null,
            "left": null,
            "margin": null,
            "max_height": null,
            "max_width": null,
            "min_height": null,
            "min_width": null,
            "object_fit": null,
            "object_position": null,
            "order": null,
            "overflow": null,
            "overflow_x": null,
            "overflow_y": null,
            "padding": null,
            "right": null,
            "top": null,
            "visibility": null,
            "width": null
          }
        },
        "62dde3b002bc485b8dd89981427f5597": {
          "model_module": "@jupyter-widgets/controls",
          "model_name": "DescriptionStyleModel",
          "model_module_version": "1.5.0",
          "state": {
            "_model_module": "@jupyter-widgets/controls",
            "_model_module_version": "1.5.0",
            "_model_name": "DescriptionStyleModel",
            "_view_count": null,
            "_view_module": "@jupyter-widgets/base",
            "_view_module_version": "1.2.0",
            "_view_name": "StyleView",
            "description_width": ""
          }
        },
        "6de39d826685414c911596a5b2df662c": {
          "model_module": "@jupyter-widgets/base",
          "model_name": "LayoutModel",
          "model_module_version": "1.2.0",
          "state": {
            "_model_module": "@jupyter-widgets/base",
            "_model_module_version": "1.2.0",
            "_model_name": "LayoutModel",
            "_view_count": null,
            "_view_module": "@jupyter-widgets/base",
            "_view_module_version": "1.2.0",
            "_view_name": "LayoutView",
            "align_content": null,
            "align_items": null,
            "align_self": null,
            "border": null,
            "bottom": null,
            "display": null,
            "flex": null,
            "flex_flow": null,
            "grid_area": null,
            "grid_auto_columns": null,
            "grid_auto_flow": null,
            "grid_auto_rows": null,
            "grid_column": null,
            "grid_gap": null,
            "grid_row": null,
            "grid_template_areas": null,
            "grid_template_columns": null,
            "grid_template_rows": null,
            "height": null,
            "justify_content": null,
            "justify_items": null,
            "left": null,
            "margin": null,
            "max_height": null,
            "max_width": null,
            "min_height": null,
            "min_width": null,
            "object_fit": null,
            "object_position": null,
            "order": null,
            "overflow": null,
            "overflow_x": null,
            "overflow_y": null,
            "padding": null,
            "right": null,
            "top": null,
            "visibility": null,
            "width": null
          }
        },
        "150a31c18ec04631b94ff4558390c223": {
          "model_module": "@jupyter-widgets/controls",
          "model_name": "ProgressStyleModel",
          "model_module_version": "1.5.0",
          "state": {
            "_model_module": "@jupyter-widgets/controls",
            "_model_module_version": "1.5.0",
            "_model_name": "ProgressStyleModel",
            "_view_count": null,
            "_view_module": "@jupyter-widgets/base",
            "_view_module_version": "1.2.0",
            "_view_name": "StyleView",
            "bar_color": null,
            "description_width": ""
          }
        },
        "2505fe9c308a415b9382dc5d3e8d0a6d": {
          "model_module": "@jupyter-widgets/base",
          "model_name": "LayoutModel",
          "model_module_version": "1.2.0",
          "state": {
            "_model_module": "@jupyter-widgets/base",
            "_model_module_version": "1.2.0",
            "_model_name": "LayoutModel",
            "_view_count": null,
            "_view_module": "@jupyter-widgets/base",
            "_view_module_version": "1.2.0",
            "_view_name": "LayoutView",
            "align_content": null,
            "align_items": null,
            "align_self": null,
            "border": null,
            "bottom": null,
            "display": null,
            "flex": null,
            "flex_flow": null,
            "grid_area": null,
            "grid_auto_columns": null,
            "grid_auto_flow": null,
            "grid_auto_rows": null,
            "grid_column": null,
            "grid_gap": null,
            "grid_row": null,
            "grid_template_areas": null,
            "grid_template_columns": null,
            "grid_template_rows": null,
            "height": null,
            "justify_content": null,
            "justify_items": null,
            "left": null,
            "margin": null,
            "max_height": null,
            "max_width": null,
            "min_height": null,
            "min_width": null,
            "object_fit": null,
            "object_position": null,
            "order": null,
            "overflow": null,
            "overflow_x": null,
            "overflow_y": null,
            "padding": null,
            "right": null,
            "top": null,
            "visibility": null,
            "width": null
          }
        },
        "3b55002b0fdc4c9e9ef057d3adbe8b3e": {
          "model_module": "@jupyter-widgets/controls",
          "model_name": "DescriptionStyleModel",
          "model_module_version": "1.5.0",
          "state": {
            "_model_module": "@jupyter-widgets/controls",
            "_model_module_version": "1.5.0",
            "_model_name": "DescriptionStyleModel",
            "_view_count": null,
            "_view_module": "@jupyter-widgets/base",
            "_view_module_version": "1.2.0",
            "_view_name": "StyleView",
            "description_width": ""
          }
        },
        "9af2f882d02c43aaad5c84445a2bbcc6": {
          "model_module": "@jupyter-widgets/controls",
          "model_name": "HBoxModel",
          "model_module_version": "1.5.0",
          "state": {
            "_dom_classes": [],
            "_model_module": "@jupyter-widgets/controls",
            "_model_module_version": "1.5.0",
            "_model_name": "HBoxModel",
            "_view_count": null,
            "_view_module": "@jupyter-widgets/controls",
            "_view_module_version": "1.5.0",
            "_view_name": "HBoxView",
            "box_style": "",
            "children": [
              "IPY_MODEL_2ddecdead6334b33b109ba4e7123d399",
              "IPY_MODEL_b1c3ff30d64d43c99f6280eb00a0cfb2",
              "IPY_MODEL_261e44b75d824e4baa6e114099fe170d"
            ],
            "layout": "IPY_MODEL_c6a602dd4d0e459db799f6780b2907cf"
          }
        },
        "2ddecdead6334b33b109ba4e7123d399": {
          "model_module": "@jupyter-widgets/controls",
          "model_name": "HTMLModel",
          "model_module_version": "1.5.0",
          "state": {
            "_dom_classes": [],
            "_model_module": "@jupyter-widgets/controls",
            "_model_module_version": "1.5.0",
            "_model_name": "HTMLModel",
            "_view_count": null,
            "_view_module": "@jupyter-widgets/controls",
            "_view_module_version": "1.5.0",
            "_view_name": "HTMLView",
            "description": "",
            "description_tooltip": null,
            "layout": "IPY_MODEL_ff676245cb364693a220dba59df12557",
            "placeholder": "​",
            "style": "IPY_MODEL_640e00ee7e0948ad86675feb802c053f",
            "value": "100%"
          }
        },
        "b1c3ff30d64d43c99f6280eb00a0cfb2": {
          "model_module": "@jupyter-widgets/controls",
          "model_name": "FloatProgressModel",
          "model_module_version": "1.5.0",
          "state": {
            "_dom_classes": [],
            "_model_module": "@jupyter-widgets/controls",
            "_model_module_version": "1.5.0",
            "_model_name": "FloatProgressModel",
            "_view_count": null,
            "_view_module": "@jupyter-widgets/controls",
            "_view_module_version": "1.5.0",
            "_view_name": "ProgressView",
            "bar_style": "success",
            "description": "",
            "description_tooltip": null,
            "layout": "IPY_MODEL_6c818bbd5e9946539670556129890d2c",
            "max": 28881,
            "min": 0,
            "orientation": "horizontal",
            "style": "IPY_MODEL_8ef9ae8a941b44caa5185f9ee742ae2c",
            "value": 28881
          }
        },
        "261e44b75d824e4baa6e114099fe170d": {
          "model_module": "@jupyter-widgets/controls",
          "model_name": "HTMLModel",
          "model_module_version": "1.5.0",
          "state": {
            "_dom_classes": [],
            "_model_module": "@jupyter-widgets/controls",
            "_model_module_version": "1.5.0",
            "_model_name": "HTMLModel",
            "_view_count": null,
            "_view_module": "@jupyter-widgets/controls",
            "_view_module_version": "1.5.0",
            "_view_name": "HTMLView",
            "description": "",
            "description_tooltip": null,
            "layout": "IPY_MODEL_b6fb971282ce4318846203e43d51c934",
            "placeholder": "​",
            "style": "IPY_MODEL_3c7b552d3093498ea83313642050a280",
            "value": " 28881/28881 [00:00&lt;00:00, 1074050.34it/s]"
          }
        },
        "c6a602dd4d0e459db799f6780b2907cf": {
          "model_module": "@jupyter-widgets/base",
          "model_name": "LayoutModel",
          "model_module_version": "1.2.0",
          "state": {
            "_model_module": "@jupyter-widgets/base",
            "_model_module_version": "1.2.0",
            "_model_name": "LayoutModel",
            "_view_count": null,
            "_view_module": "@jupyter-widgets/base",
            "_view_module_version": "1.2.0",
            "_view_name": "LayoutView",
            "align_content": null,
            "align_items": null,
            "align_self": null,
            "border": null,
            "bottom": null,
            "display": null,
            "flex": null,
            "flex_flow": null,
            "grid_area": null,
            "grid_auto_columns": null,
            "grid_auto_flow": null,
            "grid_auto_rows": null,
            "grid_column": null,
            "grid_gap": null,
            "grid_row": null,
            "grid_template_areas": null,
            "grid_template_columns": null,
            "grid_template_rows": null,
            "height": null,
            "justify_content": null,
            "justify_items": null,
            "left": null,
            "margin": null,
            "max_height": null,
            "max_width": null,
            "min_height": null,
            "min_width": null,
            "object_fit": null,
            "object_position": null,
            "order": null,
            "overflow": null,
            "overflow_x": null,
            "overflow_y": null,
            "padding": null,
            "right": null,
            "top": null,
            "visibility": null,
            "width": null
          }
        },
        "ff676245cb364693a220dba59df12557": {
          "model_module": "@jupyter-widgets/base",
          "model_name": "LayoutModel",
          "model_module_version": "1.2.0",
          "state": {
            "_model_module": "@jupyter-widgets/base",
            "_model_module_version": "1.2.0",
            "_model_name": "LayoutModel",
            "_view_count": null,
            "_view_module": "@jupyter-widgets/base",
            "_view_module_version": "1.2.0",
            "_view_name": "LayoutView",
            "align_content": null,
            "align_items": null,
            "align_self": null,
            "border": null,
            "bottom": null,
            "display": null,
            "flex": null,
            "flex_flow": null,
            "grid_area": null,
            "grid_auto_columns": null,
            "grid_auto_flow": null,
            "grid_auto_rows": null,
            "grid_column": null,
            "grid_gap": null,
            "grid_row": null,
            "grid_template_areas": null,
            "grid_template_columns": null,
            "grid_template_rows": null,
            "height": null,
            "justify_content": null,
            "justify_items": null,
            "left": null,
            "margin": null,
            "max_height": null,
            "max_width": null,
            "min_height": null,
            "min_width": null,
            "object_fit": null,
            "object_position": null,
            "order": null,
            "overflow": null,
            "overflow_x": null,
            "overflow_y": null,
            "padding": null,
            "right": null,
            "top": null,
            "visibility": null,
            "width": null
          }
        },
        "640e00ee7e0948ad86675feb802c053f": {
          "model_module": "@jupyter-widgets/controls",
          "model_name": "DescriptionStyleModel",
          "model_module_version": "1.5.0",
          "state": {
            "_model_module": "@jupyter-widgets/controls",
            "_model_module_version": "1.5.0",
            "_model_name": "DescriptionStyleModel",
            "_view_count": null,
            "_view_module": "@jupyter-widgets/base",
            "_view_module_version": "1.2.0",
            "_view_name": "StyleView",
            "description_width": ""
          }
        },
        "6c818bbd5e9946539670556129890d2c": {
          "model_module": "@jupyter-widgets/base",
          "model_name": "LayoutModel",
          "model_module_version": "1.2.0",
          "state": {
            "_model_module": "@jupyter-widgets/base",
            "_model_module_version": "1.2.0",
            "_model_name": "LayoutModel",
            "_view_count": null,
            "_view_module": "@jupyter-widgets/base",
            "_view_module_version": "1.2.0",
            "_view_name": "LayoutView",
            "align_content": null,
            "align_items": null,
            "align_self": null,
            "border": null,
            "bottom": null,
            "display": null,
            "flex": null,
            "flex_flow": null,
            "grid_area": null,
            "grid_auto_columns": null,
            "grid_auto_flow": null,
            "grid_auto_rows": null,
            "grid_column": null,
            "grid_gap": null,
            "grid_row": null,
            "grid_template_areas": null,
            "grid_template_columns": null,
            "grid_template_rows": null,
            "height": null,
            "justify_content": null,
            "justify_items": null,
            "left": null,
            "margin": null,
            "max_height": null,
            "max_width": null,
            "min_height": null,
            "min_width": null,
            "object_fit": null,
            "object_position": null,
            "order": null,
            "overflow": null,
            "overflow_x": null,
            "overflow_y": null,
            "padding": null,
            "right": null,
            "top": null,
            "visibility": null,
            "width": null
          }
        },
        "8ef9ae8a941b44caa5185f9ee742ae2c": {
          "model_module": "@jupyter-widgets/controls",
          "model_name": "ProgressStyleModel",
          "model_module_version": "1.5.0",
          "state": {
            "_model_module": "@jupyter-widgets/controls",
            "_model_module_version": "1.5.0",
            "_model_name": "ProgressStyleModel",
            "_view_count": null,
            "_view_module": "@jupyter-widgets/base",
            "_view_module_version": "1.2.0",
            "_view_name": "StyleView",
            "bar_color": null,
            "description_width": ""
          }
        },
        "b6fb971282ce4318846203e43d51c934": {
          "model_module": "@jupyter-widgets/base",
          "model_name": "LayoutModel",
          "model_module_version": "1.2.0",
          "state": {
            "_model_module": "@jupyter-widgets/base",
            "_model_module_version": "1.2.0",
            "_model_name": "LayoutModel",
            "_view_count": null,
            "_view_module": "@jupyter-widgets/base",
            "_view_module_version": "1.2.0",
            "_view_name": "LayoutView",
            "align_content": null,
            "align_items": null,
            "align_self": null,
            "border": null,
            "bottom": null,
            "display": null,
            "flex": null,
            "flex_flow": null,
            "grid_area": null,
            "grid_auto_columns": null,
            "grid_auto_flow": null,
            "grid_auto_rows": null,
            "grid_column": null,
            "grid_gap": null,
            "grid_row": null,
            "grid_template_areas": null,
            "grid_template_columns": null,
            "grid_template_rows": null,
            "height": null,
            "justify_content": null,
            "justify_items": null,
            "left": null,
            "margin": null,
            "max_height": null,
            "max_width": null,
            "min_height": null,
            "min_width": null,
            "object_fit": null,
            "object_position": null,
            "order": null,
            "overflow": null,
            "overflow_x": null,
            "overflow_y": null,
            "padding": null,
            "right": null,
            "top": null,
            "visibility": null,
            "width": null
          }
        },
        "3c7b552d3093498ea83313642050a280": {
          "model_module": "@jupyter-widgets/controls",
          "model_name": "DescriptionStyleModel",
          "model_module_version": "1.5.0",
          "state": {
            "_model_module": "@jupyter-widgets/controls",
            "_model_module_version": "1.5.0",
            "_model_name": "DescriptionStyleModel",
            "_view_count": null,
            "_view_module": "@jupyter-widgets/base",
            "_view_module_version": "1.2.0",
            "_view_name": "StyleView",
            "description_width": ""
          }
        },
        "f56bb0a452ce40c5a7c5b32efa0b016c": {
          "model_module": "@jupyter-widgets/controls",
          "model_name": "HBoxModel",
          "model_module_version": "1.5.0",
          "state": {
            "_dom_classes": [],
            "_model_module": "@jupyter-widgets/controls",
            "_model_module_version": "1.5.0",
            "_model_name": "HBoxModel",
            "_view_count": null,
            "_view_module": "@jupyter-widgets/controls",
            "_view_module_version": "1.5.0",
            "_view_name": "HBoxView",
            "box_style": "",
            "children": [
              "IPY_MODEL_16ada678ff8f47d298735814ecf9130b",
              "IPY_MODEL_65a2ea16c70549429fc8418377fbac9c",
              "IPY_MODEL_4091889727db4268a17573b6408312fa"
            ],
            "layout": "IPY_MODEL_fe8fbb12bae5430f82176c09ee2d9f5f"
          }
        },
        "16ada678ff8f47d298735814ecf9130b": {
          "model_module": "@jupyter-widgets/controls",
          "model_name": "HTMLModel",
          "model_module_version": "1.5.0",
          "state": {
            "_dom_classes": [],
            "_model_module": "@jupyter-widgets/controls",
            "_model_module_version": "1.5.0",
            "_model_name": "HTMLModel",
            "_view_count": null,
            "_view_module": "@jupyter-widgets/controls",
            "_view_module_version": "1.5.0",
            "_view_name": "HTMLView",
            "description": "",
            "description_tooltip": null,
            "layout": "IPY_MODEL_2a4261be576246178855964054dca14d",
            "placeholder": "​",
            "style": "IPY_MODEL_4a7fa01e115a4a20bb5a930308df2f76",
            "value": "100%"
          }
        },
        "65a2ea16c70549429fc8418377fbac9c": {
          "model_module": "@jupyter-widgets/controls",
          "model_name": "FloatProgressModel",
          "model_module_version": "1.5.0",
          "state": {
            "_dom_classes": [],
            "_model_module": "@jupyter-widgets/controls",
            "_model_module_version": "1.5.0",
            "_model_name": "FloatProgressModel",
            "_view_count": null,
            "_view_module": "@jupyter-widgets/controls",
            "_view_module_version": "1.5.0",
            "_view_name": "ProgressView",
            "bar_style": "success",
            "description": "",
            "description_tooltip": null,
            "layout": "IPY_MODEL_d5740ca58a9742d7ac3980309c68669e",
            "max": 1648877,
            "min": 0,
            "orientation": "horizontal",
            "style": "IPY_MODEL_8f408ef4d0714f35ae341f807b86926d",
            "value": 1648877
          }
        },
        "4091889727db4268a17573b6408312fa": {
          "model_module": "@jupyter-widgets/controls",
          "model_name": "HTMLModel",
          "model_module_version": "1.5.0",
          "state": {
            "_dom_classes": [],
            "_model_module": "@jupyter-widgets/controls",
            "_model_module_version": "1.5.0",
            "_model_name": "HTMLModel",
            "_view_count": null,
            "_view_module": "@jupyter-widgets/controls",
            "_view_module_version": "1.5.0",
            "_view_name": "HTMLView",
            "description": "",
            "description_tooltip": null,
            "layout": "IPY_MODEL_755cd37e646a49cc9e5f4b5e3f41ff57",
            "placeholder": "​",
            "style": "IPY_MODEL_fcbc8805723641b0a25b0db12715f79f",
            "value": " 1648877/1648877 [00:00&lt;00:00, 30530906.17it/s]"
          }
        },
        "fe8fbb12bae5430f82176c09ee2d9f5f": {
          "model_module": "@jupyter-widgets/base",
          "model_name": "LayoutModel",
          "model_module_version": "1.2.0",
          "state": {
            "_model_module": "@jupyter-widgets/base",
            "_model_module_version": "1.2.0",
            "_model_name": "LayoutModel",
            "_view_count": null,
            "_view_module": "@jupyter-widgets/base",
            "_view_module_version": "1.2.0",
            "_view_name": "LayoutView",
            "align_content": null,
            "align_items": null,
            "align_self": null,
            "border": null,
            "bottom": null,
            "display": null,
            "flex": null,
            "flex_flow": null,
            "grid_area": null,
            "grid_auto_columns": null,
            "grid_auto_flow": null,
            "grid_auto_rows": null,
            "grid_column": null,
            "grid_gap": null,
            "grid_row": null,
            "grid_template_areas": null,
            "grid_template_columns": null,
            "grid_template_rows": null,
            "height": null,
            "justify_content": null,
            "justify_items": null,
            "left": null,
            "margin": null,
            "max_height": null,
            "max_width": null,
            "min_height": null,
            "min_width": null,
            "object_fit": null,
            "object_position": null,
            "order": null,
            "overflow": null,
            "overflow_x": null,
            "overflow_y": null,
            "padding": null,
            "right": null,
            "top": null,
            "visibility": null,
            "width": null
          }
        },
        "2a4261be576246178855964054dca14d": {
          "model_module": "@jupyter-widgets/base",
          "model_name": "LayoutModel",
          "model_module_version": "1.2.0",
          "state": {
            "_model_module": "@jupyter-widgets/base",
            "_model_module_version": "1.2.0",
            "_model_name": "LayoutModel",
            "_view_count": null,
            "_view_module": "@jupyter-widgets/base",
            "_view_module_version": "1.2.0",
            "_view_name": "LayoutView",
            "align_content": null,
            "align_items": null,
            "align_self": null,
            "border": null,
            "bottom": null,
            "display": null,
            "flex": null,
            "flex_flow": null,
            "grid_area": null,
            "grid_auto_columns": null,
            "grid_auto_flow": null,
            "grid_auto_rows": null,
            "grid_column": null,
            "grid_gap": null,
            "grid_row": null,
            "grid_template_areas": null,
            "grid_template_columns": null,
            "grid_template_rows": null,
            "height": null,
            "justify_content": null,
            "justify_items": null,
            "left": null,
            "margin": null,
            "max_height": null,
            "max_width": null,
            "min_height": null,
            "min_width": null,
            "object_fit": null,
            "object_position": null,
            "order": null,
            "overflow": null,
            "overflow_x": null,
            "overflow_y": null,
            "padding": null,
            "right": null,
            "top": null,
            "visibility": null,
            "width": null
          }
        },
        "4a7fa01e115a4a20bb5a930308df2f76": {
          "model_module": "@jupyter-widgets/controls",
          "model_name": "DescriptionStyleModel",
          "model_module_version": "1.5.0",
          "state": {
            "_model_module": "@jupyter-widgets/controls",
            "_model_module_version": "1.5.0",
            "_model_name": "DescriptionStyleModel",
            "_view_count": null,
            "_view_module": "@jupyter-widgets/base",
            "_view_module_version": "1.2.0",
            "_view_name": "StyleView",
            "description_width": ""
          }
        },
        "d5740ca58a9742d7ac3980309c68669e": {
          "model_module": "@jupyter-widgets/base",
          "model_name": "LayoutModel",
          "model_module_version": "1.2.0",
          "state": {
            "_model_module": "@jupyter-widgets/base",
            "_model_module_version": "1.2.0",
            "_model_name": "LayoutModel",
            "_view_count": null,
            "_view_module": "@jupyter-widgets/base",
            "_view_module_version": "1.2.0",
            "_view_name": "LayoutView",
            "align_content": null,
            "align_items": null,
            "align_self": null,
            "border": null,
            "bottom": null,
            "display": null,
            "flex": null,
            "flex_flow": null,
            "grid_area": null,
            "grid_auto_columns": null,
            "grid_auto_flow": null,
            "grid_auto_rows": null,
            "grid_column": null,
            "grid_gap": null,
            "grid_row": null,
            "grid_template_areas": null,
            "grid_template_columns": null,
            "grid_template_rows": null,
            "height": null,
            "justify_content": null,
            "justify_items": null,
            "left": null,
            "margin": null,
            "max_height": null,
            "max_width": null,
            "min_height": null,
            "min_width": null,
            "object_fit": null,
            "object_position": null,
            "order": null,
            "overflow": null,
            "overflow_x": null,
            "overflow_y": null,
            "padding": null,
            "right": null,
            "top": null,
            "visibility": null,
            "width": null
          }
        },
        "8f408ef4d0714f35ae341f807b86926d": {
          "model_module": "@jupyter-widgets/controls",
          "model_name": "ProgressStyleModel",
          "model_module_version": "1.5.0",
          "state": {
            "_model_module": "@jupyter-widgets/controls",
            "_model_module_version": "1.5.0",
            "_model_name": "ProgressStyleModel",
            "_view_count": null,
            "_view_module": "@jupyter-widgets/base",
            "_view_module_version": "1.2.0",
            "_view_name": "StyleView",
            "bar_color": null,
            "description_width": ""
          }
        },
        "755cd37e646a49cc9e5f4b5e3f41ff57": {
          "model_module": "@jupyter-widgets/base",
          "model_name": "LayoutModel",
          "model_module_version": "1.2.0",
          "state": {
            "_model_module": "@jupyter-widgets/base",
            "_model_module_version": "1.2.0",
            "_model_name": "LayoutModel",
            "_view_count": null,
            "_view_module": "@jupyter-widgets/base",
            "_view_module_version": "1.2.0",
            "_view_name": "LayoutView",
            "align_content": null,
            "align_items": null,
            "align_self": null,
            "border": null,
            "bottom": null,
            "display": null,
            "flex": null,
            "flex_flow": null,
            "grid_area": null,
            "grid_auto_columns": null,
            "grid_auto_flow": null,
            "grid_auto_rows": null,
            "grid_column": null,
            "grid_gap": null,
            "grid_row": null,
            "grid_template_areas": null,
            "grid_template_columns": null,
            "grid_template_rows": null,
            "height": null,
            "justify_content": null,
            "justify_items": null,
            "left": null,
            "margin": null,
            "max_height": null,
            "max_width": null,
            "min_height": null,
            "min_width": null,
            "object_fit": null,
            "object_position": null,
            "order": null,
            "overflow": null,
            "overflow_x": null,
            "overflow_y": null,
            "padding": null,
            "right": null,
            "top": null,
            "visibility": null,
            "width": null
          }
        },
        "fcbc8805723641b0a25b0db12715f79f": {
          "model_module": "@jupyter-widgets/controls",
          "model_name": "DescriptionStyleModel",
          "model_module_version": "1.5.0",
          "state": {
            "_model_module": "@jupyter-widgets/controls",
            "_model_module_version": "1.5.0",
            "_model_name": "DescriptionStyleModel",
            "_view_count": null,
            "_view_module": "@jupyter-widgets/base",
            "_view_module_version": "1.2.0",
            "_view_name": "StyleView",
            "description_width": ""
          }
        },
        "6b0871ddba29467180fc7a531a99f6ae": {
          "model_module": "@jupyter-widgets/controls",
          "model_name": "HBoxModel",
          "model_module_version": "1.5.0",
          "state": {
            "_dom_classes": [],
            "_model_module": "@jupyter-widgets/controls",
            "_model_module_version": "1.5.0",
            "_model_name": "HBoxModel",
            "_view_count": null,
            "_view_module": "@jupyter-widgets/controls",
            "_view_module_version": "1.5.0",
            "_view_name": "HBoxView",
            "box_style": "",
            "children": [
              "IPY_MODEL_8c06fb1de3d54af19c46261266a92fbf",
              "IPY_MODEL_629642c34ac54d0882c04c39f64bd476",
              "IPY_MODEL_8d69345fc747424da012c26dbf7db8e3"
            ],
            "layout": "IPY_MODEL_3dbc2f99eabc4e588b32d9edfb8b9bb1"
          }
        },
        "8c06fb1de3d54af19c46261266a92fbf": {
          "model_module": "@jupyter-widgets/controls",
          "model_name": "HTMLModel",
          "model_module_version": "1.5.0",
          "state": {
            "_dom_classes": [],
            "_model_module": "@jupyter-widgets/controls",
            "_model_module_version": "1.5.0",
            "_model_name": "HTMLModel",
            "_view_count": null,
            "_view_module": "@jupyter-widgets/controls",
            "_view_module_version": "1.5.0",
            "_view_name": "HTMLView",
            "description": "",
            "description_tooltip": null,
            "layout": "IPY_MODEL_9a7b33aaa35e45ac9f228c339ac338fb",
            "placeholder": "​",
            "style": "IPY_MODEL_af1a57b031b344da8b39663290c8e5ae",
            "value": "100%"
          }
        },
        "629642c34ac54d0882c04c39f64bd476": {
          "model_module": "@jupyter-widgets/controls",
          "model_name": "FloatProgressModel",
          "model_module_version": "1.5.0",
          "state": {
            "_dom_classes": [],
            "_model_module": "@jupyter-widgets/controls",
            "_model_module_version": "1.5.0",
            "_model_name": "FloatProgressModel",
            "_view_count": null,
            "_view_module": "@jupyter-widgets/controls",
            "_view_module_version": "1.5.0",
            "_view_name": "ProgressView",
            "bar_style": "success",
            "description": "",
            "description_tooltip": null,
            "layout": "IPY_MODEL_5aed6730fd5e435bb21000815737fd95",
            "max": 4542,
            "min": 0,
            "orientation": "horizontal",
            "style": "IPY_MODEL_9a4d73b604a34cd4b166b1dd77385a0e",
            "value": 4542
          }
        },
        "8d69345fc747424da012c26dbf7db8e3": {
          "model_module": "@jupyter-widgets/controls",
          "model_name": "HTMLModel",
          "model_module_version": "1.5.0",
          "state": {
            "_dom_classes": [],
            "_model_module": "@jupyter-widgets/controls",
            "_model_module_version": "1.5.0",
            "_model_name": "HTMLModel",
            "_view_count": null,
            "_view_module": "@jupyter-widgets/controls",
            "_view_module_version": "1.5.0",
            "_view_name": "HTMLView",
            "description": "",
            "description_tooltip": null,
            "layout": "IPY_MODEL_fb382e757ac24030b378d3fb0b1f9cb6",
            "placeholder": "​",
            "style": "IPY_MODEL_19d5b2f7148142068fcfa6fb9bb97d35",
            "value": " 4542/4542 [00:00&lt;00:00, 65236.40it/s]"
          }
        },
        "3dbc2f99eabc4e588b32d9edfb8b9bb1": {
          "model_module": "@jupyter-widgets/base",
          "model_name": "LayoutModel",
          "model_module_version": "1.2.0",
          "state": {
            "_model_module": "@jupyter-widgets/base",
            "_model_module_version": "1.2.0",
            "_model_name": "LayoutModel",
            "_view_count": null,
            "_view_module": "@jupyter-widgets/base",
            "_view_module_version": "1.2.0",
            "_view_name": "LayoutView",
            "align_content": null,
            "align_items": null,
            "align_self": null,
            "border": null,
            "bottom": null,
            "display": null,
            "flex": null,
            "flex_flow": null,
            "grid_area": null,
            "grid_auto_columns": null,
            "grid_auto_flow": null,
            "grid_auto_rows": null,
            "grid_column": null,
            "grid_gap": null,
            "grid_row": null,
            "grid_template_areas": null,
            "grid_template_columns": null,
            "grid_template_rows": null,
            "height": null,
            "justify_content": null,
            "justify_items": null,
            "left": null,
            "margin": null,
            "max_height": null,
            "max_width": null,
            "min_height": null,
            "min_width": null,
            "object_fit": null,
            "object_position": null,
            "order": null,
            "overflow": null,
            "overflow_x": null,
            "overflow_y": null,
            "padding": null,
            "right": null,
            "top": null,
            "visibility": null,
            "width": null
          }
        },
        "9a7b33aaa35e45ac9f228c339ac338fb": {
          "model_module": "@jupyter-widgets/base",
          "model_name": "LayoutModel",
          "model_module_version": "1.2.0",
          "state": {
            "_model_module": "@jupyter-widgets/base",
            "_model_module_version": "1.2.0",
            "_model_name": "LayoutModel",
            "_view_count": null,
            "_view_module": "@jupyter-widgets/base",
            "_view_module_version": "1.2.0",
            "_view_name": "LayoutView",
            "align_content": null,
            "align_items": null,
            "align_self": null,
            "border": null,
            "bottom": null,
            "display": null,
            "flex": null,
            "flex_flow": null,
            "grid_area": null,
            "grid_auto_columns": null,
            "grid_auto_flow": null,
            "grid_auto_rows": null,
            "grid_column": null,
            "grid_gap": null,
            "grid_row": null,
            "grid_template_areas": null,
            "grid_template_columns": null,
            "grid_template_rows": null,
            "height": null,
            "justify_content": null,
            "justify_items": null,
            "left": null,
            "margin": null,
            "max_height": null,
            "max_width": null,
            "min_height": null,
            "min_width": null,
            "object_fit": null,
            "object_position": null,
            "order": null,
            "overflow": null,
            "overflow_x": null,
            "overflow_y": null,
            "padding": null,
            "right": null,
            "top": null,
            "visibility": null,
            "width": null
          }
        },
        "af1a57b031b344da8b39663290c8e5ae": {
          "model_module": "@jupyter-widgets/controls",
          "model_name": "DescriptionStyleModel",
          "model_module_version": "1.5.0",
          "state": {
            "_model_module": "@jupyter-widgets/controls",
            "_model_module_version": "1.5.0",
            "_model_name": "DescriptionStyleModel",
            "_view_count": null,
            "_view_module": "@jupyter-widgets/base",
            "_view_module_version": "1.2.0",
            "_view_name": "StyleView",
            "description_width": ""
          }
        },
        "5aed6730fd5e435bb21000815737fd95": {
          "model_module": "@jupyter-widgets/base",
          "model_name": "LayoutModel",
          "model_module_version": "1.2.0",
          "state": {
            "_model_module": "@jupyter-widgets/base",
            "_model_module_version": "1.2.0",
            "_model_name": "LayoutModel",
            "_view_count": null,
            "_view_module": "@jupyter-widgets/base",
            "_view_module_version": "1.2.0",
            "_view_name": "LayoutView",
            "align_content": null,
            "align_items": null,
            "align_self": null,
            "border": null,
            "bottom": null,
            "display": null,
            "flex": null,
            "flex_flow": null,
            "grid_area": null,
            "grid_auto_columns": null,
            "grid_auto_flow": null,
            "grid_auto_rows": null,
            "grid_column": null,
            "grid_gap": null,
            "grid_row": null,
            "grid_template_areas": null,
            "grid_template_columns": null,
            "grid_template_rows": null,
            "height": null,
            "justify_content": null,
            "justify_items": null,
            "left": null,
            "margin": null,
            "max_height": null,
            "max_width": null,
            "min_height": null,
            "min_width": null,
            "object_fit": null,
            "object_position": null,
            "order": null,
            "overflow": null,
            "overflow_x": null,
            "overflow_y": null,
            "padding": null,
            "right": null,
            "top": null,
            "visibility": null,
            "width": null
          }
        },
        "9a4d73b604a34cd4b166b1dd77385a0e": {
          "model_module": "@jupyter-widgets/controls",
          "model_name": "ProgressStyleModel",
          "model_module_version": "1.5.0",
          "state": {
            "_model_module": "@jupyter-widgets/controls",
            "_model_module_version": "1.5.0",
            "_model_name": "ProgressStyleModel",
            "_view_count": null,
            "_view_module": "@jupyter-widgets/base",
            "_view_module_version": "1.2.0",
            "_view_name": "StyleView",
            "bar_color": null,
            "description_width": ""
          }
        },
        "fb382e757ac24030b378d3fb0b1f9cb6": {
          "model_module": "@jupyter-widgets/base",
          "model_name": "LayoutModel",
          "model_module_version": "1.2.0",
          "state": {
            "_model_module": "@jupyter-widgets/base",
            "_model_module_version": "1.2.0",
            "_model_name": "LayoutModel",
            "_view_count": null,
            "_view_module": "@jupyter-widgets/base",
            "_view_module_version": "1.2.0",
            "_view_name": "LayoutView",
            "align_content": null,
            "align_items": null,
            "align_self": null,
            "border": null,
            "bottom": null,
            "display": null,
            "flex": null,
            "flex_flow": null,
            "grid_area": null,
            "grid_auto_columns": null,
            "grid_auto_flow": null,
            "grid_auto_rows": null,
            "grid_column": null,
            "grid_gap": null,
            "grid_row": null,
            "grid_template_areas": null,
            "grid_template_columns": null,
            "grid_template_rows": null,
            "height": null,
            "justify_content": null,
            "justify_items": null,
            "left": null,
            "margin": null,
            "max_height": null,
            "max_width": null,
            "min_height": null,
            "min_width": null,
            "object_fit": null,
            "object_position": null,
            "order": null,
            "overflow": null,
            "overflow_x": null,
            "overflow_y": null,
            "padding": null,
            "right": null,
            "top": null,
            "visibility": null,
            "width": null
          }
        },
        "19d5b2f7148142068fcfa6fb9bb97d35": {
          "model_module": "@jupyter-widgets/controls",
          "model_name": "DescriptionStyleModel",
          "model_module_version": "1.5.0",
          "state": {
            "_model_module": "@jupyter-widgets/controls",
            "_model_module_version": "1.5.0",
            "_model_name": "DescriptionStyleModel",
            "_view_count": null,
            "_view_module": "@jupyter-widgets/base",
            "_view_module_version": "1.2.0",
            "_view_name": "StyleView",
            "description_width": ""
          }
        }
      }
    }
  },
  "cells": [
    {
      "cell_type": "markdown",
      "metadata": {
        "id": "view-in-github",
        "colab_type": "text"
      },
      "source": [
        "<a href=\"https://colab.research.google.com/github/hhboorstein/ds_portfolio/blob/main/Digit_Recognition.ipynb\" target=\"_parent\"><img src=\"https://colab.research.google.com/assets/colab-badge.svg\" alt=\"Open In Colab\"/></a>"
      ]
    },
    {
      "cell_type": "markdown",
      "source": [
        "# Digit Recognition\n",
        "Harrison Henningsen (he/him)\n",
        "\n",
        "[Portfolio](https://internetweb.site/portfolio)\n",
        "\n",
        "[LinkedIn](https://www.linkedin.com/in/hi-im-harrison/)"
      ],
      "metadata": {
        "id": "TpzvUrS5DWLG"
      }
    },
    {
      "cell_type": "markdown",
      "source": [
        "# Setup"
      ],
      "metadata": {
        "id": "fd-8qxsNeNYF"
      }
    },
    {
      "cell_type": "markdown",
      "source": [
        "We will explore digit classification using PyTorch and the MNIST dataset."
      ],
      "metadata": {
        "id": "clJMcQHVNtHz"
      }
    },
    {
      "cell_type": "markdown",
      "source": [
        "## Libraries"
      ],
      "metadata": {
        "id": "h2qMJocdhOLs"
      }
    },
    {
      "cell_type": "code",
      "execution_count": 1,
      "metadata": {
        "id": "1di89I1FblpT"
      },
      "outputs": [],
      "source": [
        "import numpy as np\n",
        "import pandas as pd\n",
        "\n",
        "from statsmodels.stats.proportion import proportions_chisquare, proportions_ztest\n",
        "from sklearn.metrics import confusion_matrix, accuracy_score\n",
        "\n",
        "from matplotlib import pyplot as plt\n",
        "import seaborn as sns\n",
        "from PIL import Image\n",
        "\n",
        "import torch\n",
        "from torch import nn\n",
        "from torch.nn import functional as F\n",
        "from torch.utils.data import DataLoader\n",
        "from torch.optim import SGD\n",
        "\n",
        "import torchvision"
      ]
    },
    {
      "cell_type": "code",
      "source": [
        "# set plotting theme with blank grids\n",
        "sns.set_theme(rc={'grid.linestyle':''})"
      ],
      "metadata": {
        "id": "vrFzTCWl8eKC"
      },
      "execution_count": 2,
      "outputs": []
    },
    {
      "cell_type": "code",
      "source": [
        "# for documentation reference\n",
        "torch.__version__"
      ],
      "metadata": {
        "colab": {
          "base_uri": "https://localhost:8080/",
          "height": 35
        },
        "id": "TYrTmK3t3KpQ",
        "outputId": "68cea5ed-562c-43f6-9409-9dd615790091"
      },
      "execution_count": 3,
      "outputs": [
        {
          "output_type": "execute_result",
          "data": {
            "text/plain": [
              "'1.13.1+cu116'"
            ],
            "application/vnd.google.colaboratory.intrinsic+json": {
              "type": "string"
            }
          },
          "metadata": {},
          "execution_count": 3
        }
      ]
    },
    {
      "cell_type": "markdown",
      "source": [
        "## Set environment params"
      ],
      "metadata": {
        "id": "txx8q7NqeRyY"
      }
    },
    {
      "cell_type": "markdown",
      "source": [
        "For repeatability of results, we fix a random seed."
      ],
      "metadata": {
        "id": "rAej6ny9OCHZ"
      }
    },
    {
      "cell_type": "code",
      "source": [
        "# set random seed\n",
        "torch.manual_seed(57)"
      ],
      "metadata": {
        "colab": {
          "base_uri": "https://localhost:8080/"
        },
        "id": "vFeXiFKpeTsp",
        "outputId": "ee83ea51-4d57-40b2-e652-9da0f6b1749d"
      },
      "execution_count": 4,
      "outputs": [
        {
          "output_type": "execute_result",
          "data": {
            "text/plain": [
              "<torch._C.Generator at 0x7f4686b523f0>"
            ]
          },
          "metadata": {},
          "execution_count": 4
        }
      ]
    },
    {
      "cell_type": "code",
      "source": [
        "# set batch sizes\n",
        "batch_train=64\n",
        "batch_test=1000"
      ],
      "metadata": {
        "id": "mj-FCzD0gYzS"
      },
      "execution_count": 5,
      "outputs": []
    },
    {
      "cell_type": "markdown",
      "source": [
        "## CUDA Setup"
      ],
      "metadata": {
        "id": "LvACxJk5nG96"
      }
    },
    {
      "cell_type": "code",
      "source": [
        "# CUDA version\n",
        "torch.version.cuda"
      ],
      "metadata": {
        "colab": {
          "base_uri": "https://localhost:8080/",
          "height": 35
        },
        "id": "FukfYmbCA12q",
        "outputId": "6f0b3cd5-ab28-42f2-f32f-38a6ad0aa8b4"
      },
      "execution_count": 6,
      "outputs": [
        {
          "output_type": "execute_result",
          "data": {
            "text/plain": [
              "'11.6'"
            ],
            "application/vnd.google.colaboratory.intrinsic+json": {
              "type": "string"
            }
          },
          "metadata": {},
          "execution_count": 6
        }
      ]
    },
    {
      "cell_type": "code",
      "source": [
        "(dev:=torch.device('cuda' if torch.cuda.is_available() else 'cpu'))"
      ],
      "metadata": {
        "colab": {
          "base_uri": "https://localhost:8080/"
        },
        "id": "x-J0LQJIRzza",
        "outputId": "89e5848f-2c14-42be-c470-53c1a25f61d2"
      },
      "execution_count": 7,
      "outputs": [
        {
          "output_type": "execute_result",
          "data": {
            "text/plain": [
              "device(type='cuda')"
            ]
          },
          "metadata": {},
          "execution_count": 7
        }
      ]
    },
    {
      "cell_type": "markdown",
      "source": [
        "We check that CUDA is available. We use the device flag `dev` later to marshal tensors and models to the GPU."
      ],
      "metadata": {
        "id": "1cSrU-gtOLRu"
      }
    },
    {
      "cell_type": "markdown",
      "source": [
        "## Data"
      ],
      "metadata": {
        "id": "ZEpPsUGjhSS0"
      }
    },
    {
      "cell_type": "code",
      "source": [
        "# define transformation sequence\n",
        "transformations=[\n",
        "    torchvision.transforms.ToTensor(),\n",
        "    torchvision.transforms.Normalize(\n",
        "        (0.1307,), # MNIST global mean\n",
        "        (0.3081) # MNIST global std dev\n",
        "    )\n",
        "]"
      ],
      "metadata": {
        "id": "i0wp2Kl7hTtn"
      },
      "execution_count": 8,
      "outputs": []
    },
    {
      "cell_type": "markdown",
      "source": [
        "[From MNIST training mean and standard deviation.](https://datascience.stackexchange.com/questions/46228/how-mean-and-deviation-come-out-with-mnist-dataset)"
      ],
      "metadata": {
        "id": "L7gsV-RawiG3"
      }
    },
    {
      "cell_type": "code",
      "source": [
        "# source MNIST data\n",
        "data_train=torchvision.datasets.MNIST(\n",
        "    root='./data',\n",
        "    train=True,\n",
        "    download=True,\n",
        "    transform=torchvision.transforms.Compose(transformations)\n",
        ")\n",
        "\n",
        "data_test=torchvision.datasets.MNIST(\n",
        "    root='./data',\n",
        "    train=False,\n",
        "    download=True,\n",
        "    transform=torchvision.transforms.Compose(transformations)\n",
        ")"
      ],
      "metadata": {
        "colab": {
          "base_uri": "https://localhost:8080/",
          "height": 443,
          "referenced_widgets": [
            "0930ee9f70134e5385aaf87e7289a2ac",
            "8b5201b649aa4263815a9a1003fe2198",
            "467d10e1114c4e588fbb142cdc37248c",
            "797bcf1a4e644413ab17956419620b4c",
            "3db046a0612c4f9b9d1f80c4c58bf26c",
            "d1257d247fc64a2c9c184bfbc12283f2",
            "62dde3b002bc485b8dd89981427f5597",
            "6de39d826685414c911596a5b2df662c",
            "150a31c18ec04631b94ff4558390c223",
            "2505fe9c308a415b9382dc5d3e8d0a6d",
            "3b55002b0fdc4c9e9ef057d3adbe8b3e",
            "9af2f882d02c43aaad5c84445a2bbcc6",
            "2ddecdead6334b33b109ba4e7123d399",
            "b1c3ff30d64d43c99f6280eb00a0cfb2",
            "261e44b75d824e4baa6e114099fe170d",
            "c6a602dd4d0e459db799f6780b2907cf",
            "ff676245cb364693a220dba59df12557",
            "640e00ee7e0948ad86675feb802c053f",
            "6c818bbd5e9946539670556129890d2c",
            "8ef9ae8a941b44caa5185f9ee742ae2c",
            "b6fb971282ce4318846203e43d51c934",
            "3c7b552d3093498ea83313642050a280",
            "f56bb0a452ce40c5a7c5b32efa0b016c",
            "16ada678ff8f47d298735814ecf9130b",
            "65a2ea16c70549429fc8418377fbac9c",
            "4091889727db4268a17573b6408312fa",
            "fe8fbb12bae5430f82176c09ee2d9f5f",
            "2a4261be576246178855964054dca14d",
            "4a7fa01e115a4a20bb5a930308df2f76",
            "d5740ca58a9742d7ac3980309c68669e",
            "8f408ef4d0714f35ae341f807b86926d",
            "755cd37e646a49cc9e5f4b5e3f41ff57",
            "fcbc8805723641b0a25b0db12715f79f",
            "6b0871ddba29467180fc7a531a99f6ae",
            "8c06fb1de3d54af19c46261266a92fbf",
            "629642c34ac54d0882c04c39f64bd476",
            "8d69345fc747424da012c26dbf7db8e3",
            "3dbc2f99eabc4e588b32d9edfb8b9bb1",
            "9a7b33aaa35e45ac9f228c339ac338fb",
            "af1a57b031b344da8b39663290c8e5ae",
            "5aed6730fd5e435bb21000815737fd95",
            "9a4d73b604a34cd4b166b1dd77385a0e",
            "fb382e757ac24030b378d3fb0b1f9cb6",
            "19d5b2f7148142068fcfa6fb9bb97d35"
          ]
        },
        "id": "tGlnE4hgkt-P",
        "outputId": "dba32802-b1e5-4a93-fd1a-c0584afc987f"
      },
      "execution_count": 9,
      "outputs": [
        {
          "output_type": "stream",
          "name": "stdout",
          "text": [
            "Downloading http://yann.lecun.com/exdb/mnist/train-images-idx3-ubyte.gz\n",
            "Downloading http://yann.lecun.com/exdb/mnist/train-images-idx3-ubyte.gz to ./data/MNIST/raw/train-images-idx3-ubyte.gz\n"
          ]
        },
        {
          "output_type": "display_data",
          "data": {
            "text/plain": [
              "  0%|          | 0/9912422 [00:00<?, ?it/s]"
            ],
            "application/vnd.jupyter.widget-view+json": {
              "version_major": 2,
              "version_minor": 0,
              "model_id": "0930ee9f70134e5385aaf87e7289a2ac"
            }
          },
          "metadata": {}
        },
        {
          "output_type": "stream",
          "name": "stdout",
          "text": [
            "Extracting ./data/MNIST/raw/train-images-idx3-ubyte.gz to ./data/MNIST/raw\n",
            "\n",
            "Downloading http://yann.lecun.com/exdb/mnist/train-labels-idx1-ubyte.gz\n",
            "Downloading http://yann.lecun.com/exdb/mnist/train-labels-idx1-ubyte.gz to ./data/MNIST/raw/train-labels-idx1-ubyte.gz\n"
          ]
        },
        {
          "output_type": "display_data",
          "data": {
            "text/plain": [
              "  0%|          | 0/28881 [00:00<?, ?it/s]"
            ],
            "application/vnd.jupyter.widget-view+json": {
              "version_major": 2,
              "version_minor": 0,
              "model_id": "9af2f882d02c43aaad5c84445a2bbcc6"
            }
          },
          "metadata": {}
        },
        {
          "output_type": "stream",
          "name": "stdout",
          "text": [
            "Extracting ./data/MNIST/raw/train-labels-idx1-ubyte.gz to ./data/MNIST/raw\n",
            "\n",
            "Downloading http://yann.lecun.com/exdb/mnist/t10k-images-idx3-ubyte.gz\n",
            "Downloading http://yann.lecun.com/exdb/mnist/t10k-images-idx3-ubyte.gz to ./data/MNIST/raw/t10k-images-idx3-ubyte.gz\n"
          ]
        },
        {
          "output_type": "display_data",
          "data": {
            "text/plain": [
              "  0%|          | 0/1648877 [00:00<?, ?it/s]"
            ],
            "application/vnd.jupyter.widget-view+json": {
              "version_major": 2,
              "version_minor": 0,
              "model_id": "f56bb0a452ce40c5a7c5b32efa0b016c"
            }
          },
          "metadata": {}
        },
        {
          "output_type": "stream",
          "name": "stdout",
          "text": [
            "Extracting ./data/MNIST/raw/t10k-images-idx3-ubyte.gz to ./data/MNIST/raw\n",
            "\n",
            "Downloading http://yann.lecun.com/exdb/mnist/t10k-labels-idx1-ubyte.gz\n",
            "Downloading http://yann.lecun.com/exdb/mnist/t10k-labels-idx1-ubyte.gz to ./data/MNIST/raw/t10k-labels-idx1-ubyte.gz\n"
          ]
        },
        {
          "output_type": "display_data",
          "data": {
            "text/plain": [
              "  0%|          | 0/4542 [00:00<?, ?it/s]"
            ],
            "application/vnd.jupyter.widget-view+json": {
              "version_major": 2,
              "version_minor": 0,
              "model_id": "6b0871ddba29467180fc7a531a99f6ae"
            }
          },
          "metadata": {}
        },
        {
          "output_type": "stream",
          "name": "stdout",
          "text": [
            "Extracting ./data/MNIST/raw/t10k-labels-idx1-ubyte.gz to ./data/MNIST/raw\n",
            "\n"
          ]
        }
      ]
    },
    {
      "cell_type": "code",
      "source": [
        "# define training data\n",
        "train_loader=DataLoader(\n",
        "    dataset=data_train,\n",
        "    batch_size=batch_train,\n",
        "    shuffle=True\n",
        ")\n",
        "\n",
        "# define test data\n",
        "\n",
        "test_loader=DataLoader(\n",
        "    dataset=data_test,\n",
        "    batch_size=batch_test,\n",
        "    shuffle=True\n",
        ")"
      ],
      "metadata": {
        "id": "eOIgMPblj2gy"
      },
      "execution_count": 10,
      "outputs": []
    },
    {
      "cell_type": "markdown",
      "source": [
        "We download the MNIST data, convert to tensors and normalize, and define our data loaders. Recall that the training batch size is 64 and the testing batch size is 1000."
      ],
      "metadata": {
        "id": "YPGGAtJAOyw8"
      }
    },
    {
      "cell_type": "markdown",
      "source": [
        "# Data Exploration"
      ],
      "metadata": {
        "id": "TxHxwb8i20WM"
      }
    },
    {
      "cell_type": "code",
      "source": [
        "# get a batch\n",
        "imgs,labels=next(iter(train_loader))"
      ],
      "metadata": {
        "id": "4zey7xLn5I6e"
      },
      "execution_count": 11,
      "outputs": []
    },
    {
      "cell_type": "code",
      "source": [
        "plt.figure(figsize=(4,4))\n",
        "plt.title(f'Label: {labels[0]}',fontsize=16)\n",
        "plt.imshow(imgs[0].squeeze(),cmap='gray');"
      ],
      "metadata": {
        "colab": {
          "base_uri": "https://localhost:8080/",
          "height": 286
        },
        "id": "YcyZeGnD87fM",
        "outputId": "5183fd93-e73d-41b7-bcea-dbea3789939f"
      },
      "execution_count": 78,
      "outputs": [
        {
          "output_type": "display_data",
          "data": {
            "text/plain": [
              "<Figure size 288x288 with 1 Axes>"
            ],
            "image/png": "[encoded data removed]"
          },
          "metadata": {}
        }
      ]
    },
    {
      "cell_type": "markdown",
      "source": [
        "Each record is a $28\\times 28$ grayscale image with a corresponding label."
      ],
      "metadata": {
        "id": "h_azB_54Phbo"
      }
    },
    {
      "cell_type": "code",
      "source": [
        "# plot samples\n",
        "fig,ax=plt.subplots(4,4,figsize=(12,12))\n",
        "for i in range(16):\n",
        "  plt.subplot(4,4,i+1)\n",
        "  plt.title(f'Label: {labels[i]}',fontsize=15)\n",
        "  plt.imshow(imgs[i].squeeze(),cmap='gray')\n",
        "fig.tight_layout()\n",
        "plt.show()"
      ],
      "metadata": {
        "colab": {
          "base_uri": "https://localhost:8080/",
          "height": 869
        },
        "id": "v0_346Wt9LRA",
        "outputId": "cea690e8-df10-4485-8593-d2e08b1764ba"
      },
      "execution_count": 14,
      "outputs": [
        {
          "output_type": "display_data",
          "data": {
            "text/plain": [
              "<Figure size 864x864 with 16 Axes>"
            ],
            "image/png": "[encoded data removed]"
          },
          "metadata": {}
        }
      ]
    },
    {
      "cell_type": "markdown",
      "source": [
        "Some entries are more legible than others. There is a good variety of orintations too."
      ],
      "metadata": {
        "id": "JIk3WuhjP1Nd"
      }
    },
    {
      "cell_type": "markdown",
      "source": [
        "## Imbalance"
      ],
      "metadata": {
        "id": "igPsCTsmE-wA"
      }
    },
    {
      "cell_type": "markdown",
      "source": [
        "To investigate potential imbalance, we collect all labels in the training set."
      ],
      "metadata": {
        "id": "1FWiIzjnQGX0"
      }
    },
    {
      "cell_type": "code",
      "source": [
        "labels_full=pd.Series([data_train[i][1] for i in range(60000)])"
      ],
      "metadata": {
        "id": "3R7FjCOY5E7N"
      },
      "execution_count": 15,
      "outputs": []
    },
    {
      "cell_type": "code",
      "source": [
        "labels_full.value_counts().sort_values()"
      ],
      "metadata": {
        "colab": {
          "base_uri": "https://localhost:8080/"
        },
        "id": "NcJ8zeMo6qAt",
        "outputId": "79b7c6e6-497d-44d9-c6c5-336184b8f576"
      },
      "execution_count": 16,
      "outputs": [
        {
          "output_type": "execute_result",
          "data": {
            "text/plain": [
              "5    5421\n",
              "4    5842\n",
              "8    5851\n",
              "6    5918\n",
              "0    5923\n",
              "9    5949\n",
              "2    5958\n",
              "3    6131\n",
              "7    6265\n",
              "1    6742\n",
              "dtype: int64"
            ]
          },
          "metadata": {},
          "execution_count": 16
        }
      ]
    },
    {
      "cell_type": "markdown",
      "source": [
        "There is certainly some imbalance. Label frequency ranges from 5421/60000 (label 5) to 6742/60000 (label 1). Note that a perfectly balanced dataset would have 6000 entries for each of the 10 classes. Visually:"
      ],
      "metadata": {
        "id": "iXLfCWtfQPNJ"
      }
    },
    {
      "cell_type": "code",
      "source": [
        "with sns.axes_style(rc={'grid.linestyle':'-'}):\n",
        "  plt.figure(figsize=(8,5))\n",
        "  plt.title('Label Frequency in MNIST Training Set',fontsize=15)\n",
        "  sns.countplot(x=labels_full)\n",
        "  plt.axhline(\n",
        "      y=6000,\n",
        "      color='k',\n",
        "      linestyle='--',\n",
        "      linewidth=2,\n",
        "      label='expected balanced freq.')\n",
        "  plt.xlabel('Label')\n",
        "  plt.legend();"
      ],
      "metadata": {
        "colab": {
          "base_uri": "https://localhost:8080/",
          "height": 357
        },
        "id": "Y93KD9kd5Q1m",
        "outputId": "fec94603-ff1c-4960-f3d2-22c4602d9831"
      },
      "execution_count": 17,
      "outputs": [
        {
          "output_type": "display_data",
          "data": {
            "text/plain": [
              "<Figure size 576x360 with 1 Axes>"
            ],
            "image/png": "[encoded data removed]"
          },
          "metadata": {}
        }
      ]
    },
    {
      "cell_type": "markdown",
      "source": [
        "We see that classes 1 and 5 deviate appreciably from 6000. The question is: Assuming a level of significance of 5%, is there evedence that these classes are _truly_ imbalanced.\n",
        "\n",
        "We perform a chi-squared test of proportions. The true value against which our frequencies will be measured is 0.1 (or 10%). A p-value less than 0.05 indicates that there is true deviation in at least one class from this 10% figure."
      ],
      "metadata": {
        "id": "c8Vu350QQrDD"
      }
    },
    {
      "cell_type": "code",
      "source": [
        "# chi-squared test for dataset balance inquiry\n",
        "freqs=labels_full.value_counts().tolist()\n",
        "train_nobs=[60000 for i in range(10)]\n",
        "\n",
        "_,pval,(_,_)=proportions_chisquare(\n",
        "    count=freqs,\n",
        "    nobs=train_nobs,\n",
        "    value=0.1\n",
        ")\n",
        "\n",
        "print(f'''With a p-value of {pval}, we can conclude\n",
        "that there is imbalance in the MNIST dataset.''')"
      ],
      "metadata": {
        "colab": {
          "base_uri": "https://localhost:8080/"
        },
        "id": "lUK94OS6zURs",
        "outputId": "31c84f75-85ac-43d7-8707-57e1a205c669"
      },
      "execution_count": 18,
      "outputs": [
        {
          "output_type": "stream",
          "name": "stdout",
          "text": [
            "With a p-value of 7.124517413614377e-36, we can conclude\n",
            "that there is imbalance in the MNIST dataset.\n"
          ]
        }
      ]
    },
    {
      "cell_type": "markdown",
      "source": [
        "Indeed, there is statistically significant imbalance in our dataset. Using now a two-proportions z-test, we can determine which classes skew too far from 10% representation.\n",
        "\n",
        "Once more, we assume a level of significance of 5%. Our null hypothesis is that there is no statistical difference between the frequency of a particular class and the balanced 6000/60000. The alternate hypothesis is that the class frequency does indeed deviate."
      ],
      "metadata": {
        "id": "qjhdfMTrR7Wa"
      }
    },
    {
      "cell_type": "code",
      "source": [
        "# two-proportions z-test for each digit\n",
        "pval_dict={}\n",
        "for key in (label_dict:=labels_full.value_counts().to_dict()):\n",
        "  _,pval=proportions_ztest(\n",
        "      count=[label_dict[key],6000],\n",
        "      nobs=[60000,60000]\n",
        "  )\n",
        "  pval_dict[key]=pval\n",
        "\n",
        "# print results, annotate rejections\n",
        "for digit,pval in enumerate(pd.Series(pval_dict).sort_index()):\n",
        "  status=('reject' if pval<0.05 else 'fail to reject')\n",
        "  annot=('*' if pval<0.05 else ' ')\n",
        "  print(f'''{annot+str(digit)}: We {status} the null hypothesis\n",
        "  with a p-value of {pval}.\\n''')"
      ],
      "metadata": {
        "colab": {
          "base_uri": "https://localhost:8080/"
        },
        "id": "RXMwZdfJ11Gc",
        "outputId": "6af619be-f8b9-4ef2-e317-705f76884d97"
      },
      "execution_count": 20,
      "outputs": [
        {
          "output_type": "stream",
          "name": "stdout",
          "text": [
            " 0: We fail to reject the null hypothesis\n",
            "  with a p-value of 0.4574473727151762.\n",
            "\n",
            "*1: We reject the null hypothesis\n",
            "  with a p-value of 3.580597236007005e-12.\n",
            "\n",
            " 2: We fail to reject the null hypothesis\n",
            "  with a p-value of 0.6856424615469848.\n",
            "\n",
            " 3: We fail to reject the null hypothesis\n",
            "  with a p-value of 0.209665965204355.\n",
            "\n",
            " 4: We fail to reject the null hypothesis\n",
            "  with a p-value of 0.1261785990783033.\n",
            "\n",
            "*5: We reject the null hypothesis\n",
            "  with a p-value of 1.2289419334341624e-08.\n",
            "\n",
            " 6: We fail to reject the null hypothesis\n",
            "  with a p-value of 0.4286786623656247.\n",
            "\n",
            "*7: We reject the null hypothesis\n",
            "  with a p-value of 0.011557788056848121.\n",
            "\n",
            " 8: We fail to reject the null hypothesis\n",
            "  with a p-value of 0.1493746194861904.\n",
            "\n",
            " 9: We fail to reject the null hypothesis\n",
            "  with a p-value of 0.6229471156193913.\n",
            "\n"
          ]
        }
      ]
    },
    {
      "cell_type": "markdown",
      "source": [
        "Those classes that deviate (p-value < 0.05) are annotated with an astrisk. Along with 1, we find that 7 is also appreciably overrepresented. And while 4 and 8 are somewhat underrepresented, their p-values are slightly too high to be considered definitively imbalanced. Accordingly, 5 is the only appreciably underrepresented class."
      ],
      "metadata": {
        "id": "lviCUDf-S9K9"
      }
    },
    {
      "cell_type": "markdown",
      "source": [
        "# Building a Fully-Connected Neural Network\n"
      ],
      "metadata": {
        "id": "z_hphV5u1mKU"
      }
    },
    {
      "cell_type": "code",
      "source": [
        "class DigitClfr(nn.Module):\n",
        "\n",
        "  def __init__(self):\n",
        "    super(DigitClfr,self).__init__()\n",
        "    self.Linear1=nn.Linear(28**2,1024)\n",
        "    self.Linear2=nn.Linear(1024,256)\n",
        "    self.Linear3=nn.Linear(256,64)\n",
        "    self.Linear4=nn.Linear(64,10)\n",
        "\n",
        "  def forward(self,x):\n",
        "    x=x.view(-1,28**2)\n",
        "    x=F.relu(self.Linear1(x))\n",
        "    x=F.relu(self.Linear2(x))\n",
        "    x=F.relu(self.Linear3(x))\n",
        "    x=self.Linear4(x)\n",
        "    return x.squeeze()"
      ],
      "metadata": {
        "id": "oNVcUZir1oxE"
      },
      "execution_count": 21,
      "outputs": []
    },
    {
      "cell_type": "markdown",
      "source": [
        "We begin by defining our network as a class. It inherits properties of the superclass `torch.nn.Module`.\n",
        "\n",
        "Our network as four layers. "
      ],
      "metadata": {
        "id": "LBEkUmJZUNWW"
      }
    },
    {
      "cell_type": "code",
      "source": [
        "# initialize network\n",
        "nwk=DigitClfr().to(dev)\n",
        "\n",
        "# loss function\n",
        "L=nn.CrossEntropyLoss()\n",
        "\n",
        "# optimizer\n",
        "opt=SGD(nwk.parameters(),lr=0.01)"
      ],
      "metadata": {
        "id": "f8Vsy1MfP_Ns"
      },
      "execution_count": 48,
      "outputs": []
    },
    {
      "cell_type": "markdown",
      "source": [
        "## Testing Forward Pass"
      ],
      "metadata": {
        "id": "yIhEeiDYHgwb"
      }
    },
    {
      "cell_type": "code",
      "source": [
        "# input image\n",
        "plt.imshow(imgs[0].squeeze(),cmap='gray');"
      ],
      "metadata": {
        "colab": {
          "base_uri": "https://localhost:8080/",
          "height": 268
        },
        "id": "I4CVpqiJQDTO",
        "outputId": "e066df9e-a76f-4481-9ad6-1d337f8e64db"
      },
      "execution_count": 23,
      "outputs": [
        {
          "output_type": "display_data",
          "data": {
            "text/plain": [
              "<Figure size 432x288 with 1 Axes>"
            ],
            "image/png": "[encoded data removed]"
          },
          "metadata": {}
        }
      ]
    },
    {
      "cell_type": "code",
      "source": [
        "# probability density function tensor \n",
        "# containing (currently random) predictions\n",
        "(test_out:=nwk(imgs[0].squeeze().to(dev)))"
      ],
      "metadata": {
        "colab": {
          "base_uri": "https://localhost:8080/"
        },
        "id": "RvNEQsvQQMM8",
        "outputId": "e9c603c2-c1cb-4f88-b236-4f8be1c4b0b7"
      },
      "execution_count": 24,
      "outputs": [
        {
          "output_type": "execute_result",
          "data": {
            "text/plain": [
              "tensor([-0.0349,  0.0862, -0.0684, -0.0928,  0.1223,  0.0380, -0.1017,  0.0375,\n",
              "        -0.0797, -0.0825], device='cuda:0', grad_fn=<SqueezeBackward0>)"
            ]
          },
          "metadata": {},
          "execution_count": 24
        }
      ]
    },
    {
      "cell_type": "code",
      "source": [
        "test_out.shape"
      ],
      "metadata": {
        "colab": {
          "base_uri": "https://localhost:8080/"
        },
        "id": "EASTKWFWHqsk",
        "outputId": "0119ecee-bd2b-406c-907e-8dedf552c39e"
      },
      "execution_count": 25,
      "outputs": [
        {
          "output_type": "execute_result",
          "data": {
            "text/plain": [
              "torch.Size([10])"
            ]
          },
          "metadata": {},
          "execution_count": 25
        }
      ]
    },
    {
      "cell_type": "markdown",
      "source": [
        "Output tensor shape is correct. We get 10 probabilities: one for each digit label."
      ],
      "metadata": {
        "id": "P9QG0Q4FE0T_"
      }
    },
    {
      "cell_type": "code",
      "source": [
        "# cross entropy loss\n",
        "L(test_out,labels[0].to(dev)).item()"
      ],
      "metadata": {
        "colab": {
          "base_uri": "https://localhost:8080/"
        },
        "id": "voi2uf70SpBJ",
        "outputId": "6bac057c-cbf8-441a-f121-2ae64017fb18"
      },
      "execution_count": 37,
      "outputs": [
        {
          "output_type": "execute_result",
          "data": {
            "text/plain": [
              "2.3807878494262695"
            ]
          },
          "metadata": {},
          "execution_count": 37
        }
      ]
    },
    {
      "cell_type": "markdown",
      "source": [
        "## Training"
      ],
      "metadata": {
        "id": "5y5Y379kI03z"
      }
    },
    {
      "cell_type": "code",
      "source": [
        "epochs,losses=[],[]\n",
        "test_avg_losses=[]\n",
        "load_len=len(train_loader)"
      ],
      "metadata": {
        "id": "gVy8924WOjmy"
      },
      "execution_count": 49,
      "outputs": []
    },
    {
      "cell_type": "code",
      "source": [
        "!mkdir training_results\n",
        "\n",
        "def train_epoch(epoch_id):\n",
        "  print(f'Epoch {epoch_id} Training')\n",
        "  for batch_id,(x,y) in enumerate(train_loader):\n",
        "    x,y=x.to(dev),y.to(dev)\n",
        "\n",
        "    # loss calculation and back propagation\n",
        "    opt.zero_grad()\n",
        "    loss=L(nwk(x),y)\n",
        "    loss.backward()\n",
        "    opt.step()\n",
        "    \n",
        "    # record losses by (partial) epoch\n",
        "    epochs.append(epoch_id+batch_id/load_len)\n",
        "    losses.append(loss.item())\n",
        "\n",
        "    # print progress\n",
        "    if batch_id%100==0:\n",
        "      p=100*(batch_id/load_len)\n",
        "      print(f'{int(p)}% completed with loss {np.round(loss.item(),4)}')\n",
        "\n",
        "  # save internal state\n",
        "  torch.save(nwk.state_dict(),'./training_results/network.pth')\n",
        "  torch.save(opt.state_dict(),'./training_results/optimizer.pth')\n",
        "\n",
        "  return"
      ],
      "metadata": {
        "id": "JYoRKV3NI3s2"
      },
      "execution_count": 47,
      "outputs": []
    },
    {
      "cell_type": "code",
      "source": [
        "def test():\n",
        "  total_loss,num_correct=0,0\n",
        "\n",
        "  with torch.no_grad():\n",
        "    for x,y in test_loader:\n",
        "      x,y=x.to(dev),y.to(dev)\n",
        "      out=nwk(x)\n",
        "      total_loss+=L(out,y).item()\n",
        "      y_hat=out.max(dim=1,keepdim=True)[1]\n",
        "      num_correct+=y_hat.eq(y.view_as(y_hat)).sum()\n",
        "\n",
        "  test_avg_losses.append(w:=total_loss/len(test_loader))\n",
        "  print(f'avg loss: {w}')\n",
        "  print(f'% correct: {100*num_correct/len(test_loader.dataset)}')\n",
        "  return total_loss,num_correct"
      ],
      "metadata": {
        "id": "iEKqvCZpw2wE"
      },
      "execution_count": 40,
      "outputs": []
    },
    {
      "cell_type": "code",
      "source": [
        "test()\n",
        "print('='*50)\n",
        "for i in range(1,6):\n",
        "  train_epoch(i)\n",
        "  print('='*50)\n",
        "  test()\n",
        "  print('='*50)"
      ],
      "metadata": {
        "colab": {
          "base_uri": "https://localhost:8080/"
        },
        "id": "Z_kh_RODP991",
        "outputId": "586031ac-bf75-4b51-8fc1-c8233d071fa2"
      },
      "execution_count": 50,
      "outputs": [
        {
          "output_type": "stream",
          "name": "stdout",
          "text": [
            "avg loss: 2.3075052738189696\n",
            "% correct: 8.609999656677246\n",
            "==================================================\n",
            "Epoch 1 Training\n",
            "0% completed with loss 2.3191\n",
            "10% completed with loss 2.2068\n",
            "21% completed with loss 1.9329\n",
            "31% completed with loss 1.2666\n",
            "42% completed with loss 0.7821\n",
            "53% completed with loss 0.6531\n",
            "63% completed with loss 0.438\n",
            "74% completed with loss 0.461\n",
            "85% completed with loss 0.4205\n",
            "95% completed with loss 0.416\n",
            "==================================================\n",
            "avg loss: 0.3651804059743881\n",
            "% correct: 89.13999938964844\n",
            "==================================================\n",
            "Epoch 2 Training\n",
            "0% completed with loss 0.5074\n",
            "10% completed with loss 0.454\n",
            "21% completed with loss 0.3543\n",
            "31% completed with loss 0.3178\n",
            "42% completed with loss 0.2857\n",
            "53% completed with loss 0.3893\n",
            "63% completed with loss 0.4173\n",
            "74% completed with loss 0.3641\n",
            "85% completed with loss 0.2728\n",
            "95% completed with loss 0.1572\n",
            "==================================================\n",
            "avg loss: 0.2591382309794426\n",
            "% correct: 92.54000091552734\n",
            "==================================================\n",
            "Epoch 3 Training\n",
            "0% completed with loss 0.3665\n",
            "10% completed with loss 0.159\n",
            "21% completed with loss 0.239\n",
            "31% completed with loss 0.265\n",
            "42% completed with loss 0.1698\n",
            "53% completed with loss 0.3799\n",
            "63% completed with loss 0.0882\n",
            "74% completed with loss 0.4403\n",
            "85% completed with loss 0.1704\n",
            "95% completed with loss 0.4158\n",
            "==================================================\n",
            "avg loss: 0.21022330969572067\n",
            "% correct: 93.91999816894531\n",
            "==================================================\n",
            "Epoch 4 Training\n",
            "0% completed with loss 0.1292\n",
            "10% completed with loss 0.351\n",
            "21% completed with loss 0.1697\n",
            "31% completed with loss 0.1588\n",
            "42% completed with loss 0.2613\n",
            "53% completed with loss 0.1178\n",
            "63% completed with loss 0.2497\n",
            "74% completed with loss 0.0838\n",
            "85% completed with loss 0.2817\n",
            "95% completed with loss 0.1454\n",
            "==================================================\n",
            "avg loss: 0.17261774092912674\n",
            "% correct: 94.82999420166016\n",
            "==================================================\n",
            "Epoch 5 Training\n",
            "0% completed with loss 0.2423\n",
            "10% completed with loss 0.05\n",
            "21% completed with loss 0.1449\n",
            "31% completed with loss 0.1349\n",
            "42% completed with loss 0.0628\n",
            "53% completed with loss 0.278\n",
            "63% completed with loss 0.0738\n",
            "74% completed with loss 0.1586\n",
            "85% completed with loss 0.3811\n",
            "95% completed with loss 0.0746\n",
            "==================================================\n",
            "avg loss: 0.1480026960372925\n",
            "% correct: 95.54999542236328\n",
            "==================================================\n"
          ]
        }
      ]
    },
    {
      "cell_type": "code",
      "source": [
        "plt.figure(figsize=(12,8))\n",
        "plt.plot(\n",
        "    epochs,\n",
        "    losses,\n",
        "    label='train',\n",
        "    zorder=0\n",
        ")\n",
        "plt.scatter(\n",
        "    x=np.arange(1,7),\n",
        "    y=test_avg_losses,\n",
        "    c='r',\n",
        "    s=50,\n",
        "    label='test'\n",
        ")\n",
        "plt.legend()\n",
        "plt.show()"
      ],
      "metadata": {
        "colab": {
          "base_uri": "https://localhost:8080/",
          "height": 485
        },
        "id": "ZBINBePdQATv",
        "outputId": "e2d74755-d6da-4957-9016-14e4177e6afa"
      },
      "execution_count": 52,
      "outputs": [
        {
          "output_type": "display_data",
          "data": {
            "text/plain": [
              "<Figure size 864x576 with 1 Axes>"
            ],
            "image/png": "[encoded data removed]"
          },
          "metadata": {}
        }
      ]
    },
    {
      "cell_type": "code",
      "source": [
        "def cm(dl):\n",
        "  '''Generate a confusion matrix of\n",
        "  NN results for a given data loader.'''\n",
        "\n",
        "  y_pred=[]\n",
        "  y_true=[]\n",
        "\n",
        "  for x,y in dl:\n",
        "    x=x.to(dev)\n",
        "    y_pred.extend(nwk(x).max(dim=1)[1].cpu().numpy())\n",
        "    y_true.extend(y)\n",
        "\n",
        "  cmat=confusion_matrix(\n",
        "      y_true,\n",
        "      y_pred,\n",
        "      labels=np.arange(10)\n",
        "  )\n",
        "\n",
        "  acc=accuracy_score(y_true,y_pred)\n",
        "  return cmat,acc"
      ],
      "metadata": {
        "id": "xgPZRY3a3JJa"
      },
      "execution_count": 66,
      "outputs": []
    },
    {
      "cell_type": "code",
      "source": [
        "cmat,acc=cm(train_loader)"
      ],
      "metadata": {
        "id": "Gz4R1jRkMQQp"
      },
      "execution_count": 68,
      "outputs": []
    },
    {
      "cell_type": "code",
      "source": [
        "plt.figure(figsize=(12,8))\n",
        "plt.title(f'Training Confusion Matrix ({100*np.round(acc,2)}% accuracy)',fontsize=16)\n",
        "sns.heatmap(\n",
        "    data=cmat,\n",
        "    cmap='Greens',\n",
        "    cbar=False,\n",
        "    annot=True,\n",
        "    fmt='g'\n",
        ")\n",
        "plt.xlabel('Predicted Label')\n",
        "plt.ylabel('True Label')\n",
        "plt.show()"
      ],
      "metadata": {
        "colab": {
          "base_uri": "https://localhost:8080/",
          "height": 520
        },
        "id": "810i0V0Y4W-n",
        "outputId": "367b7acf-b580-4172-b051-94c8a1049acc"
      },
      "execution_count": 72,
      "outputs": [
        {
          "output_type": "display_data",
          "data": {
            "text/plain": [
              "<Figure size 864x576 with 1 Axes>"
            ],
            "image/png": "[encoded data removed]"
          },
          "metadata": {}
        }
      ]
    },
    {
      "cell_type": "code",
      "source": [
        "cmat,acc=cm(test_loader)"
      ],
      "metadata": {
        "id": "F5gdntoB4Zk1"
      },
      "execution_count": 73,
      "outputs": []
    },
    {
      "cell_type": "code",
      "source": [
        "plt.figure(figsize=(12,8))\n",
        "plt.title(f'Testing Confusion Matrix ({100*np.round(acc,2)}% accuracy)',fontsize=16)\n",
        "sns.heatmap(\n",
        "    data=cmat,\n",
        "    cmap='Greens',\n",
        "    cbar=False,\n",
        "    annot=True,\n",
        "    fmt='g'\n",
        ")\n",
        "plt.xlabel('Predicted Label')\n",
        "plt.ylabel('True Label')\n",
        "plt.show()"
      ],
      "metadata": {
        "colab": {
          "base_uri": "https://localhost:8080/",
          "height": 520
        },
        "id": "Em0kOPjoNO9z",
        "outputId": "82cdb4d3-0897-480b-bab6-20846e19666a"
      },
      "execution_count": 74,
      "outputs": [
        {
          "output_type": "display_data",
          "data": {
            "text/plain": [
              "<Figure size 864x576 with 1 Axes>"
            ],
            "image/png": "[encoded data removed]"
          },
          "metadata": {}
        }
      ]
    }
  ]
}