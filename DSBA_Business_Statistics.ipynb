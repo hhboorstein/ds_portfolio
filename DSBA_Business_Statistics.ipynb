{
  "nbformat": 4,
  "nbformat_minor": 5,
  "metadata": {
    "kernelspec": {
      "display_name": "Python 3",
      "language": "python",
      "name": "python3"
    },
    "language_info": {
      "codemirror_mode": {
        "name": "ipython",
        "version": 3
      },
      "file_extension": ".py",
      "mimetype": "text/x-python",
      "name": "python",
      "nbconvert_exporter": "python",
      "pygments_lexer": "ipython3",
      "version": "3.8.8"
    },
    "colab": {
      "provenance": [],
      "include_colab_link": true
    }
  },
  "cells": [
    {
      "cell_type": "markdown",
      "metadata": {
        "id": "view-in-github",
        "colab_type": "text"
      },
      "source": [
        "<a href=\"https://colab.research.google.com/github/hhboorstein/ds_portfolio/blob/main/DSBA_Business_Statistics.ipynb\" target=\"_parent\"><img src=\"https://colab.research.google.com/assets/colab-badge.svg\" alt=\"Open In Colab\"/></a>"
      ]
    },
    {
      "cell_type": "markdown",
      "metadata": {
        "id": "6yDxo9u0d9Na"
      },
      "source": [
        "# Project Business Statistics: E-news Express\n",
        "\n",
        "**Marks: 60**"
      ],
      "id": "6yDxo9u0d9Na"
    },
    {
      "cell_type": "markdown",
      "metadata": {
        "id": "SrLd-ICEmPSD"
      },
      "source": [
        "## Define Problem Statement and Objectives"
      ],
      "id": "SrLd-ICEmPSD"
    },
    {
      "cell_type": "markdown",
      "metadata": {
        "id": "9Vt1PLLqmXNn"
      },
      "source": [
        "E-news Express, an online news platform, has redesigned its landing page with the hope of increasing subscriptions. It collected data during an A/B test, where some users were served the old landing page and some were served the new one. The data recorded was:\n",
        "* user ID\n",
        "* group (control or treatment)\n",
        "* landing page (old or new)\n",
        "* time spent on the page (in minutes)\n",
        "* converted to subscriber (yes or no)\n",
        "* preferred language (English, French, or Spanish)\n",
        "\n",
        "By analyzing correlations and statistical trends in these data, the data science team at E-news Express hopes to determine whether the redesign has had the intended effect of driving subscriptions. As this is only a sample, the team will use statistical tests (inferential statistics) to draw conclusions about the entire userbase.\n",
        "\n",
        "Throughout, the level of significance is fixed at 5%."
      ],
      "id": "9Vt1PLLqmXNn"
    },
    {
      "cell_type": "markdown",
      "metadata": {
        "id": "a6a3d218"
      },
      "source": [
        "## Import all the necessary libraries"
      ],
      "id": "a6a3d218"
    },
    {
      "cell_type": "code",
      "metadata": {
        "id": "658c5dec"
      },
      "source": [
        "# math libraries\n",
        "import numpy as np\n",
        "import scipy.stats as st\n",
        "\n",
        "# data handling and visualization libraries\n",
        "import pandas as pd\n",
        "import matplotlib.pyplot as plt\n",
        "%matplotlib inline\n",
        "import seaborn as sns\n",
        "\n",
        "# I will import specific tests from the statsmodels library later if necessary"
      ],
      "id": "658c5dec",
      "execution_count": null,
      "outputs": []
    },
    {
      "cell_type": "markdown",
      "metadata": {
        "id": "6970dd99"
      },
      "source": [
        "## Reading the Data into a DataFrame"
      ],
      "id": "6970dd99"
    },
    {
      "cell_type": "code",
      "metadata": {
        "id": "d3b95640"
      },
      "source": [
        "usage=pd.read_csv('abtest.csv')"
      ],
      "id": "d3b95640",
      "execution_count": null,
      "outputs": []
    },
    {
      "cell_type": "markdown",
      "metadata": {
        "id": "9d75cfa2"
      },
      "source": [
        "## Explore the dataset and extract insights using Exploratory Data Analysis"
      ],
      "id": "9d75cfa2"
    },
    {
      "cell_type": "markdown",
      "metadata": {
        "id": "27201534"
      },
      "source": [
        "Let's look at the data. We'll start with the head and tail, or first five rows and last five rows respectively."
      ],
      "id": "27201534"
    },
    {
      "cell_type": "code",
      "metadata": {
        "id": "e1ad11d4",
        "colab": {
          "base_uri": "https://localhost:8080/",
          "height": 206
        },
        "outputId": "93482c00-9eb5-4471-8a68-98301169ce32"
      },
      "source": [
        "usage.head()"
      ],
      "id": "e1ad11d4",
      "execution_count": null,
      "outputs": [
        {
          "output_type": "execute_result",
          "data": {
            "text/plain": [
              "   user_id      group landing_page  time_spent_on_the_page converted  \\\n",
              "0   546592    control          old                    3.48        no   \n",
              "1   546468  treatment          new                    7.13       yes   \n",
              "2   546462  treatment          new                    4.40        no   \n",
              "3   546567    control          old                    3.02        no   \n",
              "4   546459  treatment          new                    4.75       yes   \n",
              "\n",
              "  language_preferred  \n",
              "0            Spanish  \n",
              "1            English  \n",
              "2            Spanish  \n",
              "3             French  \n",
              "4            Spanish  "
            ],
            "text/html": [
              "\n",
              "  <div id=\"df-3702ad29-e500-478b-af40-eab131418a2b\">\n",
              "    <div class=\"colab-df-container\">\n",
              "      <div>\n",
              "<style scoped>\n",
              "    .dataframe tbody tr th:only-of-type {\n",
              "        vertical-align: middle;\n",
              "    }\n",
              "\n",
              "    .dataframe tbody tr th {\n",
              "        vertical-align: top;\n",
              "    }\n",
              "\n",
              "    .dataframe thead th {\n",
              "        text-align: right;\n",
              "    }\n",
              "</style>\n",
              "<table border=\"1\" class=\"dataframe\">\n",
              "  <thead>\n",
              "    <tr style=\"text-align: right;\">\n",
              "      <th></th>\n",
              "      <th>user_id</th>\n",
              "      <th>group</th>\n",
              "      <th>landing_page</th>\n",
              "      <th>time_spent_on_the_page</th>\n",
              "      <th>converted</th>\n",
              "      <th>language_preferred</th>\n",
              "    </tr>\n",
              "  </thead>\n",
              "  <tbody>\n",
              "    <tr>\n",
              "      <th>0</th>\n",
              "      <td>546592</td>\n",
              "      <td>control</td>\n",
              "      <td>old</td>\n",
              "      <td>3.48</td>\n",
              "      <td>no</td>\n",
              "      <td>Spanish</td>\n",
              "    </tr>\n",
              "    <tr>\n",
              "      <th>1</th>\n",
              "      <td>546468</td>\n",
              "      <td>treatment</td>\n",
              "      <td>new</td>\n",
              "      <td>7.13</td>\n",
              "      <td>yes</td>\n",
              "      <td>English</td>\n",
              "    </tr>\n",
              "    <tr>\n",
              "      <th>2</th>\n",
              "      <td>546462</td>\n",
              "      <td>treatment</td>\n",
              "      <td>new</td>\n",
              "      <td>4.40</td>\n",
              "      <td>no</td>\n",
              "      <td>Spanish</td>\n",
              "    </tr>\n",
              "    <tr>\n",
              "      <th>3</th>\n",
              "      <td>546567</td>\n",
              "      <td>control</td>\n",
              "      <td>old</td>\n",
              "      <td>3.02</td>\n",
              "      <td>no</td>\n",
              "      <td>French</td>\n",
              "    </tr>\n",
              "    <tr>\n",
              "      <th>4</th>\n",
              "      <td>546459</td>\n",
              "      <td>treatment</td>\n",
              "      <td>new</td>\n",
              "      <td>4.75</td>\n",
              "      <td>yes</td>\n",
              "      <td>Spanish</td>\n",
              "    </tr>\n",
              "  </tbody>\n",
              "</table>\n",
              "</div>\n",
              "      <button class=\"colab-df-convert\" onclick=\"convertToInteractive('df-3702ad29-e500-478b-af40-eab131418a2b')\"\n",
              "              title=\"Convert this dataframe to an interactive table.\"\n",
              "              style=\"display:none;\">\n",
              "        \n",
              "  <svg xmlns=\"http://www.w3.org/2000/svg\" height=\"24px\"viewBox=\"0 0 24 24\"\n",
              "       width=\"24px\">\n",
              "    <path d=\"M0 0h24v24H0V0z\" fill=\"none\"/>\n",
              "    <path d=\"M18.56 5.44l.94 2.06.94-2.06 2.06-.94-2.06-.94-.94-2.06-.94 2.06-2.06.94zm-11 1L8.5 8.5l.94-2.06 2.06-.94-2.06-.94L8.5 2.5l-.94 2.06-2.06.94zm10 10l.94 2.06.94-2.06 2.06-.94-2.06-.94-.94-2.06-.94 2.06-2.06.94z\"/><path d=\"M17.41 7.96l-1.37-1.37c-.4-.4-.92-.59-1.43-.59-.52 0-1.04.2-1.43.59L10.3 9.45l-7.72 7.72c-.78.78-.78 2.05 0 2.83L4 21.41c.39.39.9.59 1.41.59.51 0 1.02-.2 1.41-.59l7.78-7.78 2.81-2.81c.8-.78.8-2.07 0-2.86zM5.41 20L4 18.59l7.72-7.72 1.47 1.35L5.41 20z\"/>\n",
              "  </svg>\n",
              "      </button>\n",
              "      \n",
              "  <style>\n",
              "    .colab-df-container {\n",
              "      display:flex;\n",
              "      flex-wrap:wrap;\n",
              "      gap: 12px;\n",
              "    }\n",
              "\n",
              "    .colab-df-convert {\n",
              "      background-color: #E8F0FE;\n",
              "      border: none;\n",
              "      border-radius: 50%;\n",
              "      cursor: pointer;\n",
              "      display: none;\n",
              "      fill: #1967D2;\n",
              "      height: 32px;\n",
              "      padding: 0 0 0 0;\n",
              "      width: 32px;\n",
              "    }\n",
              "\n",
              "    .colab-df-convert:hover {\n",
              "      background-color: #E2EBFA;\n",
              "      box-shadow: 0px 1px 2px rgba(60, 64, 67, 0.3), 0px 1px 3px 1px rgba(60, 64, 67, 0.15);\n",
              "      fill: #174EA6;\n",
              "    }\n",
              "\n",
              "    [theme=dark] .colab-df-convert {\n",
              "      background-color: #3B4455;\n",
              "      fill: #D2E3FC;\n",
              "    }\n",
              "\n",
              "    [theme=dark] .colab-df-convert:hover {\n",
              "      background-color: #434B5C;\n",
              "      box-shadow: 0px 1px 3px 1px rgba(0, 0, 0, 0.15);\n",
              "      filter: drop-shadow(0px 1px 2px rgba(0, 0, 0, 0.3));\n",
              "      fill: #FFFFFF;\n",
              "    }\n",
              "  </style>\n",
              "\n",
              "      <script>\n",
              "        const buttonEl =\n",
              "          document.querySelector('#df-3702ad29-e500-478b-af40-eab131418a2b button.colab-df-convert');\n",
              "        buttonEl.style.display =\n",
              "          google.colab.kernel.accessAllowed ? 'block' : 'none';\n",
              "\n",
              "        async function convertToInteractive(key) {\n",
              "          const element = document.querySelector('#df-3702ad29-e500-478b-af40-eab131418a2b');\n",
              "          const dataTable =\n",
              "            await google.colab.kernel.invokeFunction('convertToInteractive',\n",
              "                                                     [key], {});\n",
              "          if (!dataTable) return;\n",
              "\n",
              "          const docLinkHtml = 'Like what you see? Visit the ' +\n",
              "            '<a target=\"_blank\" href=https://colab.research.google.com/notebooks/data_table.ipynb>data table notebook</a>'\n",
              "            + ' to learn more about interactive tables.';\n",
              "          element.innerHTML = '';\n",
              "          dataTable['output_type'] = 'display_data';\n",
              "          await google.colab.output.renderOutput(dataTable, element);\n",
              "          const docLink = document.createElement('div');\n",
              "          docLink.innerHTML = docLinkHtml;\n",
              "          element.appendChild(docLink);\n",
              "        }\n",
              "      </script>\n",
              "    </div>\n",
              "  </div>\n",
              "  "
            ]
          },
          "metadata": {},
          "execution_count": 80
        }
      ]
    },
    {
      "cell_type": "code",
      "source": [
        "usage.tail()"
      ],
      "metadata": {
        "colab": {
          "base_uri": "https://localhost:8080/",
          "height": 206
        },
        "id": "bJlxKq4G1cOy",
        "outputId": "93954e4f-7104-43ae-896c-3064f237caca"
      },
      "id": "bJlxKq4G1cOy",
      "execution_count": null,
      "outputs": [
        {
          "output_type": "execute_result",
          "data": {
            "text/plain": [
              "    user_id      group landing_page  time_spent_on_the_page converted  \\\n",
              "95   546446  treatment          new                    5.15        no   \n",
              "96   546544    control          old                    6.52       yes   \n",
              "97   546472  treatment          new                    7.07       yes   \n",
              "98   546481  treatment          new                    6.20       yes   \n",
              "99   546483  treatment          new                    5.86       yes   \n",
              "\n",
              "   language_preferred  \n",
              "95            Spanish  \n",
              "96            English  \n",
              "97            Spanish  \n",
              "98            Spanish  \n",
              "99            English  "
            ],
            "text/html": [
              "\n",
              "  <div id=\"df-e59072ea-f53d-4b91-98ad-418a6de36d81\">\n",
              "    <div class=\"colab-df-container\">\n",
              "      <div>\n",
              "<style scoped>\n",
              "    .dataframe tbody tr th:only-of-type {\n",
              "        vertical-align: middle;\n",
              "    }\n",
              "\n",
              "    .dataframe tbody tr th {\n",
              "        vertical-align: top;\n",
              "    }\n",
              "\n",
              "    .dataframe thead th {\n",
              "        text-align: right;\n",
              "    }\n",
              "</style>\n",
              "<table border=\"1\" class=\"dataframe\">\n",
              "  <thead>\n",
              "    <tr style=\"text-align: right;\">\n",
              "      <th></th>\n",
              "      <th>user_id</th>\n",
              "      <th>group</th>\n",
              "      <th>landing_page</th>\n",
              "      <th>time_spent_on_the_page</th>\n",
              "      <th>converted</th>\n",
              "      <th>language_preferred</th>\n",
              "    </tr>\n",
              "  </thead>\n",
              "  <tbody>\n",
              "    <tr>\n",
              "      <th>95</th>\n",
              "      <td>546446</td>\n",
              "      <td>treatment</td>\n",
              "      <td>new</td>\n",
              "      <td>5.15</td>\n",
              "      <td>no</td>\n",
              "      <td>Spanish</td>\n",
              "    </tr>\n",
              "    <tr>\n",
              "      <th>96</th>\n",
              "      <td>546544</td>\n",
              "      <td>control</td>\n",
              "      <td>old</td>\n",
              "      <td>6.52</td>\n",
              "      <td>yes</td>\n",
              "      <td>English</td>\n",
              "    </tr>\n",
              "    <tr>\n",
              "      <th>97</th>\n",
              "      <td>546472</td>\n",
              "      <td>treatment</td>\n",
              "      <td>new</td>\n",
              "      <td>7.07</td>\n",
              "      <td>yes</td>\n",
              "      <td>Spanish</td>\n",
              "    </tr>\n",
              "    <tr>\n",
              "      <th>98</th>\n",
              "      <td>546481</td>\n",
              "      <td>treatment</td>\n",
              "      <td>new</td>\n",
              "      <td>6.20</td>\n",
              "      <td>yes</td>\n",
              "      <td>Spanish</td>\n",
              "    </tr>\n",
              "    <tr>\n",
              "      <th>99</th>\n",
              "      <td>546483</td>\n",
              "      <td>treatment</td>\n",
              "      <td>new</td>\n",
              "      <td>5.86</td>\n",
              "      <td>yes</td>\n",
              "      <td>English</td>\n",
              "    </tr>\n",
              "  </tbody>\n",
              "</table>\n",
              "</div>\n",
              "      <button class=\"colab-df-convert\" onclick=\"convertToInteractive('df-e59072ea-f53d-4b91-98ad-418a6de36d81')\"\n",
              "              title=\"Convert this dataframe to an interactive table.\"\n",
              "              style=\"display:none;\">\n",
              "        \n",
              "  <svg xmlns=\"http://www.w3.org/2000/svg\" height=\"24px\"viewBox=\"0 0 24 24\"\n",
              "       width=\"24px\">\n",
              "    <path d=\"M0 0h24v24H0V0z\" fill=\"none\"/>\n",
              "    <path d=\"M18.56 5.44l.94 2.06.94-2.06 2.06-.94-2.06-.94-.94-2.06-.94 2.06-2.06.94zm-11 1L8.5 8.5l.94-2.06 2.06-.94-2.06-.94L8.5 2.5l-.94 2.06-2.06.94zm10 10l.94 2.06.94-2.06 2.06-.94-2.06-.94-.94-2.06-.94 2.06-2.06.94z\"/><path d=\"M17.41 7.96l-1.37-1.37c-.4-.4-.92-.59-1.43-.59-.52 0-1.04.2-1.43.59L10.3 9.45l-7.72 7.72c-.78.78-.78 2.05 0 2.83L4 21.41c.39.39.9.59 1.41.59.51 0 1.02-.2 1.41-.59l7.78-7.78 2.81-2.81c.8-.78.8-2.07 0-2.86zM5.41 20L4 18.59l7.72-7.72 1.47 1.35L5.41 20z\"/>\n",
              "  </svg>\n",
              "      </button>\n",
              "      \n",
              "  <style>\n",
              "    .colab-df-container {\n",
              "      display:flex;\n",
              "      flex-wrap:wrap;\n",
              "      gap: 12px;\n",
              "    }\n",
              "\n",
              "    .colab-df-convert {\n",
              "      background-color: #E8F0FE;\n",
              "      border: none;\n",
              "      border-radius: 50%;\n",
              "      cursor: pointer;\n",
              "      display: none;\n",
              "      fill: #1967D2;\n",
              "      height: 32px;\n",
              "      padding: 0 0 0 0;\n",
              "      width: 32px;\n",
              "    }\n",
              "\n",
              "    .colab-df-convert:hover {\n",
              "      background-color: #E2EBFA;\n",
              "      box-shadow: 0px 1px 2px rgba(60, 64, 67, 0.3), 0px 1px 3px 1px rgba(60, 64, 67, 0.15);\n",
              "      fill: #174EA6;\n",
              "    }\n",
              "\n",
              "    [theme=dark] .colab-df-convert {\n",
              "      background-color: #3B4455;\n",
              "      fill: #D2E3FC;\n",
              "    }\n",
              "\n",
              "    [theme=dark] .colab-df-convert:hover {\n",
              "      background-color: #434B5C;\n",
              "      box-shadow: 0px 1px 3px 1px rgba(0, 0, 0, 0.15);\n",
              "      filter: drop-shadow(0px 1px 2px rgba(0, 0, 0, 0.3));\n",
              "      fill: #FFFFFF;\n",
              "    }\n",
              "  </style>\n",
              "\n",
              "      <script>\n",
              "        const buttonEl =\n",
              "          document.querySelector('#df-e59072ea-f53d-4b91-98ad-418a6de36d81 button.colab-df-convert');\n",
              "        buttonEl.style.display =\n",
              "          google.colab.kernel.accessAllowed ? 'block' : 'none';\n",
              "\n",
              "        async function convertToInteractive(key) {\n",
              "          const element = document.querySelector('#df-e59072ea-f53d-4b91-98ad-418a6de36d81');\n",
              "          const dataTable =\n",
              "            await google.colab.kernel.invokeFunction('convertToInteractive',\n",
              "                                                     [key], {});\n",
              "          if (!dataTable) return;\n",
              "\n",
              "          const docLinkHtml = 'Like what you see? Visit the ' +\n",
              "            '<a target=\"_blank\" href=https://colab.research.google.com/notebooks/data_table.ipynb>data table notebook</a>'\n",
              "            + ' to learn more about interactive tables.';\n",
              "          element.innerHTML = '';\n",
              "          dataTable['output_type'] = 'display_data';\n",
              "          await google.colab.output.renderOutput(dataTable, element);\n",
              "          const docLink = document.createElement('div');\n",
              "          docLink.innerHTML = docLinkHtml;\n",
              "          element.appendChild(docLink);\n",
              "        }\n",
              "      </script>\n",
              "    </div>\n",
              "  </div>\n",
              "  "
            ]
          },
          "metadata": {},
          "execution_count": 81
        }
      ]
    },
    {
      "cell_type": "code",
      "source": [
        "usage.shape"
      ],
      "metadata": {
        "colab": {
          "base_uri": "https://localhost:8080/"
        },
        "id": "le87jyEz1ejv",
        "outputId": "a447df89-bc69-403e-a037-72808e273f74"
      },
      "id": "le87jyEz1ejv",
      "execution_count": null,
      "outputs": [
        {
          "output_type": "execute_result",
          "data": {
            "text/plain": [
              "(100, 6)"
            ]
          },
          "metadata": {},
          "execution_count": 82
        }
      ]
    },
    {
      "cell_type": "markdown",
      "source": [
        "We have 100 rows of user data examining E-news Express site usage. Since this data is from A/B testing, we are given whether each user was in the control group or the treatment group, whether they were shown the old layout or the new layout. We also get a unique ID for each user, which we can utilize to check for duplicates. Time spent on the page is a continuous numerical variable, and I expect much of our analysis will revolve around time. The other key variable is found in the converted column, since the main business goal is to convert readers to subscribers. Lastly, we can study language preference.\n",
        "\n",
        "It looks like group and landing_page give the same information in two different ways. We can confirm they are perfectly aligned below."
      ],
      "metadata": {
        "id": "mx2bNYYZwjQR"
      },
      "id": "mx2bNYYZwjQR"
    },
    {
      "cell_type": "code",
      "source": [
        "usage.groupby('group')['landing_page'].value_counts()"
      ],
      "metadata": {
        "colab": {
          "base_uri": "https://localhost:8080/"
        },
        "id": "sV7lCIRABwdZ",
        "outputId": "e5a3ecc2-a10a-4d4f-9d6a-8a5c01b792a8"
      },
      "id": "sV7lCIRABwdZ",
      "execution_count": null,
      "outputs": [
        {
          "output_type": "execute_result",
          "data": {
            "text/plain": [
              "group      landing_page\n",
              "control    old             50\n",
              "treatment  new             50\n",
              "Name: landing_page, dtype: int64"
            ]
          },
          "metadata": {},
          "execution_count": 83
        }
      ]
    },
    {
      "cell_type": "markdown",
      "source": [
        "We next review the column info."
      ],
      "metadata": {
        "id": "KFIgKtKiCUQZ"
      },
      "id": "KFIgKtKiCUQZ"
    },
    {
      "cell_type": "code",
      "source": [
        "usage.info()"
      ],
      "metadata": {
        "colab": {
          "base_uri": "https://localhost:8080/"
        },
        "id": "WQY7oRU76HZh",
        "outputId": "1c4692cf-f44b-4abf-bcad-b80b01d7f311"
      },
      "id": "WQY7oRU76HZh",
      "execution_count": null,
      "outputs": [
        {
          "output_type": "stream",
          "name": "stdout",
          "text": [
            "<class 'pandas.core.frame.DataFrame'>\n",
            "RangeIndex: 100 entries, 0 to 99\n",
            "Data columns (total 6 columns):\n",
            " #   Column                  Non-Null Count  Dtype  \n",
            "---  ------                  --------------  -----  \n",
            " 0   user_id                 100 non-null    int64  \n",
            " 1   group                   100 non-null    object \n",
            " 2   landing_page            100 non-null    object \n",
            " 3   time_spent_on_the_page  100 non-null    float64\n",
            " 4   converted               100 non-null    object \n",
            " 5   language_preferred      100 non-null    object \n",
            "dtypes: float64(1), int64(1), object(4)\n",
            "memory usage: 4.8+ KB\n"
          ]
        }
      ]
    },
    {
      "cell_type": "markdown",
      "source": [
        "Thankfully, there are no null entries reported. We see that four of the six columns have 'object' data type, that is, strings. We will convert these columns to the 'categorical' data type later. Time, a continuous variable, is stored as a float, which is to be expected, since we will be looking at decimal numbers.\n",
        "\n",
        "We review brief statistical analyses."
      ],
      "metadata": {
        "id": "qqW2cMHNzhdf"
      },
      "id": "qqW2cMHNzhdf"
    },
    {
      "cell_type": "code",
      "source": [
        "usage.describe().T"
      ],
      "metadata": {
        "colab": {
          "base_uri": "https://localhost:8080/",
          "height": 112
        },
        "id": "U05xo1I21ehq",
        "outputId": "980f6342-52d0-4c75-d303-97a6cba2f8ae"
      },
      "id": "U05xo1I21ehq",
      "execution_count": null,
      "outputs": [
        {
          "output_type": "execute_result",
          "data": {
            "text/plain": [
              "                        count         mean        std        min        25%  \\\n",
              "user_id                 100.0  546517.0000  52.295779  546443.00  546467.75   \n",
              "time_spent_on_the_page  100.0       5.3778   2.378166       0.19       3.88   \n",
              "\n",
              "                               50%          75%        max  \n",
              "user_id                 546492.500  546567.2500  546592.00  \n",
              "time_spent_on_the_page       5.415       7.0225      10.71  "
            ],
            "text/html": [
              "\n",
              "  <div id=\"df-7ad05045-4ebc-4384-9555-857e996c8bdf\">\n",
              "    <div class=\"colab-df-container\">\n",
              "      <div>\n",
              "<style scoped>\n",
              "    .dataframe tbody tr th:only-of-type {\n",
              "        vertical-align: middle;\n",
              "    }\n",
              "\n",
              "    .dataframe tbody tr th {\n",
              "        vertical-align: top;\n",
              "    }\n",
              "\n",
              "    .dataframe thead th {\n",
              "        text-align: right;\n",
              "    }\n",
              "</style>\n",
              "<table border=\"1\" class=\"dataframe\">\n",
              "  <thead>\n",
              "    <tr style=\"text-align: right;\">\n",
              "      <th></th>\n",
              "      <th>count</th>\n",
              "      <th>mean</th>\n",
              "      <th>std</th>\n",
              "      <th>min</th>\n",
              "      <th>25%</th>\n",
              "      <th>50%</th>\n",
              "      <th>75%</th>\n",
              "      <th>max</th>\n",
              "    </tr>\n",
              "  </thead>\n",
              "  <tbody>\n",
              "    <tr>\n",
              "      <th>user_id</th>\n",
              "      <td>100.0</td>\n",
              "      <td>546517.0000</td>\n",
              "      <td>52.295779</td>\n",
              "      <td>546443.00</td>\n",
              "      <td>546467.75</td>\n",
              "      <td>546492.500</td>\n",
              "      <td>546567.2500</td>\n",
              "      <td>546592.00</td>\n",
              "    </tr>\n",
              "    <tr>\n",
              "      <th>time_spent_on_the_page</th>\n",
              "      <td>100.0</td>\n",
              "      <td>5.3778</td>\n",
              "      <td>2.378166</td>\n",
              "      <td>0.19</td>\n",
              "      <td>3.88</td>\n",
              "      <td>5.415</td>\n",
              "      <td>7.0225</td>\n",
              "      <td>10.71</td>\n",
              "    </tr>\n",
              "  </tbody>\n",
              "</table>\n",
              "</div>\n",
              "      <button class=\"colab-df-convert\" onclick=\"convertToInteractive('df-7ad05045-4ebc-4384-9555-857e996c8bdf')\"\n",
              "              title=\"Convert this dataframe to an interactive table.\"\n",
              "              style=\"display:none;\">\n",
              "        \n",
              "  <svg xmlns=\"http://www.w3.org/2000/svg\" height=\"24px\"viewBox=\"0 0 24 24\"\n",
              "       width=\"24px\">\n",
              "    <path d=\"M0 0h24v24H0V0z\" fill=\"none\"/>\n",
              "    <path d=\"M18.56 5.44l.94 2.06.94-2.06 2.06-.94-2.06-.94-.94-2.06-.94 2.06-2.06.94zm-11 1L8.5 8.5l.94-2.06 2.06-.94-2.06-.94L8.5 2.5l-.94 2.06-2.06.94zm10 10l.94 2.06.94-2.06 2.06-.94-2.06-.94-.94-2.06-.94 2.06-2.06.94z\"/><path d=\"M17.41 7.96l-1.37-1.37c-.4-.4-.92-.59-1.43-.59-.52 0-1.04.2-1.43.59L10.3 9.45l-7.72 7.72c-.78.78-.78 2.05 0 2.83L4 21.41c.39.39.9.59 1.41.59.51 0 1.02-.2 1.41-.59l7.78-7.78 2.81-2.81c.8-.78.8-2.07 0-2.86zM5.41 20L4 18.59l7.72-7.72 1.47 1.35L5.41 20z\"/>\n",
              "  </svg>\n",
              "      </button>\n",
              "      \n",
              "  <style>\n",
              "    .colab-df-container {\n",
              "      display:flex;\n",
              "      flex-wrap:wrap;\n",
              "      gap: 12px;\n",
              "    }\n",
              "\n",
              "    .colab-df-convert {\n",
              "      background-color: #E8F0FE;\n",
              "      border: none;\n",
              "      border-radius: 50%;\n",
              "      cursor: pointer;\n",
              "      display: none;\n",
              "      fill: #1967D2;\n",
              "      height: 32px;\n",
              "      padding: 0 0 0 0;\n",
              "      width: 32px;\n",
              "    }\n",
              "\n",
              "    .colab-df-convert:hover {\n",
              "      background-color: #E2EBFA;\n",
              "      box-shadow: 0px 1px 2px rgba(60, 64, 67, 0.3), 0px 1px 3px 1px rgba(60, 64, 67, 0.15);\n",
              "      fill: #174EA6;\n",
              "    }\n",
              "\n",
              "    [theme=dark] .colab-df-convert {\n",
              "      background-color: #3B4455;\n",
              "      fill: #D2E3FC;\n",
              "    }\n",
              "\n",
              "    [theme=dark] .colab-df-convert:hover {\n",
              "      background-color: #434B5C;\n",
              "      box-shadow: 0px 1px 3px 1px rgba(0, 0, 0, 0.15);\n",
              "      filter: drop-shadow(0px 1px 2px rgba(0, 0, 0, 0.3));\n",
              "      fill: #FFFFFF;\n",
              "    }\n",
              "  </style>\n",
              "\n",
              "      <script>\n",
              "        const buttonEl =\n",
              "          document.querySelector('#df-7ad05045-4ebc-4384-9555-857e996c8bdf button.colab-df-convert');\n",
              "        buttonEl.style.display =\n",
              "          google.colab.kernel.accessAllowed ? 'block' : 'none';\n",
              "\n",
              "        async function convertToInteractive(key) {\n",
              "          const element = document.querySelector('#df-7ad05045-4ebc-4384-9555-857e996c8bdf');\n",
              "          const dataTable =\n",
              "            await google.colab.kernel.invokeFunction('convertToInteractive',\n",
              "                                                     [key], {});\n",
              "          if (!dataTable) return;\n",
              "\n",
              "          const docLinkHtml = 'Like what you see? Visit the ' +\n",
              "            '<a target=\"_blank\" href=https://colab.research.google.com/notebooks/data_table.ipynb>data table notebook</a>'\n",
              "            + ' to learn more about interactive tables.';\n",
              "          element.innerHTML = '';\n",
              "          dataTable['output_type'] = 'display_data';\n",
              "          await google.colab.output.renderOutput(dataTable, element);\n",
              "          const docLink = document.createElement('div');\n",
              "          docLink.innerHTML = docLinkHtml;\n",
              "          element.appendChild(docLink);\n",
              "        }\n",
              "      </script>\n",
              "    </div>\n",
              "  </div>\n",
              "  "
            ]
          },
          "metadata": {},
          "execution_count": 85
        }
      ]
    },
    {
      "cell_type": "code",
      "source": [
        "usage.describe(include=[object]).T"
      ],
      "metadata": {
        "colab": {
          "base_uri": "https://localhost:8080/",
          "height": 175
        },
        "id": "zchRF58k2KNT",
        "outputId": "c2d5c3e8-50e0-465e-d691-40a1fda1ebd8"
      },
      "id": "zchRF58k2KNT",
      "execution_count": null,
      "outputs": [
        {
          "output_type": "execute_result",
          "data": {
            "text/plain": [
              "                   count unique      top freq\n",
              "group                100      2  control   50\n",
              "landing_page         100      2      old   50\n",
              "converted            100      2      yes   54\n",
              "language_preferred   100      3  Spanish   34"
            ],
            "text/html": [
              "\n",
              "  <div id=\"df-c79d6d8d-62b2-4550-88fc-e5b2c7c85ec7\">\n",
              "    <div class=\"colab-df-container\">\n",
              "      <div>\n",
              "<style scoped>\n",
              "    .dataframe tbody tr th:only-of-type {\n",
              "        vertical-align: middle;\n",
              "    }\n",
              "\n",
              "    .dataframe tbody tr th {\n",
              "        vertical-align: top;\n",
              "    }\n",
              "\n",
              "    .dataframe thead th {\n",
              "        text-align: right;\n",
              "    }\n",
              "</style>\n",
              "<table border=\"1\" class=\"dataframe\">\n",
              "  <thead>\n",
              "    <tr style=\"text-align: right;\">\n",
              "      <th></th>\n",
              "      <th>count</th>\n",
              "      <th>unique</th>\n",
              "      <th>top</th>\n",
              "      <th>freq</th>\n",
              "    </tr>\n",
              "  </thead>\n",
              "  <tbody>\n",
              "    <tr>\n",
              "      <th>group</th>\n",
              "      <td>100</td>\n",
              "      <td>2</td>\n",
              "      <td>control</td>\n",
              "      <td>50</td>\n",
              "    </tr>\n",
              "    <tr>\n",
              "      <th>landing_page</th>\n",
              "      <td>100</td>\n",
              "      <td>2</td>\n",
              "      <td>old</td>\n",
              "      <td>50</td>\n",
              "    </tr>\n",
              "    <tr>\n",
              "      <th>converted</th>\n",
              "      <td>100</td>\n",
              "      <td>2</td>\n",
              "      <td>yes</td>\n",
              "      <td>54</td>\n",
              "    </tr>\n",
              "    <tr>\n",
              "      <th>language_preferred</th>\n",
              "      <td>100</td>\n",
              "      <td>3</td>\n",
              "      <td>Spanish</td>\n",
              "      <td>34</td>\n",
              "    </tr>\n",
              "  </tbody>\n",
              "</table>\n",
              "</div>\n",
              "      <button class=\"colab-df-convert\" onclick=\"convertToInteractive('df-c79d6d8d-62b2-4550-88fc-e5b2c7c85ec7')\"\n",
              "              title=\"Convert this dataframe to an interactive table.\"\n",
              "              style=\"display:none;\">\n",
              "        \n",
              "  <svg xmlns=\"http://www.w3.org/2000/svg\" height=\"24px\"viewBox=\"0 0 24 24\"\n",
              "       width=\"24px\">\n",
              "    <path d=\"M0 0h24v24H0V0z\" fill=\"none\"/>\n",
              "    <path d=\"M18.56 5.44l.94 2.06.94-2.06 2.06-.94-2.06-.94-.94-2.06-.94 2.06-2.06.94zm-11 1L8.5 8.5l.94-2.06 2.06-.94-2.06-.94L8.5 2.5l-.94 2.06-2.06.94zm10 10l.94 2.06.94-2.06 2.06-.94-2.06-.94-.94-2.06-.94 2.06-2.06.94z\"/><path d=\"M17.41 7.96l-1.37-1.37c-.4-.4-.92-.59-1.43-.59-.52 0-1.04.2-1.43.59L10.3 9.45l-7.72 7.72c-.78.78-.78 2.05 0 2.83L4 21.41c.39.39.9.59 1.41.59.51 0 1.02-.2 1.41-.59l7.78-7.78 2.81-2.81c.8-.78.8-2.07 0-2.86zM5.41 20L4 18.59l7.72-7.72 1.47 1.35L5.41 20z\"/>\n",
              "  </svg>\n",
              "      </button>\n",
              "      \n",
              "  <style>\n",
              "    .colab-df-container {\n",
              "      display:flex;\n",
              "      flex-wrap:wrap;\n",
              "      gap: 12px;\n",
              "    }\n",
              "\n",
              "    .colab-df-convert {\n",
              "      background-color: #E8F0FE;\n",
              "      border: none;\n",
              "      border-radius: 50%;\n",
              "      cursor: pointer;\n",
              "      display: none;\n",
              "      fill: #1967D2;\n",
              "      height: 32px;\n",
              "      padding: 0 0 0 0;\n",
              "      width: 32px;\n",
              "    }\n",
              "\n",
              "    .colab-df-convert:hover {\n",
              "      background-color: #E2EBFA;\n",
              "      box-shadow: 0px 1px 2px rgba(60, 64, 67, 0.3), 0px 1px 3px 1px rgba(60, 64, 67, 0.15);\n",
              "      fill: #174EA6;\n",
              "    }\n",
              "\n",
              "    [theme=dark] .colab-df-convert {\n",
              "      background-color: #3B4455;\n",
              "      fill: #D2E3FC;\n",
              "    }\n",
              "\n",
              "    [theme=dark] .colab-df-convert:hover {\n",
              "      background-color: #434B5C;\n",
              "      box-shadow: 0px 1px 3px 1px rgba(0, 0, 0, 0.15);\n",
              "      filter: drop-shadow(0px 1px 2px rgba(0, 0, 0, 0.3));\n",
              "      fill: #FFFFFF;\n",
              "    }\n",
              "  </style>\n",
              "\n",
              "      <script>\n",
              "        const buttonEl =\n",
              "          document.querySelector('#df-c79d6d8d-62b2-4550-88fc-e5b2c7c85ec7 button.colab-df-convert');\n",
              "        buttonEl.style.display =\n",
              "          google.colab.kernel.accessAllowed ? 'block' : 'none';\n",
              "\n",
              "        async function convertToInteractive(key) {\n",
              "          const element = document.querySelector('#df-c79d6d8d-62b2-4550-88fc-e5b2c7c85ec7');\n",
              "          const dataTable =\n",
              "            await google.colab.kernel.invokeFunction('convertToInteractive',\n",
              "                                                     [key], {});\n",
              "          if (!dataTable) return;\n",
              "\n",
              "          const docLinkHtml = 'Like what you see? Visit the ' +\n",
              "            '<a target=\"_blank\" href=https://colab.research.google.com/notebooks/data_table.ipynb>data table notebook</a>'\n",
              "            + ' to learn more about interactive tables.';\n",
              "          element.innerHTML = '';\n",
              "          dataTable['output_type'] = 'display_data';\n",
              "          await google.colab.output.renderOutput(dataTable, element);\n",
              "          const docLink = document.createElement('div');\n",
              "          docLink.innerHTML = docLinkHtml;\n",
              "          element.appendChild(docLink);\n",
              "        }\n",
              "      </script>\n",
              "    </div>\n",
              "  </div>\n",
              "  "
            ]
          },
          "metadata": {},
          "execution_count": 86
        }
      ]
    },
    {
      "cell_type": "markdown",
      "source": [
        "User ID is not an insightful numerical variable, since it is just an identifier. For time_spent_on_the_page, which I will just refer to as *time*, we see that the mean and median are fairly close. This indicates that the time data is likely not very skewed. The minimum is 0.19 minutes and the maximum is 10.71 minutes.\n",
        "\n",
        "For the categorical variables, the unique count is a good way to check that the data is intact: We expect to only have two possibilites for group, landing_page, and converted. Group and landing_page data are split perfectly in half, slightly more than half of the users were converted (yay!), and the most popular language is Spanish.\n",
        "\n",
        "Lastly, let's just check that the data is intact."
      ],
      "metadata": {
        "id": "i_nZ3xhX0XAD"
      },
      "id": "i_nZ3xhX0XAD"
    },
    {
      "cell_type": "code",
      "source": [
        "usage.isnull().sum()"
      ],
      "metadata": {
        "colab": {
          "base_uri": "https://localhost:8080/"
        },
        "id": "a34L8jdJ2f6T",
        "outputId": "9f28204e-0ca9-42ab-93ac-f1900097e65f"
      },
      "id": "a34L8jdJ2f6T",
      "execution_count": null,
      "outputs": [
        {
          "output_type": "execute_result",
          "data": {
            "text/plain": [
              "user_id                   0\n",
              "group                     0\n",
              "landing_page              0\n",
              "time_spent_on_the_page    0\n",
              "converted                 0\n",
              "language_preferred        0\n",
              "dtype: int64"
            ]
          },
          "metadata": {},
          "execution_count": 87
        }
      ]
    },
    {
      "cell_type": "code",
      "source": [
        "usage.duplicated().sum()"
      ],
      "metadata": {
        "colab": {
          "base_uri": "https://localhost:8080/"
        },
        "id": "mIVA2zi02uyg",
        "outputId": "d9f7583d-785f-41b7-8f1f-07f8519f80b0"
      },
      "id": "mIVA2zi02uyg",
      "execution_count": null,
      "outputs": [
        {
          "output_type": "execute_result",
          "data": {
            "text/plain": [
              "0"
            ]
          },
          "metadata": {},
          "execution_count": 88
        }
      ]
    },
    {
      "cell_type": "code",
      "source": [
        "usage['user_id'].duplicated().sum()"
      ],
      "metadata": {
        "colab": {
          "base_uri": "https://localhost:8080/"
        },
        "id": "vADoYDNxys1X",
        "outputId": "e950c1f9-198b-4bea-8246-82bc702a9a14"
      },
      "id": "vADoYDNxys1X",
      "execution_count": null,
      "outputs": [
        {
          "output_type": "execute_result",
          "data": {
            "text/plain": [
              "0"
            ]
          },
          "metadata": {},
          "execution_count": 89
        }
      ]
    },
    {
      "cell_type": "markdown",
      "source": [
        "There are no null entries and no duplicated rows. Additionally, we checked specifically to ensure that there are no duplicated user IDs, since we only want one result in the sample from each user."
      ],
      "metadata": {
        "id": "o67K4qk7Fy3j"
      },
      "id": "o67K4qk7Fy3j"
    },
    {
      "cell_type": "markdown",
      "metadata": {
        "id": "68f3b2c9"
      },
      "source": [
        "### Univariate Analysis"
      ],
      "id": "68f3b2c9"
    },
    {
      "cell_type": "markdown",
      "source": [
        "We start by converting the categorical variables to the categorical data type."
      ],
      "metadata": {
        "id": "neLv4ElwGHkR"
      },
      "id": "neLv4ElwGHkR"
    },
    {
      "cell_type": "code",
      "source": [
        "# convert object columns to categorical columns\n",
        "# and create a list of these column names\n",
        "col_types=usage.dtypes\n",
        "cat_col=[]\n",
        "for col in usage.columns:\n",
        "  if col_types[col]==object:\n",
        "    usage[col]=pd.Categorical(usage[col])\n",
        "    cat_col.append(col)"
      ],
      "metadata": {
        "id": "CG28Q61n6PMk"
      },
      "id": "CG28Q61n6PMk",
      "execution_count": null,
      "outputs": []
    },
    {
      "cell_type": "markdown",
      "source": [
        "The ```info()``` method allows us to verify that these columns have been successfully converted to the 'category' data type."
      ],
      "metadata": {
        "id": "-_-uc0IhGSQz"
      },
      "id": "-_-uc0IhGSQz"
    },
    {
      "cell_type": "code",
      "source": [
        "usage.info()"
      ],
      "metadata": {
        "colab": {
          "base_uri": "https://localhost:8080/"
        },
        "id": "A7-I1K3W6p8I",
        "outputId": "7d3acb5a-23af-4503-b2a3-a082010d7baf"
      },
      "id": "A7-I1K3W6p8I",
      "execution_count": null,
      "outputs": [
        {
          "output_type": "stream",
          "name": "stdout",
          "text": [
            "<class 'pandas.core.frame.DataFrame'>\n",
            "RangeIndex: 100 entries, 0 to 99\n",
            "Data columns (total 6 columns):\n",
            " #   Column                  Non-Null Count  Dtype   \n",
            "---  ------                  --------------  -----   \n",
            " 0   user_id                 100 non-null    int64   \n",
            " 1   group                   100 non-null    category\n",
            " 2   landing_page            100 non-null    category\n",
            " 3   time_spent_on_the_page  100 non-null    float64 \n",
            " 4   converted               100 non-null    category\n",
            " 5   language_preferred      100 non-null    category\n",
            "dtypes: category(4), float64(1), int64(1)\n",
            "memory usage: 2.6 KB\n"
          ]
        }
      ]
    },
    {
      "cell_type": "markdown",
      "source": [
        "Let's look at what the values are for our categorical variables."
      ],
      "metadata": {
        "id": "eTPlxevvGpb9"
      },
      "id": "eTPlxevvGpb9"
    },
    {
      "cell_type": "code",
      "source": [
        "# print a table with value counts for each categorical column\n",
        "print('Value Counts by Categorical Column')\n",
        "print('~'*50)\n",
        "for col in cat_col:\n",
        "  print('Column:',col)\n",
        "  print(usage[col].value_counts())\n",
        "  print('~'*50)"
      ],
      "metadata": {
        "colab": {
          "base_uri": "https://localhost:8080/"
        },
        "id": "5F4P81sq78L6",
        "outputId": "d121c063-e87b-4dbc-e12a-916464bef34b"
      },
      "id": "5F4P81sq78L6",
      "execution_count": null,
      "outputs": [
        {
          "output_type": "stream",
          "name": "stdout",
          "text": [
            "Value Counts by Categorical Column\n",
            "~~~~~~~~~~~~~~~~~~~~~~~~~~~~~~~~~~~~~~~~~~~~~~~~~~\n",
            "Column: group\n",
            "control      50\n",
            "treatment    50\n",
            "Name: group, dtype: int64\n",
            "~~~~~~~~~~~~~~~~~~~~~~~~~~~~~~~~~~~~~~~~~~~~~~~~~~\n",
            "Column: landing_page\n",
            "new    50\n",
            "old    50\n",
            "Name: landing_page, dtype: int64\n",
            "~~~~~~~~~~~~~~~~~~~~~~~~~~~~~~~~~~~~~~~~~~~~~~~~~~\n",
            "Column: converted\n",
            "yes    54\n",
            "no     46\n",
            "Name: converted, dtype: int64\n",
            "~~~~~~~~~~~~~~~~~~~~~~~~~~~~~~~~~~~~~~~~~~~~~~~~~~\n",
            "Column: language_preferred\n",
            "French     34\n",
            "Spanish    34\n",
            "English    32\n",
            "Name: language_preferred, dtype: int64\n",
            "~~~~~~~~~~~~~~~~~~~~~~~~~~~~~~~~~~~~~~~~~~~~~~~~~~\n"
          ]
        }
      ]
    },
    {
      "cell_type": "markdown",
      "source": [
        "Recall that our sample size is 100 users. We note immediately that the groups are split perfectly down the middle. As was noted earlier, group and landing_page convey the same data in two different ways, and since we are A/B testing the layout, it is helpful that our two groups have the same size. From the converted column, we find that slightly more than half of the users were converted to subscribers. I'd be interested to see how that conversion is distributed across the test groups! Lastly, we have language preference. The three languages have about equal representation in the data, around 1/3 of the sample preferring English, 1/3 Spanish, and 1/3 French. We will look later at whether there is any difference between these language preferences and the conversion rate."
      ],
      "metadata": {
        "id": "zpi7w_obS-8o"
      },
      "id": "zpi7w_obS-8o"
    },
    {
      "cell_type": "code",
      "source": [
        "# use seaborn default plotting theme\n",
        "sns.set_theme()"
      ],
      "metadata": {
        "id": "_dqFI2flEyIT"
      },
      "id": "_dqFI2flEyIT",
      "execution_count": null,
      "outputs": []
    },
    {
      "cell_type": "code",
      "source": [
        "# create a plot of categorical variables\n",
        "# using a loop and subplots\n",
        "\n",
        "# figure setup\n",
        "plt.figure(figsize=(16,5))\n",
        "plt.suptitle('Ratio of Values',fontsize=20)\n",
        "\n",
        "# loop to create subplots\n",
        "for i,col in enumerate(cat_col):\n",
        "  plt.subplot(1,4,i+1)\n",
        "  sns.countplot(data=usage,x=col)\n",
        "\n",
        "plt.show()"
      ],
      "metadata": {
        "colab": {
          "base_uri": "https://localhost:8080/",
          "height": 358
        },
        "id": "jSCAmK3g5sdE",
        "outputId": "5bcfbb6f-a2df-4978-b3a2-4be431fa7e67"
      },
      "id": "jSCAmK3g5sdE",
      "execution_count": null,
      "outputs": [
        {
          "output_type": "display_data",
          "data": {
            "text/plain": [
              "<Figure size 1152x360 with 4 Axes>"
            ],
            "image/png": "[encoded data removed]"
          },
          "metadata": {}
        }
      ]
    },
    {
      "cell_type": "markdown",
      "source": [
        "We find in the countplots what we found in the table above. The only new insight is perhaps a better visual sense of how close these values are. For example, when we look across the entire sample, the number of converted users is quite close to the number of users who weren't converted."
      ],
      "metadata": {
        "id": "8mHCDPvOVmm3"
      },
      "id": "8mHCDPvOVmm3"
    },
    {
      "cell_type": "code",
      "source": [
        "# plot the numerical variable: time\n",
        "time='time_spent_on_the_page'\n",
        "\n",
        "# figure setup\n",
        "fig=plt.figure(figsize=(12,5))\n",
        "fig.suptitle('Time Spent on the Page',fontsize=20)\n",
        "\n",
        "# histogram subplot\n",
        "plt.subplot(1,2,1)\n",
        "sns.histplot(data=usage,x=time,kde=True)\n",
        "plt.xlabel('Time (min)')\n",
        "\n",
        "# boxplot subplot\n",
        "plt.subplot(1,2,2)\n",
        "sns.boxplot(data=usage,x=time)\n",
        "plt.xlabel('Time (min)')\n",
        "\n",
        "plt.show()"
      ],
      "metadata": {
        "colab": {
          "base_uri": "https://localhost:8080/",
          "height": 375
        },
        "id": "rI_4aoa05sa7",
        "outputId": "c68f6e19-1b47-4a84-cee6-5ac995e9b9e8"
      },
      "id": "rI_4aoa05sa7",
      "execution_count": null,
      "outputs": [
        {
          "output_type": "display_data",
          "data": {
            "text/plain": [
              "<Figure size 864x360 with 2 Axes>"
            ],
            "image/png": "[encoded data removed]"
          },
          "metadata": {}
        }
      ]
    },
    {
      "cell_type": "markdown",
      "source": [
        "We see from the KDE on the left that time is normally distributed. The peak is between 5 and 6 minutes, as is the median, which can be read from the boxplot. The boxplot further illustrates that the spead of the data is not irregular, that is, there are no outliers: the minimum is just about 0 minutes and the maximum is around 11 minutes, both within bounds for these data. As can be seen in both the histogram and (especially) the boxplot, the middle 50% of the data is concentrated between about 4 minutes and 7 minutes.\n",
        "\n",
        "We can combine these two plots into the violin plot below, which encapsulates the analysis above."
      ],
      "metadata": {
        "id": "0D9KIWtLXg8G"
      },
      "id": "0D9KIWtLXg8G"
    },
    {
      "cell_type": "code",
      "source": [
        "# violin plot of time\n",
        "\n",
        "#figure setup\n",
        "plt.figure(figsize=(8,5))\n",
        "plt.title('Violin Plot of Time', fontsize=16)\n",
        "\n",
        "# violin restricted to data range (cut parameter)\n",
        "sns.violinplot(data=usage,x=time,cut=0)\n",
        "plt.xlabel('Time (min)');"
      ],
      "metadata": {
        "colab": {
          "base_uri": "https://localhost:8080/",
          "height": 357
        },
        "id": "gCUFyeIt5sYT",
        "outputId": "7862a643-da05-4065-df91-f42ed6afe922"
      },
      "id": "gCUFyeIt5sYT",
      "execution_count": null,
      "outputs": [
        {
          "output_type": "display_data",
          "data": {
            "text/plain": [
              "<Figure size 576x360 with 1 Axes>"
            ],
            "image/png": "[encoded data removed]"
          },
          "metadata": {}
        }
      ]
    },
    {
      "cell_type": "markdown",
      "metadata": {
        "id": "fad2de2f"
      },
      "source": [
        "### Bivariate Analysis"
      ],
      "id": "fad2de2f"
    },
    {
      "cell_type": "markdown",
      "source": [
        "Let's start with the most pressing question: Does the landing page design have any effect the conversion rate?"
      ],
      "metadata": {
        "id": "bbWZ10aejJqS"
      },
      "id": "bbWZ10aejJqS"
    },
    {
      "cell_type": "code",
      "source": [
        "# figure setup\n",
        "plt.figure(figsize=(8,5))\n",
        "plt.title('Conversion Rate by Landing Page Design',fontsize=14)\n",
        "\n",
        "# countplot\n",
        "sns.countplot(data=usage, x='landing_page',hue='converted')\n",
        "plt.xlabel('Design')\n",
        "plt.ylabel('Count');"
      ],
      "metadata": {
        "colab": {
          "base_uri": "https://localhost:8080/",
          "height": 356
        },
        "id": "jN2yYeP8Cwir",
        "outputId": "a7f7d265-3f41-4138-dc49-be2b91a67767"
      },
      "id": "jN2yYeP8Cwir",
      "execution_count": null,
      "outputs": [
        {
          "output_type": "display_data",
          "data": {
            "text/plain": [
              "<Figure size 576x360 with 1 Axes>"
            ],
            "image/png": "[encoded data removed]"
          },
          "metadata": {}
        }
      ]
    },
    {
      "cell_type": "markdown",
      "source": [
        "Indeed, it appears that the new design has a positive impact on conversion rate. In particular, more than half the users served the new landing page were converted to subscribers, whereas the old design had a conversion rate less than 50%. Now this looks like a big improvement, but we cannot be sure it is statistically significant until we run the test later.\n",
        "\n",
        "Next, let's look at whether language preference and conversion rate seemingly interact."
      ],
      "metadata": {
        "id": "QlSJ1BLHmgm6"
      },
      "id": "QlSJ1BLHmgm6"
    },
    {
      "cell_type": "code",
      "source": [
        "# figure setup\n",
        "plt.figure(figsize=(8,5))\n",
        "plt.title('Conversion Rate by Language Preference',fontsize=14)\n",
        "\n",
        "# countplot\n",
        "sns.countplot(data=usage,x='language_preferred',hue='converted')\n",
        "plt.legend(loc='upper left')\n",
        "plt.xlabel('Language')\n",
        "plt.ylabel('Count');"
      ],
      "metadata": {
        "colab": {
          "base_uri": "https://localhost:8080/",
          "height": 356
        },
        "id": "cd94TO7rEmKO",
        "outputId": "5c7fee6d-0f06-4485-9a13-72713116b22c"
      },
      "id": "cd94TO7rEmKO",
      "execution_count": null,
      "outputs": [
        {
          "output_type": "display_data",
          "data": {
            "text/plain": [
              "<Figure size 576x360 with 1 Axes>"
            ],
            "image/png": "[encoded data removed]"
          },
          "metadata": {}
        }
      ]
    },
    {
      "cell_type": "markdown",
      "source": [
        "We are seeing a difference in conversion rate between the three languages! The change in landing page design has had a big effect on English-speaking users, while the effect was less for Spanish-speaking users. There appears to be no improvement in conversion rate for the French-speaking users; it seems, instead, that *fewer* users subscribed when served the new landing page design.\n",
        "\n",
        "We should check, though, that all three languages were evenly represented in the two groups."
      ],
      "metadata": {
        "id": "FYbY7yvcnmQz"
      },
      "id": "FYbY7yvcnmQz"
    },
    {
      "cell_type": "code",
      "source": [
        "# figure setup\n",
        "plt.figure(figsize=(8,5))\n",
        "plt.title('Group Language Breakdown',fontsize=14)\n",
        "\n",
        "# countplot\n",
        "sns.countplot(data=usage,x='group',hue='language_preferred')\n",
        "plt.legend(loc='lower left')\n",
        "plt.ylabel('Count');"
      ],
      "metadata": {
        "colab": {
          "base_uri": "https://localhost:8080/",
          "height": 356
        },
        "id": "r-Rye_dHFMXQ",
        "outputId": "738784f2-54f4-4dc4-950d-1292ccc66c40"
      },
      "id": "r-Rye_dHFMXQ",
      "execution_count": null,
      "outputs": [
        {
          "output_type": "display_data",
          "data": {
            "text/plain": [
              "<Figure size 576x360 with 1 Axes>"
            ],
            "image/png": "[encoded data removed]"
          },
          "metadata": {}
        }
      ]
    },
    {
      "cell_type": "markdown",
      "source": [
        "Thankfully, the groups are evenly composed of users speaking the three languages. Turning then to our numerical variable, time, was there any difference between the three languages with respect to how much time users spent on the E-news Express landing page?"
      ],
      "metadata": {
        "id": "fyvE6Pylp909"
      },
      "id": "fyvE6Pylp909"
    },
    {
      "cell_type": "code",
      "source": [
        "# kde of time based on language\n",
        "sns.displot(data=usage,x=time,hue='language_preferred',kind='kde')\n",
        "plt.title('Time on Landing Page by Language Preference',fontsize=16)\n",
        "plt.xlabel('Time (min)');"
      ],
      "metadata": {
        "colab": {
          "base_uri": "https://localhost:8080/",
          "height": 383
        },
        "id": "sJyIGBcDCwnr",
        "outputId": "01f6a5ba-0f97-4e4d-cc3d-7c4b0803483e"
      },
      "id": "sJyIGBcDCwnr",
      "execution_count": null,
      "outputs": [
        {
          "output_type": "display_data",
          "data": {
            "text/plain": [
              "<Figure size 486.925x360 with 1 Axes>"
            ],
            "image/png": "[encoded data removed]"
          },
          "metadata": {}
        }
      ]
    },
    {
      "cell_type": "code",
      "source": [
        "# precise calculation of variance difference\n",
        "usage.groupby('language_preferred')[time].var()"
      ],
      "metadata": {
        "colab": {
          "base_uri": "https://localhost:8080/"
        },
        "id": "kpdqDRZUiVat",
        "outputId": "d8a362a4-3627-44d1-f2ac-710c656af9f0"
      },
      "id": "kpdqDRZUiVat",
      "execution_count": null,
      "outputs": [
        {
          "output_type": "execute_result",
          "data": {
            "text/plain": [
              "language_preferred\n",
              "English    6.870054\n",
              "French     7.157835\n",
              "Spanish    3.305470\n",
              "Name: time_spent_on_the_page, dtype: float64"
            ]
          },
          "metadata": {},
          "execution_count": 101
        }
      ]
    },
    {
      "cell_type": "markdown",
      "source": [
        "No, users preferring all three languages spent essentially the same amount of time, on average, on the landing page. Several important features of the plot worth noting: The time data for all three languages are normally distributed, and Spanish users seem to fall closer to the mean. That is, the density is greater in the middle for Spanish users and the variance is thus less. Our subsequent calculation further supports this observation."
      ],
      "metadata": {
        "id": "ryDkePyGgnx5"
      },
      "id": "ryDkePyGgnx5"
    },
    {
      "cell_type": "code",
      "source": [
        "# figure setup\n",
        "plt.figure(figsize=(8,5))\n",
        "plt.title('Time by Trial Group',fontsize=14)\n",
        "\n",
        "# histogram\n",
        "sns.histplot(data=usage,x=time,hue='group',kde=True)\n",
        "plt.xlabel('Time (min)');"
      ],
      "metadata": {
        "colab": {
          "base_uri": "https://localhost:8080/",
          "height": 356
        },
        "id": "Qf_CYAxBCwlH",
        "outputId": "82c6367e-fc26-480f-fe7c-c68f8a2702f1"
      },
      "id": "Qf_CYAxBCwlH",
      "execution_count": null,
      "outputs": [
        {
          "output_type": "display_data",
          "data": {
            "text/plain": [
              "<Figure size 576x360 with 1 Axes>"
            ],
            "image/png": "[encoded data removed]"
          },
          "metadata": {}
        }
      ]
    },
    {
      "cell_type": "code",
      "source": [
        "# precise mean calculation\n",
        "usage.groupby('group')[time].mean()"
      ],
      "metadata": {
        "colab": {
          "base_uri": "https://localhost:8080/"
        },
        "id": "UgVy8uxGjdhC",
        "outputId": "98e3864a-41b7-499f-a430-0cdbffc2652b"
      },
      "id": "UgVy8uxGjdhC",
      "execution_count": null,
      "outputs": [
        {
          "output_type": "execute_result",
          "data": {
            "text/plain": [
              "group\n",
              "control      4.5324\n",
              "treatment    6.2232\n",
              "Name: time_spent_on_the_page, dtype: float64"
            ]
          },
          "metadata": {},
          "execution_count": 103
        }
      ]
    },
    {
      "cell_type": "markdown",
      "source": [
        "Looking at time broken down by trial group, we see (from the KDE) that the mean time for the trial group is higher than the control. This is good! Recall that the goal of the E-news Express layout redesign was to keep people on the site longer and convert them to subscribers. Time is approximately normally distributed for both groups, with a peak around 6 minutes for the treatment group and around 4.5 minutes for the control."
      ],
      "metadata": {
        "id": "rPGAWzvghoyK"
      },
      "id": "rPGAWzvghoyK"
    },
    {
      "cell_type": "code",
      "source": [
        "# time and conversion rate\n",
        "\n",
        "# figure setup\n",
        "plt.figure(figsize=(12,5))\n",
        "plt.suptitle('Time and Conversion Rate',fontsize=20)\n",
        "\n",
        "# boxplot subplot\n",
        "plt.subplot(1,2,1)\n",
        "sns.boxplot(data=usage,x=time,y='converted')\n",
        "plt.xlabel('Time (min)')\n",
        "\n",
        "# swarmplot subplot\n",
        "plt.subplot(1,2,2)\n",
        "sns.swarmplot(data=usage,x=time,y='converted')\n",
        "plt.xlabel('Time (min)')\n",
        "\n",
        "plt.show()"
      ],
      "metadata": {
        "colab": {
          "base_uri": "https://localhost:8080/",
          "height": 375
        },
        "id": "8Nuj1OJDCwfP",
        "outputId": "f69febf4-54b9-455a-9739-0921b5995ab5"
      },
      "id": "8Nuj1OJDCwfP",
      "execution_count": null,
      "outputs": [
        {
          "output_type": "display_data",
          "data": {
            "text/plain": [
              "<Figure size 864x360 with 2 Axes>"
            ],
            "image/png": "[encoded data removed]"
          },
          "metadata": {}
        }
      ]
    },
    {
      "cell_type": "markdown",
      "source": [
        "Now looking at conversion rate, we see that spending more time on the landing page is generally a good indicator of conversion status. Since the boxplots contain outliers, we'd like a better idea of the spread and concentration of the data. We accomplish this with a swarm plot, which shows every data point. The swarm plot illustrates that non-converted users have a wider spread of times. This is supported by the wider IQR that can be observed in the boxplot. Times for converted users are generally greater with less variability."
      ],
      "metadata": {
        "id": "WA21KcmYoGg8"
      },
      "id": "WA21KcmYoGg8"
    },
    {
      "cell_type": "code",
      "source": [
        "# language differences \n",
        "sns.catplot(data=usage,\n",
        "            x='language_preferred',\n",
        "            y=time,\n",
        "            col='converted',\n",
        "            kind='box');"
      ],
      "metadata": {
        "colab": {
          "base_uri": "https://localhost:8080/",
          "height": 365
        },
        "id": "3vGg46cYx30T",
        "outputId": "c1c24686-6349-499d-e1fc-d805b6ee02fb"
      },
      "id": "3vGg46cYx30T",
      "execution_count": null,
      "outputs": [
        {
          "output_type": "display_data",
          "data": {
            "text/plain": [
              "<Figure size 720x360 with 2 Axes>"
            ],
            "image/png": "[encoded data removed]"
          },
          "metadata": {}
        }
      ]
    },
    {
      "cell_type": "markdown",
      "source": [
        "What is apparent from this plot is that time has a greater connection with conversion status than language. Generally, the time is greater for converted users than non-converted users, independent of language preference."
      ],
      "metadata": {
        "id": "Njqb4fa_qPUk"
      },
      "id": "Njqb4fa_qPUk"
    },
    {
      "cell_type": "code",
      "source": [
        "# conversion and group vs time\n",
        "sns.catplot(data=usage,\n",
        "            x='converted',\n",
        "            y=time,\n",
        "            col='group',\n",
        "            kind='box');"
      ],
      "metadata": {
        "colab": {
          "base_uri": "https://localhost:8080/",
          "height": 365
        },
        "id": "aqOC_XjJyz3s",
        "outputId": "3d79b283-5ebc-4be2-9e77-9eef1066f0bd"
      },
      "id": "aqOC_XjJyz3s",
      "execution_count": null,
      "outputs": [
        {
          "output_type": "display_data",
          "data": {
            "text/plain": [
              "<Figure size 720x360 with 2 Axes>"
            ],
            "image/png": "[encoded data removed]"
          },
          "metadata": {}
        }
      ]
    },
    {
      "cell_type": "markdown",
      "source": [
        "Here again, time is more closely connected with conversion status than trial group. We see that converted users reliably spend more time on the E-news Express landing page than non-converted users, independent of the page layout. What is of note is that the medians are higher for all users in the treatment group. Equivalently, the redesign appears to have had a positive effect on user retention."
      ],
      "metadata": {
        "id": "qRs55IuTqyF9"
      },
      "id": "qRs55IuTqyF9"
    },
    {
      "cell_type": "code",
      "source": [
        "# split violin plot of time\n",
        "sns.catplot(data=usage,\n",
        "            x=time,\n",
        "            y='language_preferred',\n",
        "            hue='group',\n",
        "            hue_order=['treatment','control'],\n",
        "            kind='violin',\n",
        "            split=True)\n",
        "plt.title('Time by Language and Group',fontsize=16)\n",
        "plt.xlabel('Time (min)')\n",
        "plt.ylabel('Language');"
      ],
      "metadata": {
        "colab": {
          "base_uri": "https://localhost:8080/",
          "height": 383
        },
        "id": "iYuqRj0Eyz06",
        "outputId": "fef83dcd-3aa9-4d60-8b28-c5c5b9ee35d1"
      },
      "id": "iYuqRj0Eyz06",
      "execution_count": null,
      "outputs": [
        {
          "output_type": "display_data",
          "data": {
            "text/plain": [
              "<Figure size 455.35x360 with 1 Axes>"
            ],
            "image/png": "[encoded data removed]"
          },
          "metadata": {}
        }
      ]
    },
    {
      "cell_type": "markdown",
      "source": [
        "Lastly, we can visualize time with respect to language preference and trial group. For all three languages, we see that users in the treatment group stay on E-news Express for longer than those in the control group; that is, the peak of the curve is greater (further to the right) for users in the treatment group. What's more, the split violin plot illuminates the differences between the languages and time, as no two languages have similar looking violins."
      ],
      "metadata": {
        "id": "Q4FSspslrlAs"
      },
      "id": "Q4FSspslrlAs"
    },
    {
      "cell_type": "markdown",
      "metadata": {
        "id": "27906576"
      },
      "source": [
        "## 1. Do the users spend more time on the new landing page than the existing landing page?"
      ],
      "id": "27906576"
    },
    {
      "cell_type": "code",
      "metadata": {
        "id": "58e9a1d0",
        "colab": {
          "base_uri": "https://localhost:8080/"
        },
        "outputId": "bf02469e-00de-4847-d213-d4081254a3f8"
      },
      "source": [
        "# initial numerical comparison\n",
        "usage.groupby('landing_page')[time].mean()"
      ],
      "id": "58e9a1d0",
      "execution_count": null,
      "outputs": [
        {
          "output_type": "execute_result",
          "data": {
            "text/plain": [
              "landing_page\n",
              "new    6.2232\n",
              "old    4.5324\n",
              "Name: time_spent_on_the_page, dtype: float64"
            ]
          },
          "metadata": {},
          "execution_count": 108
        }
      ]
    },
    {
      "cell_type": "markdown",
      "source": [
        "It appears that the mean time for the new landing page is greater than the mean time for the old landing page. Now what we must determine is whether the difference is significant."
      ],
      "metadata": {
        "id": "wg3q43qFImsL"
      },
      "id": "wg3q43qFImsL"
    },
    {
      "cell_type": "markdown",
      "metadata": {
        "id": "e5fdf0c8"
      },
      "source": [
        "### Perform Visual Analysis"
      ],
      "id": "e5fdf0c8"
    },
    {
      "cell_type": "code",
      "metadata": {
        "id": "6eZJa41eg21n",
        "colab": {
          "base_uri": "https://localhost:8080/",
          "height": 383
        },
        "outputId": "db3f4cbd-3e20-40f9-d5cc-2f27fb801cc4"
      },
      "source": [
        "# kde of time for old and new layouts\n",
        "sns.displot(data=usage,x=time,hue='landing_page',kind='kde')\n",
        "plt.title('KDE of Time Spent on Landing Page', fontsize=16)\n",
        "plt.xlabel('Time (min)');"
      ],
      "id": "6eZJa41eg21n",
      "execution_count": null,
      "outputs": [
        {
          "output_type": "display_data",
          "data": {
            "text/plain": [
              "<Figure size 449.675x360 with 1 Axes>"
            ],
            "image/png": "[encoded data removed]"
          },
          "metadata": {}
        }
      ]
    },
    {
      "cell_type": "markdown",
      "source": [
        "We have two time variables now: time for the new layout and time for the old layout. From the Kernel Density Estimate, we find that both are approximately normally distributed. Moreover, the peak of the new layout data is higher and further to the right, indicating a high concentration of data above the mean of the old layout data."
      ],
      "metadata": {
        "id": "7BxbwflILZXZ"
      },
      "id": "7BxbwflILZXZ"
    },
    {
      "cell_type": "markdown",
      "metadata": {
        "id": "56b3dafd"
      },
      "source": [
        "### Step 1: Define the null and alternate hypotheses"
      ],
      "id": "56b3dafd"
    },
    {
      "cell_type": "markdown",
      "metadata": {
        "id": "d2ac77ef"
      },
      "source": [
        "To test if the new layout does indeed make a statistically significant difference, we must assume at the outset that there is no population-level difference. That is, our null hypothesis is that the mean time for the old layout ($\\mu_{\\text{old}}$) is the same as the mean time for the new layout ($\\mu_{\\text{new}}$):\n",
        "$$ H_0: \\mu_{\\text{old}}=\\mu_{\\text{new}}.$$\n",
        "The alternative hypothesis then adresses Question 1 above, namely, do users really spend more time on E-news Express now that the layout has been redesigned? We formulate this as:\n",
        "$$ H_a: \\mu_{\\text{old}}<\\mu_{\\text{new}}.$$"
      ],
      "id": "d2ac77ef"
    },
    {
      "cell_type": "markdown",
      "metadata": {
        "id": "c7ee4907"
      },
      "source": [
        "### Step 2: Select Appropriate test"
      ],
      "id": "c7ee4907"
    },
    {
      "cell_type": "markdown",
      "metadata": {
        "id": "2c183cd7"
      },
      "source": [
        "Since the populations are independent, simply randomly sampled, and time is normally distributed (as was shown in Step 1), the two sample independent t-test is the best test to study the effect (if any) of the layout change."
      ],
      "id": "2c183cd7"
    },
    {
      "cell_type": "markdown",
      "metadata": {
        "id": "3f58c9a7"
      },
      "source": [
        "### Step 3: Decide the significance level"
      ],
      "id": "3f58c9a7"
    },
    {
      "cell_type": "markdown",
      "metadata": {
        "id": "92d7d7ee"
      },
      "source": [
        "Per the problem statement, we will be assuming a significance level of 5%."
      ],
      "id": "92d7d7ee"
    },
    {
      "cell_type": "markdown",
      "metadata": {
        "id": "5fed2eac"
      },
      "source": [
        "### Step 4: Collect and prepare data"
      ],
      "id": "5fed2eac"
    },
    {
      "cell_type": "code",
      "source": [
        "# separate out the time data\n",
        "old_time=usage[usage['landing_page']=='old'][time]\n",
        "new_time=usage[usage['landing_page']=='new'][time]"
      ],
      "metadata": {
        "id": "qsRpIvukHTlZ"
      },
      "id": "qsRpIvukHTlZ",
      "execution_count": null,
      "outputs": []
    },
    {
      "cell_type": "markdown",
      "source": [
        "We create two pandas Series with the time data for the old layout and the new layout."
      ],
      "metadata": {
        "id": "c7qdKdYPNOAM"
      },
      "id": "c7qdKdYPNOAM"
    },
    {
      "cell_type": "markdown",
      "metadata": {
        "id": "f5c5258d"
      },
      "source": [
        "### Step 5: Calculate the p-value"
      ],
      "id": "f5c5258d"
    },
    {
      "cell_type": "code",
      "metadata": {
        "id": "fac8594a",
        "colab": {
          "base_uri": "https://localhost:8080/"
        },
        "outputId": "801c93e0-dc51-4f20-dfdb-d51934bc4995"
      },
      "source": [
        "# apply the t-test\n",
        "test_stat, p_val=st.ttest_ind(old_time,\n",
        "                              new_time,\n",
        "                              equal_var=False,\n",
        "                              alternative='less')\n",
        "print('The p-value is',p_val)"
      ],
      "id": "fac8594a",
      "execution_count": null,
      "outputs": [
        {
          "output_type": "stream",
          "name": "stdout",
          "text": [
            "The p-value is 0.0001392381225166549\n"
          ]
        }
      ]
    },
    {
      "cell_type": "markdown",
      "metadata": {
        "id": "359b12f8"
      },
      "source": [
        "### Step 6: Compare the p-value with $\\alpha$"
      ],
      "id": "359b12f8"
    },
    {
      "cell_type": "code",
      "metadata": {
        "id": "7be47289",
        "colab": {
          "base_uri": "https://localhost:8080/"
        },
        "outputId": "9476b452-067a-464c-bac3-0d0ec0379b1f"
      },
      "source": [
        "p_val<0.05"
      ],
      "id": "7be47289",
      "execution_count": null,
      "outputs": [
        {
          "output_type": "execute_result",
          "data": {
            "text/plain": [
              "True"
            ]
          },
          "metadata": {},
          "execution_count": 112
        }
      ]
    },
    {
      "cell_type": "code",
      "source": [
        "0.05/p_val"
      ],
      "metadata": {
        "colab": {
          "base_uri": "https://localhost:8080/"
        },
        "id": "JY6i7SHpOItf",
        "outputId": "d0d9c06b-a020-4e08-e946-012eb7e12457"
      },
      "id": "JY6i7SHpOItf",
      "execution_count": null,
      "outputs": [
        {
          "output_type": "execute_result",
          "data": {
            "text/plain": [
              "359.0970568711832"
            ]
          },
          "metadata": {},
          "execution_count": 113
        }
      ]
    },
    {
      "cell_type": "markdown",
      "source": [
        "The p-value is indeed less than the level of significance $\\alpha$. In fact, the p-value is about 359 times smaller than $\\alpha$!!"
      ],
      "metadata": {
        "id": "Ur-KJ8cDOAah"
      },
      "id": "Ur-KJ8cDOAah"
    },
    {
      "cell_type": "markdown",
      "metadata": {
        "id": "d9affc84"
      },
      "source": [
        "### Step 7:  Draw inference"
      ],
      "id": "d9affc84"
    },
    {
      "cell_type": "markdown",
      "metadata": {
        "id": "6b16dd4b"
      },
      "source": [
        "As the p-value is less than the level of significance, we must reject the null hypothesis in favor of the alternate. Thus, the new layout does keep users on E-news Express for longer than the old layout."
      ],
      "id": "6b16dd4b"
    },
    {
      "cell_type": "markdown",
      "metadata": {
        "id": "1ad0823a"
      },
      "source": [
        "**A similar approach can be followed to answer the other questions.**"
      ],
      "id": "1ad0823a"
    },
    {
      "cell_type": "markdown",
      "metadata": {
        "id": "353e9d24"
      },
      "source": [
        "## 2. Is the conversion rate (the proportion of users who visit the landing page and get converted) for the new page greater than the conversion rate for the old page?"
      ],
      "id": "353e9d24"
    },
    {
      "cell_type": "code",
      "metadata": {
        "id": "b7f52898",
        "colab": {
          "base_uri": "https://localhost:8080/"
        },
        "outputId": "714c4ee2-06ae-4a52-c5b7-beae9adf5ba8"
      },
      "source": [
        "# numerical comparison\n",
        "usage.groupby('landing_page')['converted'].value_counts(sort=False)"
      ],
      "id": "b7f52898",
      "execution_count": null,
      "outputs": [
        {
          "output_type": "execute_result",
          "data": {
            "text/plain": [
              "landing_page     \n",
              "new           no     17\n",
              "              yes    33\n",
              "old           no     29\n",
              "              yes    21\n",
              "Name: converted, dtype: int64"
            ]
          },
          "metadata": {},
          "execution_count": 114
        }
      ]
    },
    {
      "cell_type": "markdown",
      "source": [
        "A first look at our data shows a greater conversion rate for the new layout: 66% versus 42%."
      ],
      "metadata": {
        "id": "mItT91b55zVY"
      },
      "id": "mItT91b55zVY"
    },
    {
      "cell_type": "markdown",
      "source": [
        "### Perform Visual Analysis"
      ],
      "metadata": {
        "id": "qQpeLZbgtcW3"
      },
      "id": "qQpeLZbgtcW3"
    },
    {
      "cell_type": "code",
      "source": [
        "# visual analysis\n",
        "\n",
        "# prepare figure\n",
        "plt.figure(figsize=(8,5))\n",
        "plt.title('Ratios of Landing Page Conversions',fontsize=16)\n",
        "\n",
        "# countplot\n",
        "sns.countplot(data=usage,x='landing_page',hue='converted')\n",
        "plt.xlabel('Landing Page Design')\n",
        "plt.ylabel('Count');"
      ],
      "metadata": {
        "colab": {
          "base_uri": "https://localhost:8080/",
          "height": 357
        },
        "id": "mzZcPMXfIKd1",
        "outputId": "6ce163f7-08ac-4092-eaa9-356a1b5c18ce"
      },
      "id": "mzZcPMXfIKd1",
      "execution_count": null,
      "outputs": [
        {
          "output_type": "display_data",
          "data": {
            "text/plain": [
              "<Figure size 576x360 with 1 Axes>"
            ],
            "image/png": "[encoded data removed]"
          },
          "metadata": {}
        }
      ]
    },
    {
      "cell_type": "markdown",
      "source": [
        "Indeed, the contrast noted numerically above is illustrated by the count plot. The orange bar shows converted users. The new landing page has about double the converted users as those that weren't converted, while the old landing page converted less than half the users."
      ],
      "metadata": {
        "id": "DlbAc1R666ko"
      },
      "id": "DlbAc1R666ko"
    },
    {
      "cell_type": "markdown",
      "source": [
        "### Step 1: Define the null and alternate hypotheses"
      ],
      "metadata": {
        "id": "NehrWjAotnOp"
      },
      "id": "NehrWjAotnOp"
    },
    {
      "cell_type": "markdown",
      "source": [
        "Since we are interested in whether the new layout had any effect on the conversion rate, we must assume at the outset that there is no difference. That is, we assume the conversion rate for users shown the new page ($r_{\\text{new}}$) is equal to the conversion rate for the old page ($r_{\\text{old}}$):\n",
        "$$ H_0: r_{\\text{new}}=r_{\\text{old}}.$$\n",
        "The alternate hypothesis addresses our inquiry, namely that the new rate is greater than the old rate:\n",
        "$$ H_a: r_{\\text{new}}>r_{\\text{old}}.$$"
      ],
      "metadata": {
        "id": "F_1eHHHr8HRA"
      },
      "id": "F_1eHHHr8HRA"
    },
    {
      "cell_type": "markdown",
      "source": [
        "### Step 2: Select appropriate test"
      ],
      "metadata": {
        "id": "MmkpCqP_tuZw"
      },
      "id": "MmkpCqP_tuZw"
    },
    {
      "cell_type": "markdown",
      "source": [
        "We will use the two proportion z-test. Our two populations are binomially distributed, independent, and simply randomly sampled. The last condition to satisfy is the sample size inequalities: $nr\\geq10$ and $n(1-r)\\geq10$.\n",
        "* Old: $nr_{\\text{old}}=21$, $n(1-r_{\\text{old}})=29$.\n",
        "* New: $nr_{\\text{new}}=33$, $n(1-r_{\\text{new}})=17$.\n",
        "\n",
        "Since all four values are greater than 10, we can confidently use this test."
      ],
      "metadata": {
        "id": "89wjscoe9Gg2"
      },
      "id": "89wjscoe9Gg2"
    },
    {
      "cell_type": "markdown",
      "source": [
        "### Step 3: Decide the significance level"
      ],
      "metadata": {
        "id": "365QHjTBt2Uv"
      },
      "id": "365QHjTBt2Uv"
    },
    {
      "cell_type": "markdown",
      "source": [
        "Again, the problem statement fixes the level of significance at $\\alpha=0.05$."
      ],
      "metadata": {
        "id": "Jl6UoT6XAfPs"
      },
      "id": "Jl6UoT6XAfPs"
    },
    {
      "cell_type": "markdown",
      "source": [
        "### Step 4: Collect and prepare data"
      ],
      "metadata": {
        "id": "JHr09OMot6bM"
      },
      "id": "JHr09OMot6bM"
    },
    {
      "cell_type": "code",
      "source": [
        "# prepare the conversion data\n",
        "yes=np.array([21,33])\n",
        "size=np.array([50,50])"
      ],
      "metadata": {
        "id": "mOMwaXUoAp5c"
      },
      "id": "mOMwaXUoAp5c",
      "execution_count": null,
      "outputs": []
    },
    {
      "cell_type": "markdown",
      "source": [
        "### Step 5: Calculate the p-value"
      ],
      "metadata": {
        "id": "CN923ciyt6BD"
      },
      "id": "CN923ciyt6BD"
    },
    {
      "cell_type": "code",
      "source": [
        "# two proportion independent z-test\n",
        "\n",
        "# import the required function from statsmodels\n",
        "from statsmodels.stats.proportion import proportions_ztest\n",
        "\n",
        "# test\n",
        "test_stat,p_val = proportions_ztest(yes,size)\n",
        "print('The p-value is',p_val)"
      ],
      "metadata": {
        "colab": {
          "base_uri": "https://localhost:8080/"
        },
        "id": "UJx57iPHPFQo",
        "outputId": "f2d768b9-af82-448b-afac-620b7e595480"
      },
      "id": "UJx57iPHPFQo",
      "execution_count": null,
      "outputs": [
        {
          "output_type": "stream",
          "name": "stdout",
          "text": [
            "The p-value is 0.016052616408112556\n"
          ]
        }
      ]
    },
    {
      "cell_type": "markdown",
      "source": [
        "### Step 6: Compare the p-value with $\\alpha$"
      ],
      "metadata": {
        "id": "Ey0VYt5luD02"
      },
      "id": "Ey0VYt5luD02"
    },
    {
      "cell_type": "code",
      "source": [
        "p_val<0.05"
      ],
      "metadata": {
        "colab": {
          "base_uri": "https://localhost:8080/"
        },
        "id": "WxzRCDEEAusZ",
        "outputId": "dfaf8019-a975-4944-d5b2-57aef9978947"
      },
      "id": "WxzRCDEEAusZ",
      "execution_count": null,
      "outputs": [
        {
          "output_type": "execute_result",
          "data": {
            "text/plain": [
              "True"
            ]
          },
          "metadata": {},
          "execution_count": 118
        }
      ]
    },
    {
      "cell_type": "markdown",
      "source": [
        "The p-value is less than the level of significance."
      ],
      "metadata": {
        "id": "TzlQjgoaAtZl"
      },
      "id": "TzlQjgoaAtZl"
    },
    {
      "cell_type": "markdown",
      "source": [
        "### Step 7: Draw inference"
      ],
      "metadata": {
        "id": "3lUWX5iiuKz_"
      },
      "id": "3lUWX5iiuKz_"
    },
    {
      "cell_type": "markdown",
      "source": [
        "Since the p-value is less than $\\alpha$, we reject the null hypothesis. Therefore the population conversion rates are genuinely different. In particular, the conversion rate for users served the new landing page is greater than the rate for the old page. Put another way, the E-news Express redesign has had a positive impact on subscriptions."
      ],
      "metadata": {
        "id": "Nv-R1PwBA9C1"
      },
      "id": "Nv-R1PwBA9C1"
    },
    {
      "cell_type": "markdown",
      "metadata": {
        "id": "d49bfa2d"
      },
      "source": [
        "## 3. Is the conversion and preferred language are independent or related?"
      ],
      "id": "d49bfa2d"
    },
    {
      "cell_type": "code",
      "metadata": {
        "id": "b0e63f17",
        "colab": {
          "base_uri": "https://localhost:8080/",
          "height": 206
        },
        "outputId": "facf3611-00a8-483c-ec39-aa0f9210f3bc"
      },
      "source": [
        "# contingency table WITH margins (totals)\n",
        "pd.crosstab(usage['language_preferred'],\n",
        "            usage['converted'],\n",
        "            margins=True,\n",
        "            margins_name='Totals')"
      ],
      "id": "b0e63f17",
      "execution_count": null,
      "outputs": [
        {
          "output_type": "execute_result",
          "data": {
            "text/plain": [
              "converted           no  yes  Totals\n",
              "language_preferred                 \n",
              "English             11   21      32\n",
              "French              19   15      34\n",
              "Spanish             16   18      34\n",
              "Totals              46   54     100"
            ],
            "text/html": [
              "\n",
              "  <div id=\"df-f9e3ab09-fa7a-4980-8fc0-a2dd51a20427\">\n",
              "    <div class=\"colab-df-container\">\n",
              "      <div>\n",
              "<style scoped>\n",
              "    .dataframe tbody tr th:only-of-type {\n",
              "        vertical-align: middle;\n",
              "    }\n",
              "\n",
              "    .dataframe tbody tr th {\n",
              "        vertical-align: top;\n",
              "    }\n",
              "\n",
              "    .dataframe thead th {\n",
              "        text-align: right;\n",
              "    }\n",
              "</style>\n",
              "<table border=\"1\" class=\"dataframe\">\n",
              "  <thead>\n",
              "    <tr style=\"text-align: right;\">\n",
              "      <th>converted</th>\n",
              "      <th>no</th>\n",
              "      <th>yes</th>\n",
              "      <th>Totals</th>\n",
              "    </tr>\n",
              "    <tr>\n",
              "      <th>language_preferred</th>\n",
              "      <th></th>\n",
              "      <th></th>\n",
              "      <th></th>\n",
              "    </tr>\n",
              "  </thead>\n",
              "  <tbody>\n",
              "    <tr>\n",
              "      <th>English</th>\n",
              "      <td>11</td>\n",
              "      <td>21</td>\n",
              "      <td>32</td>\n",
              "    </tr>\n",
              "    <tr>\n",
              "      <th>French</th>\n",
              "      <td>19</td>\n",
              "      <td>15</td>\n",
              "      <td>34</td>\n",
              "    </tr>\n",
              "    <tr>\n",
              "      <th>Spanish</th>\n",
              "      <td>16</td>\n",
              "      <td>18</td>\n",
              "      <td>34</td>\n",
              "    </tr>\n",
              "    <tr>\n",
              "      <th>Totals</th>\n",
              "      <td>46</td>\n",
              "      <td>54</td>\n",
              "      <td>100</td>\n",
              "    </tr>\n",
              "  </tbody>\n",
              "</table>\n",
              "</div>\n",
              "      <button class=\"colab-df-convert\" onclick=\"convertToInteractive('df-f9e3ab09-fa7a-4980-8fc0-a2dd51a20427')\"\n",
              "              title=\"Convert this dataframe to an interactive table.\"\n",
              "              style=\"display:none;\">\n",
              "        \n",
              "  <svg xmlns=\"http://www.w3.org/2000/svg\" height=\"24px\"viewBox=\"0 0 24 24\"\n",
              "       width=\"24px\">\n",
              "    <path d=\"M0 0h24v24H0V0z\" fill=\"none\"/>\n",
              "    <path d=\"M18.56 5.44l.94 2.06.94-2.06 2.06-.94-2.06-.94-.94-2.06-.94 2.06-2.06.94zm-11 1L8.5 8.5l.94-2.06 2.06-.94-2.06-.94L8.5 2.5l-.94 2.06-2.06.94zm10 10l.94 2.06.94-2.06 2.06-.94-2.06-.94-.94-2.06-.94 2.06-2.06.94z\"/><path d=\"M17.41 7.96l-1.37-1.37c-.4-.4-.92-.59-1.43-.59-.52 0-1.04.2-1.43.59L10.3 9.45l-7.72 7.72c-.78.78-.78 2.05 0 2.83L4 21.41c.39.39.9.59 1.41.59.51 0 1.02-.2 1.41-.59l7.78-7.78 2.81-2.81c.8-.78.8-2.07 0-2.86zM5.41 20L4 18.59l7.72-7.72 1.47 1.35L5.41 20z\"/>\n",
              "  </svg>\n",
              "      </button>\n",
              "      \n",
              "  <style>\n",
              "    .colab-df-container {\n",
              "      display:flex;\n",
              "      flex-wrap:wrap;\n",
              "      gap: 12px;\n",
              "    }\n",
              "\n",
              "    .colab-df-convert {\n",
              "      background-color: #E8F0FE;\n",
              "      border: none;\n",
              "      border-radius: 50%;\n",
              "      cursor: pointer;\n",
              "      display: none;\n",
              "      fill: #1967D2;\n",
              "      height: 32px;\n",
              "      padding: 0 0 0 0;\n",
              "      width: 32px;\n",
              "    }\n",
              "\n",
              "    .colab-df-convert:hover {\n",
              "      background-color: #E2EBFA;\n",
              "      box-shadow: 0px 1px 2px rgba(60, 64, 67, 0.3), 0px 1px 3px 1px rgba(60, 64, 67, 0.15);\n",
              "      fill: #174EA6;\n",
              "    }\n",
              "\n",
              "    [theme=dark] .colab-df-convert {\n",
              "      background-color: #3B4455;\n",
              "      fill: #D2E3FC;\n",
              "    }\n",
              "\n",
              "    [theme=dark] .colab-df-convert:hover {\n",
              "      background-color: #434B5C;\n",
              "      box-shadow: 0px 1px 3px 1px rgba(0, 0, 0, 0.15);\n",
              "      filter: drop-shadow(0px 1px 2px rgba(0, 0, 0, 0.3));\n",
              "      fill: #FFFFFF;\n",
              "    }\n",
              "  </style>\n",
              "\n",
              "      <script>\n",
              "        const buttonEl =\n",
              "          document.querySelector('#df-f9e3ab09-fa7a-4980-8fc0-a2dd51a20427 button.colab-df-convert');\n",
              "        buttonEl.style.display =\n",
              "          google.colab.kernel.accessAllowed ? 'block' : 'none';\n",
              "\n",
              "        async function convertToInteractive(key) {\n",
              "          const element = document.querySelector('#df-f9e3ab09-fa7a-4980-8fc0-a2dd51a20427');\n",
              "          const dataTable =\n",
              "            await google.colab.kernel.invokeFunction('convertToInteractive',\n",
              "                                                     [key], {});\n",
              "          if (!dataTable) return;\n",
              "\n",
              "          const docLinkHtml = 'Like what you see? Visit the ' +\n",
              "            '<a target=\"_blank\" href=https://colab.research.google.com/notebooks/data_table.ipynb>data table notebook</a>'\n",
              "            + ' to learn more about interactive tables.';\n",
              "          element.innerHTML = '';\n",
              "          dataTable['output_type'] = 'display_data';\n",
              "          await google.colab.output.renderOutput(dataTable, element);\n",
              "          const docLink = document.createElement('div');\n",
              "          docLink.innerHTML = docLinkHtml;\n",
              "          element.appendChild(docLink);\n",
              "        }\n",
              "      </script>\n",
              "    </div>\n",
              "  </div>\n",
              "  "
            ]
          },
          "metadata": {},
          "execution_count": 119
        }
      ]
    },
    {
      "cell_type": "markdown",
      "source": [
        "Here is a contingency table of the data with totals in the final row and column."
      ],
      "metadata": {
        "id": "IZGHgPbx69Dq"
      },
      "id": "IZGHgPbx69Dq"
    },
    {
      "cell_type": "markdown",
      "source": [
        "### Perform visual analysis"
      ],
      "metadata": {
        "id": "eQcdJdc0uSPi"
      },
      "id": "eQcdJdc0uSPi"
    },
    {
      "cell_type": "code",
      "source": [
        "# figure setup\n",
        "plt.figure(figsize=(8,5))\n",
        "plt.title('Heatmap of Contingency Table',fontsize=16)\n",
        "\n",
        "# heatmap\n",
        "sns.heatmap(pd.crosstab(usage['language_preferred'],\n",
        "            usage['converted']),\n",
        "            annot=True,\n",
        "            vmin=0,\n",
        "            vmax=25)\n",
        "plt.xlabel('Converted')\n",
        "plt.ylabel('Language');"
      ],
      "metadata": {
        "colab": {
          "base_uri": "https://localhost:8080/",
          "height": 357
        },
        "id": "DDpfWLAc7Fuh",
        "outputId": "c722e505-29a0-4690-da1f-10df5d718c2d"
      },
      "id": "DDpfWLAc7Fuh",
      "execution_count": null,
      "outputs": [
        {
          "output_type": "display_data",
          "data": {
            "text/plain": [
              "<Figure size 576x360 with 2 Axes>"
            ],
            "image/png": "[encoded data removed]"
          },
          "metadata": {}
        }
      ]
    },
    {
      "cell_type": "markdown",
      "source": [
        "Above is a heatmap of the contingency table data. A darker color represents fewer observations in the data. The highest value (lightest color) is 21 and the lowest value (darkest color) is 11, both associated with English data."
      ],
      "metadata": {
        "id": "mwwa6K_L8Bi4"
      },
      "id": "mwwa6K_L8Bi4"
    },
    {
      "cell_type": "markdown",
      "source": [
        "### Step 1: Define the null and alternate hypotheses"
      ],
      "metadata": {
        "id": "tHr7BKoNuSkS"
      },
      "id": "tHr7BKoNuSkS"
    },
    {
      "cell_type": "markdown",
      "source": [
        "We are interested in whether conversion status and language preference are related variables. We will assume at the outset that they are not:\n",
        "$$ H_0: \\text{conversion status and language are independent}.$$\n",
        "\n",
        "Otherwise, they must be related:\n",
        "$$ H_a: \\text{conversion status depends on language}.$$"
      ],
      "metadata": {
        "id": "4at_vxV08TRC"
      },
      "id": "4at_vxV08TRC"
    },
    {
      "cell_type": "markdown",
      "source": [
        "### Step 2: Select appropriate test"
      ],
      "metadata": {
        "id": "uLppmqvIuSkT"
      },
      "id": "uLppmqvIuSkT"
    },
    {
      "cell_type": "markdown",
      "source": [
        "We are studying the connection of two randomly sampled categorical variables. Since the number of observations in each category is greater than 5, the best test is the chi-squared test of independence."
      ],
      "metadata": {
        "id": "W-ruGTLG83bP"
      },
      "id": "W-ruGTLG83bP"
    },
    {
      "cell_type": "markdown",
      "source": [
        "### Step 3: Decide the significance level"
      ],
      "metadata": {
        "id": "HKty2LKsuSkT"
      },
      "id": "HKty2LKsuSkT"
    },
    {
      "cell_type": "markdown",
      "source": [
        "We assume a significance level of $\\alpha=0.05$."
      ],
      "metadata": {
        "id": "BXzqY0D29p1i"
      },
      "id": "BXzqY0D29p1i"
    },
    {
      "cell_type": "markdown",
      "source": [
        "### Step 4: Collect and prepare data"
      ],
      "metadata": {
        "id": "99mCDziquSkT"
      },
      "id": "99mCDziquSkT"
    },
    {
      "cell_type": "code",
      "source": [
        "# generate the contingency table\n",
        "contingency=pd.crosstab(usage['language_preferred'],usage['converted'])"
      ],
      "metadata": {
        "id": "XFcJGjX2ujbX"
      },
      "id": "XFcJGjX2ujbX",
      "execution_count": null,
      "outputs": []
    },
    {
      "cell_type": "markdown",
      "source": [
        "### Step 5: Calculate the p-value"
      ],
      "metadata": {
        "id": "E2t5nY5_uSkT"
      },
      "id": "E2t5nY5_uSkT"
    },
    {
      "cell_type": "code",
      "source": [
        "# chi squared test for independence\n",
        "a, p_val, b, c =st.chi2_contingency(contingency)\n",
        "print('The p-value is',p_val)"
      ],
      "metadata": {
        "colab": {
          "base_uri": "https://localhost:8080/"
        },
        "id": "UhQxxEGYUWtC",
        "outputId": "33c61777-a025-49e0-91ce-c2cdbc0509b3"
      },
      "id": "UhQxxEGYUWtC",
      "execution_count": null,
      "outputs": [
        {
          "output_type": "stream",
          "name": "stdout",
          "text": [
            "The p-value is 0.2129888748754345\n"
          ]
        }
      ]
    },
    {
      "cell_type": "markdown",
      "source": [
        "### Step 6: Compare the p-value with $\\alpha$"
      ],
      "metadata": {
        "id": "D9xxNYqPuSkT"
      },
      "id": "D9xxNYqPuSkT"
    },
    {
      "cell_type": "code",
      "source": [
        "p_val<0.05"
      ],
      "metadata": {
        "colab": {
          "base_uri": "https://localhost:8080/"
        },
        "id": "dKSEO-vZ9wSh",
        "outputId": "ebb69408-90d6-4d6f-b543-a854a0bd3b3e"
      },
      "id": "dKSEO-vZ9wSh",
      "execution_count": null,
      "outputs": [
        {
          "output_type": "execute_result",
          "data": {
            "text/plain": [
              "False"
            ]
          },
          "metadata": {},
          "execution_count": 123
        }
      ]
    },
    {
      "cell_type": "markdown",
      "source": [
        "The p-value is greater than $\\alpha$."
      ],
      "metadata": {
        "id": "aF9JTJJx9zix"
      },
      "id": "aF9JTJJx9zix"
    },
    {
      "cell_type": "markdown",
      "source": [
        "### Step 7: Draw inference"
      ],
      "metadata": {
        "id": "AGp2ij9suSkT"
      },
      "id": "AGp2ij9suSkT"
    },
    {
      "cell_type": "markdown",
      "source": [
        "Since the p-value is greater than $\\alpha$, we fail to reject the null hypothesis. Therefore we cannot conclude that conversion status and language preference are related."
      ],
      "metadata": {
        "id": "OE34bWZx9vt5"
      },
      "id": "OE34bWZx9vt5"
    },
    {
      "cell_type": "markdown",
      "metadata": {
        "id": "8d585a90"
      },
      "source": [
        "## 4. Is the time spent on the new page same for the different language users?"
      ],
      "id": "8d585a90"
    },
    {
      "cell_type": "code",
      "source": [
        "usage.groupby(['landing_page','language_preferred'])[time].mean()['new']"
      ],
      "metadata": {
        "colab": {
          "base_uri": "https://localhost:8080/"
        },
        "id": "5FfbvGduuD0J",
        "outputId": "80fd59b2-21b7-4ea0-c0c3-ffaabde1d1ab"
      },
      "id": "5FfbvGduuD0J",
      "execution_count": null,
      "outputs": [
        {
          "output_type": "execute_result",
          "data": {
            "text/plain": [
              "language_preferred\n",
              "English    6.663750\n",
              "French     6.196471\n",
              "Spanish    5.835294\n",
              "Name: time_spent_on_the_page, dtype: float64"
            ]
          },
          "metadata": {},
          "execution_count": 124
        }
      ]
    },
    {
      "cell_type": "markdown",
      "source": [
        "There's certainly a difference, albeit small, between the mean times for the three languages on the new E-news Express landing page."
      ],
      "metadata": {
        "id": "F4FjO77uvM4p"
      },
      "id": "F4FjO77uvM4p"
    },
    {
      "cell_type": "markdown",
      "source": [
        "### Perform visual analysis"
      ],
      "metadata": {
        "id": "uif-zv7KuT8W"
      },
      "id": "uif-zv7KuT8W"
    },
    {
      "cell_type": "code",
      "source": [
        "# figure setup\n",
        "plt.figure(figsize=(8,5))\n",
        "plt.title('Time on New Landing Page by Language',fontsize=16)\n",
        "\n",
        "# boxplot\n",
        "sns.boxplot(data=usage.loc[usage['landing_page']=='new'],\n",
        "            x=time,\n",
        "            y='language_preferred')\n",
        "plt.xlabel('Time (min)')\n",
        "plt.ylabel('Language');"
      ],
      "metadata": {
        "colab": {
          "base_uri": "https://localhost:8080/",
          "height": 357
        },
        "id": "1Lu80tJZw0Pz",
        "outputId": "02207bbf-33d1-417e-9daa-7f747f8d6831"
      },
      "id": "1Lu80tJZw0Pz",
      "execution_count": null,
      "outputs": [
        {
          "output_type": "display_data",
          "data": {
            "text/plain": [
              "<Figure size 576x360 with 1 Axes>"
            ],
            "image/png": "[encoded data removed]"
          },
          "metadata": {}
        }
      ]
    },
    {
      "cell_type": "code",
      "source": [
        "# kde of time for different languages\n",
        "sns.displot(data=usage.loc[usage['landing_page']=='new'],\n",
        "            x=time,\n",
        "            hue='language_preferred',\n",
        "            kind='kde')\n",
        "plt.title('Time on New Landing Page by Language',fontsize=16)\n",
        "plt.xlabel('Time (min)');"
      ],
      "metadata": {
        "colab": {
          "base_uri": "https://localhost:8080/",
          "height": 383
        },
        "id": "lkN5c3THyE5E",
        "outputId": "8ff7f931-55e0-4c45-fba2-90abb33eeba1"
      },
      "id": "lkN5c3THyE5E",
      "execution_count": null,
      "outputs": [
        {
          "output_type": "display_data",
          "data": {
            "text/plain": [
              "<Figure size 486.925x360 with 1 Axes>"
            ],
            "image/png": "[encoded data removed]"
          },
          "metadata": {}
        }
      ]
    },
    {
      "cell_type": "markdown",
      "source": [
        "There is clear visual separation of the time data for the three languages. What's striking though is the contrast between the boxplot and the KDE plot: While the medians (in the boxplot) are quite variable, the means (in the KDE plot) are more concentrated. In the boxplot, the data looks far more variable, with differing ranges and outliers."
      ],
      "metadata": {
        "id": "lDqg7y8ezV8W"
      },
      "id": "lDqg7y8ezV8W"
    },
    {
      "cell_type": "markdown",
      "source": [
        "### Step 1: Define the null and alternate hypotheses"
      ],
      "metadata": {
        "id": "cjpRzddtuUUB"
      },
      "id": "cjpRzddtuUUB"
    },
    {
      "cell_type": "markdown",
      "source": [
        "We suppose at the outset that there is no population-level difference in the time spent on the new landing page for all three languages:\n",
        "$$ H_0: \\mu_E=\\mu_F=\\mu_S,$$\n",
        "where the quantities are the mean time for English, French, and Spanish respectively. The alternate hypothesis is that there is some difference:\n",
        "$$ H_a: \\text{at least one mean differs}.$$"
      ],
      "metadata": {
        "id": "-X7oDjCXz2uv"
      },
      "id": "-X7oDjCXz2uv"
    },
    {
      "cell_type": "markdown",
      "source": [
        "### Step 2: Collect and prepare data"
      ],
      "metadata": {
        "id": "SlYWI2PruUUB"
      },
      "id": "SlYWI2PruUUB"
    },
    {
      "cell_type": "code",
      "source": [
        "# define a new DataFrame for just new landing page data\n",
        "usage_new=usage.loc[usage['landing_page']=='new']\n",
        "\n",
        "# define pandas Series of time for each language\n",
        "en_time=usage_new[usage_new['language_preferred']=='English'][time]\n",
        "fr_time=usage_new[usage_new['language_preferred']=='French'][time]\n",
        "sp_time=usage_new[usage_new['language_preferred']=='Spanish'][time]"
      ],
      "metadata": {
        "id": "5bHFF5jEn7bb"
      },
      "id": "5bHFF5jEn7bb",
      "execution_count": null,
      "outputs": []
    },
    {
      "cell_type": "markdown",
      "source": [
        "In this case, as we will need these collected and prepared data to run the Shapiro-Wilk test and the Levene test, we complete this step first."
      ],
      "metadata": {
        "id": "ZWEfU-1-pnvV"
      },
      "id": "ZWEfU-1-pnvV"
    },
    {
      "cell_type": "markdown",
      "source": [
        "### Step 3: Select appropriate test"
      ],
      "metadata": {
        "id": "wUOwaTKfuUUB"
      },
      "id": "wUOwaTKfuUUB"
    },
    {
      "cell_type": "markdown",
      "source": [
        "In the case of comparing more than two means, we require the ANOVA test. To invoke this test, however, a number of assumptions must be satisfied:\n",
        "* independent simple random samples,\n",
        "* normally distributed populations, and\n",
        "* common population variances.\n",
        "\n",
        "The first assumption is satisfied since the entire data set was simply randomly sampled and users are independent.\n",
        "\n",
        "For the second assumption, we use the Shapiro-Wilk test. We assume a level of significance of 5% for this test. Our hypotheses are:\n",
        "$$ H_0: \\text{time data for the new landing page is normally distributed};$$\n",
        "$$ H_a: \\text{time data for the new landing page is NOT normally distributed}.$$"
      ],
      "metadata": {
        "id": "RzbE2KFf0rW-"
      },
      "id": "RzbE2KFf0rW-"
    },
    {
      "cell_type": "code",
      "source": [
        "# shapiro-wilk test\n",
        "a, p_val=st.shapiro(usage_new[time])\n",
        "print('The p-value is',p_val)"
      ],
      "metadata": {
        "colab": {
          "base_uri": "https://localhost:8080/"
        },
        "id": "_modaDfb3b9o",
        "outputId": "19ecd411-0149-4cad-f081-21a2313147cc"
      },
      "id": "_modaDfb3b9o",
      "execution_count": null,
      "outputs": [
        {
          "output_type": "stream",
          "name": "stdout",
          "text": [
            "The p-value is 0.8040016293525696\n"
          ]
        }
      ]
    },
    {
      "cell_type": "markdown",
      "source": [
        "With a p-value of 0.8, we fail to reject the null hypothesis. Thus, time data for the new E-news Express landing page is normally distributed.\n",
        "\n",
        "Now we must test that the populations (different languages) have equal variances. We accomplish this with the Levene test. Our hypotheses:\n",
        "$$ H_0: \\text{all three languages have equal variance};$$\n",
        "$$ H_a: \\text{at least one population has a different variance}.$$"
      ],
      "metadata": {
        "id": "rwmqXIMBjhla"
      },
      "id": "rwmqXIMBjhla"
    },
    {
      "cell_type": "code",
      "source": [
        "# levene test\n",
        "a, p_val=st.levene(en_time,fr_time,sp_time)\n",
        "print('The p-value is',p_val)"
      ],
      "metadata": {
        "colab": {
          "base_uri": "https://localhost:8080/"
        },
        "id": "8GF4Wu-mp5SP",
        "outputId": "98958f1e-bcaf-4956-d124-f24d3e18d962"
      },
      "id": "8GF4Wu-mp5SP",
      "execution_count": null,
      "outputs": [
        {
          "output_type": "stream",
          "name": "stdout",
          "text": [
            "The p-value is 0.46711357711340173\n"
          ]
        }
      ]
    },
    {
      "cell_type": "markdown",
      "source": [
        "With a p-value of 0.47, we fail to reject the null hypothesis, and can therefore assume that the time data for all three languages have equal variance."
      ],
      "metadata": {
        "id": "pNiPokEfqKPv"
      },
      "id": "pNiPokEfqKPv"
    },
    {
      "cell_type": "markdown",
      "source": [
        "### Step 4: Decide the significance level"
      ],
      "metadata": {
        "id": "zkM761AmuUUB"
      },
      "id": "zkM761AmuUUB"
    },
    {
      "cell_type": "markdown",
      "source": [
        "From the problem statement, we assume a significance level of $\\alpha=0.05$."
      ],
      "metadata": {
        "id": "XoAkMk21qcuj"
      },
      "id": "XoAkMk21qcuj"
    },
    {
      "cell_type": "markdown",
      "source": [
        "### Step 5: Calculate the p-value"
      ],
      "metadata": {
        "id": "Crm8f00IuUUB"
      },
      "id": "Crm8f00IuUUB"
    },
    {
      "cell_type": "code",
      "metadata": {
        "id": "b422f395",
        "colab": {
          "base_uri": "https://localhost:8080/"
        },
        "outputId": "e79a786f-f749-416e-91f8-1720ddee81d1"
      },
      "source": [
        "# one-way anova test\n",
        "a,p_val=st.f_oneway(en_time,fr_time,sp_time)\n",
        "print('The p-value is',p_val)"
      ],
      "id": "b422f395",
      "execution_count": null,
      "outputs": [
        {
          "output_type": "stream",
          "name": "stdout",
          "text": [
            "The p-value is 0.43204138694325955\n"
          ]
        }
      ]
    },
    {
      "cell_type": "markdown",
      "source": [
        "### Step 6: Compare the p-value with $\\alpha$"
      ],
      "metadata": {
        "id": "H_-2gyYfuUUB"
      },
      "id": "H_-2gyYfuUUB"
    },
    {
      "cell_type": "code",
      "source": [
        "p_val<0.05"
      ],
      "metadata": {
        "colab": {
          "base_uri": "https://localhost:8080/"
        },
        "id": "C_5Wg5ki6PkY",
        "outputId": "d3760469-cbeb-4348-92f4-bfb8b4d1fd72"
      },
      "id": "C_5Wg5ki6PkY",
      "execution_count": null,
      "outputs": [
        {
          "output_type": "execute_result",
          "data": {
            "text/plain": [
              "False"
            ]
          },
          "metadata": {},
          "execution_count": 131
        }
      ]
    },
    {
      "cell_type": "markdown",
      "source": [
        "Our p-value of 0.43 is greater than $\\alpha$."
      ],
      "metadata": {
        "id": "rk3BL6q46JJS"
      },
      "id": "rk3BL6q46JJS"
    },
    {
      "cell_type": "markdown",
      "source": [
        "### Step 7: Draw inference"
      ],
      "metadata": {
        "id": "zhBCmsDpuUUB"
      },
      "id": "zhBCmsDpuUUB"
    },
    {
      "cell_type": "markdown",
      "source": [
        "We fail to reject the null hypothesis. We do not have strong evidence to conclude there is a difference between the time spent on the new landing page for the different language users."
      ],
      "metadata": {
        "id": "EM-q_jWI6TKb"
      },
      "id": "EM-q_jWI6TKb"
    },
    {
      "cell_type": "markdown",
      "metadata": {
        "id": "3acbc947"
      },
      "source": [
        "## Conclusion and Business Recommendations"
      ],
      "id": "3acbc947"
    },
    {
      "cell_type": "markdown",
      "metadata": {
        "id": "21fb1063"
      },
      "source": [
        "* E-news Express users shown the new landing page stay on the site for longer.\n",
        "* The redesign had the intended effect: The new landing page has a higher conversion rate for subscribers than the old page. \n",
        "* Language preference is not a factor influencing conversion rate.\n",
        "* The time spent on the new page is likely the same for all three languages. More precisely, our evidence is not strong enough to conclude that different languages lead to (statistically significant) different times.\n",
        "* I recommend E-news Express conduct additional testing to quantify the relationship between time on landing page and conversion rate. What percent increase in conversion rate is observed for each additional minute a user spends on the landing page?\n",
        "* E-news Express could do an analysis of the type of stories that gets the greatest conversion rate. Some genres could include breaking news, gossip, opinion pieces, or politics. If the data science team determined that, for example, political stories garnered more subscribers, E-news Express could focus more on these stories. This facet could even differ by language or region of users.\n",
        "* E-news Express could next look at subscription pricing. There is likely an optimal price: high enough to make a profit but low enough to encourage the greatest number of users to subscribe. An analysis could be performed, based on survey data, to determine the ideal subscription price.\n",
        "* The data science team could offer a sign-up discount for the first month of subscriptions and measure whether this leads to an increase in the conversion rate. This could be accomplished through A/B testing, where some users are shown a pop-up offering the discount if they sign up now, while others do not get this pop-up. Further, more detailed analyses, could examine what percent discount is optimal."
      ],
      "id": "21fb1063"
    },
    {
      "cell_type": "markdown",
      "source": [
        "___"
      ],
      "metadata": {
        "id": "U0dAd4i0iCHo"
      },
      "id": "U0dAd4i0iCHo"
    }
  ]
}